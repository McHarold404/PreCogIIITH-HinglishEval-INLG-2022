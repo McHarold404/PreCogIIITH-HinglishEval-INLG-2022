{
 "cells": [
  {
   "cell_type": "code",
   "execution_count": 1,
   "id": "2f7d281b-ea94-4a21-9fe0-536641a4a355",
   "metadata": {},
   "outputs": [],
   "source": [
    "import numpy as np\n",
    "import torch\n",
    "import pickle as pkl\n",
    "import scipy"
   ]
  },
  {
   "cell_type": "code",
   "execution_count": null,
   "id": "6e7dd099-097b-417a-8085-37a06acff994",
   "metadata": {},
   "outputs": [],
   "source": [
    "trh = torch.load('train.human.pt').cpu().numpy()\n",
    "trs = torch.load('train.synth.pt').cpu().numpy()\n",
    "teh = torch.load('test.human.pt').cpu().numpy()\n",
    "tes = torch.load('test.synth.pt').cpu().numpy()"
   ]
  },
  {
   "cell_type": "code",
   "execution_count": 5,
   "id": "779a63be-b456-4ec0-a631-2147dc76b581",
   "metadata": {},
   "outputs": [],
   "source": [
    "from scipy.spatial.distance import euclidean, cityblock"
   ]
  },
  {
   "cell_type": "code",
   "execution_count": null,
   "id": "4a222697-93eb-4fc4-b9b4-db7fb2081150",
   "metadata": {},
   "outputs": [],
   "source": [
    "tr_eu = []\n",
    "tr_ci = []\n",
    "te_eu = []\n",
    "te_ci = []\n",
    "\n",
    "for i in range(len(trh)):\n",
    "    tr_eu.append(euclidean(trh[i], trs[i]))\n",
    "    tr_ci.append(cityblock(trh[i], trs[i]))\n",
    "\n",
    "for i in range(len(teh)):\n",
    "    te_eu.append(euclidean(teh[i], tes[i]))\n",
    "    te_ci.append(euclidean(teh[i], tes[i]))"
   ]
  },
  {
   "cell_type": "code",
   "execution_count": null,
   "id": "c82f65f7-3322-4dde-ba15-bf727f2ef441",
   "metadata": {},
   "outputs": [],
   "source": [
    "with open('l2_train.pkl', 'wb') as f:\n",
    "    pkl.dump(tr_eu, f)\n",
    "\n",
    "with open('l2_test.pkl', 'wb') as f:\n",
    "    pkl.dump(te_eu, f)\n",
    "\n",
    "with open('l1_train.pkl', 'wb') as f:\n",
    "    pkl.dump(tr_ci, f)\n",
    "    \n",
    "with open('l1_test.pkl', 'wb') as f:\n",
    "    pkl.dump(te_ci, f)"
   ]
  }
 ],
 "metadata": {
  "kernelspec": {
   "display_name": "Python [conda env:nlp] *",
   "language": "python",
   "name": "conda-env-nlp-py"
  },
  "language_info": {
   "codemirror_mode": {
    "name": "ipython",
    "version": 3
   },
   "file_extension": ".py",
   "mimetype": "text/x-python",
   "name": "python",
   "nbconvert_exporter": "python",
   "pygments_lexer": "ipython3",
   "version": "3.7.10"
  }
 },
 "nbformat": 4,
 "nbformat_minor": 5
}
