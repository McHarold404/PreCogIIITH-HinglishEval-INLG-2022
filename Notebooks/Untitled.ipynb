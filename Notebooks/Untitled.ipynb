{
 "cells": [
  {
   "cell_type": "code",
   "execution_count": 4,
   "id": "da95da86-6dd7-49d8-be68-04b463d19313",
   "metadata": {
    "execution": {
     "iopub.execute_input": "2022-05-01T11:50:25.719045Z",
     "iopub.status.busy": "2022-05-01T11:50:25.718743Z",
     "iopub.status.idle": "2022-05-01T11:50:25.722675Z",
     "shell.execute_reply": "2022-05-01T11:50:25.722204Z",
     "shell.execute_reply.started": "2022-05-01T11:50:25.719020Z"
    },
    "tags": []
   },
   "outputs": [],
   "source": [
    "import os, sys, re, pickle\n",
    "import pandas as pd\n",
    "import numpy as np\n",
    "\n",
    "import os.path as osp\n",
    "\n",
    "datafolderpath = \"/home/prashantk/INLG-shared-task/dataset\"\n",
    "train_csv = \"train.csv\"\n",
    "valid_csv = \"valid.csv\"\n",
    "train_human_pkl = \"train_human_generated.pkl\"\n",
    "valid_human_pkl = \"valid_human_generated.pkl\""
   ]
  },
  {
   "cell_type": "code",
   "execution_count": 29,
   "id": "4ca4e6af-f896-4f7b-8f5d-a51a56f88d73",
   "metadata": {
    "execution": {
     "iopub.execute_input": "2022-05-01T11:59:06.133570Z",
     "iopub.status.busy": "2022-05-01T11:59:06.133268Z",
     "iopub.status.idle": "2022-05-01T11:59:06.289350Z",
     "shell.execute_reply": "2022-05-01T11:59:06.288727Z",
     "shell.execute_reply.started": "2022-05-01T11:59:06.133546Z"
    },
    "tags": []
   },
   "outputs": [
    {
     "data": {
      "text/plain": [
       "(2766, 6)"
      ]
     },
     "execution_count": 29,
     "metadata": {},
     "output_type": "execute_result"
    }
   ],
   "source": [
    "traindf = pd.read_csv(osp.join(datafolderpath, train_csv))\n",
    "train_hum_gen_map = pickle.load(open(osp.join(datafolderpath, train_human_pkl), 'rb'))\n",
    "hum_generated_column = []\n",
    "\n",
    "for ind, row in traindf.iterrows():\n",
    "    hum_generated_column.append(train_hum_gen_map[row[\"English\"]])\n",
    "\n",
    "traindf[\"hum_gen\"] = hum_generated_column\n",
    "    \n",
    "traindf.shape"
   ]
  },
  {
   "cell_type": "code",
   "execution_count": 30,
   "id": "d8367a31-1032-4820-9617-152f40ccd5e0",
   "metadata": {
    "execution": {
     "iopub.execute_input": "2022-05-01T11:59:59.510238Z",
     "iopub.status.busy": "2022-05-01T11:59:59.509943Z",
     "iopub.status.idle": "2022-05-01T11:59:59.565831Z",
     "shell.execute_reply": "2022-05-01T11:59:59.565288Z",
     "shell.execute_reply.started": "2022-05-01T11:59:59.510214Z"
    },
    "tags": []
   },
   "outputs": [
    {
     "data": {
      "text/plain": [
       "(395, 4)"
      ]
     },
     "execution_count": 30,
     "metadata": {},
     "output_type": "execute_result"
    }
   ],
   "source": [
    "valdf = pd.read_csv(osp.join(datafolderpath, valid_csv))\n",
    "val_hum_gen_map = pickle.load(open(osp.join(datafolderpath, valid_human_pkl), 'rb'))\n",
    "\n",
    "hum_generated_column = []\n",
    "\n",
    "for ind, row in valdf.iterrows():\n",
    "    hum_generated_column.append(val_hum_gen_map[row[\"English\"]])\n",
    "\n",
    "valdf[\"hum_gen\"] = hum_generated_column\n",
    "    \n",
    "valdf.shape"
   ]
  },
  {
   "cell_type": "code",
   "execution_count": 31,
   "id": "fb05cc11-7db0-4fe6-a91d-91bd6abb7310",
   "metadata": {
    "execution": {
     "iopub.execute_input": "2022-05-01T12:00:07.178611Z",
     "iopub.status.busy": "2022-05-01T12:00:07.178327Z",
     "iopub.status.idle": "2022-05-01T12:00:07.188838Z",
     "shell.execute_reply": "2022-05-01T12:00:07.188288Z",
     "shell.execute_reply.started": "2022-05-01T12:00:07.178586Z"
    },
    "tags": []
   },
   "outputs": [
    {
     "data": {
      "text/html": [
       "<div>\n",
       "<style scoped>\n",
       "    .dataframe tbody tr th:only-of-type {\n",
       "        vertical-align: middle;\n",
       "    }\n",
       "\n",
       "    .dataframe tbody tr th {\n",
       "        vertical-align: top;\n",
       "    }\n",
       "\n",
       "    .dataframe thead th {\n",
       "        text-align: right;\n",
       "    }\n",
       "</style>\n",
       "<table border=\"1\" class=\"dataframe\">\n",
       "  <thead>\n",
       "    <tr style=\"text-align: right;\">\n",
       "      <th></th>\n",
       "      <th>English</th>\n",
       "      <th>Hindi</th>\n",
       "      <th>Hinglish</th>\n",
       "      <th>Average rating</th>\n",
       "      <th>Disagreement</th>\n",
       "      <th>hum_gen</th>\n",
       "    </tr>\n",
       "  </thead>\n",
       "  <tbody>\n",
       "    <tr>\n",
       "      <th>0</th>\n",
       "      <td>Program module is a file that contains instruc...</td>\n",
       "      <td>माड्यूल, एक संचिका होती है, जिसमें या तो स्रोत...</td>\n",
       "      <td>module , ek program hoti hai , jismen ya to so...</td>\n",
       "      <td>7</td>\n",
       "      <td>6</td>\n",
       "      <td>[Program module ek sanchika hoti hai, jisme ya...</td>\n",
       "    </tr>\n",
       "    <tr>\n",
       "      <th>1</th>\n",
       "      <td>And to Thamud We sent their brother Sali 'h. H...</td>\n",
       "      <td>और (हमने) क़ौमे समूद के पास उनके भाई सालेह को ...</td>\n",
       "      <td>aur hamne aume samood ke pas unke bhaee saleh ...</td>\n",
       "      <td>6</td>\n",
       "      <td>4</td>\n",
       "      <td>[Aur humne unke bhai Salih ko Thamud ke paas b...</td>\n",
       "    </tr>\n",
       "    <tr>\n",
       "      <th>2</th>\n",
       "      <td>and, when reminded, do not remember\\n</td>\n",
       "      <td>और जब उन्हें याद दिलाया जाता है, तो वे याद नही...</td>\n",
       "      <td>aur jab unhen yad dilaya jata hai , to ve yad ...</td>\n",
       "      <td>10</td>\n",
       "      <td>0</td>\n",
       "      <td>[And jab remind karaya jaata hai, then they do...</td>\n",
       "    </tr>\n",
       "    <tr>\n",
       "      <th>3</th>\n",
       "      <td>you won the TED Prize 2011.\\n</td>\n",
       "      <td>तुम्हें २०११ का टेड प्राइज़ मिल गया है.\\n</td>\n",
       "      <td>tumhen २०११ ka ted prize mil gaya hai\\n</td>\n",
       "      <td>9</td>\n",
       "      <td>1</td>\n",
       "      <td>[tumhe TED Prize 2011 mil gaya hai.\\n, You won...</td>\n",
       "    </tr>\n",
       "    <tr>\n",
       "      <th>4</th>\n",
       "      <td>He gone to Kerodemal College of Delhi Universi...</td>\n",
       "      <td>उन्होंने बाद अध्ययन करने के लिए ये दिल्ली विश्...</td>\n",
       "      <td>unhonne bad science karne ke lie ye delhi univ...</td>\n",
       "      <td>7</td>\n",
       "      <td>0</td>\n",
       "      <td>[Unhone baad adhyayan karne ke liye ye Delhi U...</td>\n",
       "    </tr>\n",
       "  </tbody>\n",
       "</table>\n",
       "</div>"
      ],
      "text/plain": [
       "                                             English  \\\n",
       "0  Program module is a file that contains instruc...   \n",
       "1  And to Thamud We sent their brother Sali 'h. H...   \n",
       "2              and, when reminded, do not remember\\n   \n",
       "3                      you won the TED Prize 2011.\\n   \n",
       "4  He gone to Kerodemal College of Delhi Universi...   \n",
       "\n",
       "                                               Hindi  \\\n",
       "0  माड्यूल, एक संचिका होती है, जिसमें या तो स्रोत...   \n",
       "1  और (हमने) क़ौमे समूद के पास उनके भाई सालेह को ...   \n",
       "2  और जब उन्हें याद दिलाया जाता है, तो वे याद नही...   \n",
       "3          तुम्हें २०११ का टेड प्राइज़ मिल गया है.\\n   \n",
       "4  उन्होंने बाद अध्ययन करने के लिए ये दिल्ली विश्...   \n",
       "\n",
       "                                            Hinglish  Average rating  \\\n",
       "0  module , ek program hoti hai , jismen ya to so...               7   \n",
       "1  aur hamne aume samood ke pas unke bhaee saleh ...               6   \n",
       "2  aur jab unhen yad dilaya jata hai , to ve yad ...              10   \n",
       "3            tumhen २०११ ka ted prize mil gaya hai\\n               9   \n",
       "4  unhonne bad science karne ke lie ye delhi univ...               7   \n",
       "\n",
       "   Disagreement                                            hum_gen  \n",
       "0             6  [Program module ek sanchika hoti hai, jisme ya...  \n",
       "1             4  [Aur humne unke bhai Salih ko Thamud ke paas b...  \n",
       "2             0  [And jab remind karaya jaata hai, then they do...  \n",
       "3             1  [tumhe TED Prize 2011 mil gaya hai.\\n, You won...  \n",
       "4             0  [Unhone baad adhyayan karne ke liye ye Delhi U...  "
      ]
     },
     "execution_count": 31,
     "metadata": {},
     "output_type": "execute_result"
    }
   ],
   "source": [
    "traindf.head()"
   ]
  },
  {
   "cell_type": "code",
   "execution_count": null,
   "id": "6bed8ad4-ed11-4445-8d4b-bf50ce74e6ab",
   "metadata": {},
   "outputs": [],
   "source": []
  }
 ],
 "metadata": {
  "kernelspec": {
   "display_name": "cm",
   "language": "python",
   "name": "cm"
  },
  "language_info": {
   "codemirror_mode": {
    "name": "ipython",
    "version": 3
   },
   "file_extension": ".py",
   "mimetype": "text/x-python",
   "name": "python",
   "nbconvert_exporter": "python",
   "pygments_lexer": "ipython3",
   "version": "3.7.10"
  }
 },
 "nbformat": 4,
 "nbformat_minor": 5
}
