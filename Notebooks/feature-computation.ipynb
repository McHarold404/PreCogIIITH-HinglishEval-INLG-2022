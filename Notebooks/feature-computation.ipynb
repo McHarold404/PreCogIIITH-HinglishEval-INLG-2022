{
 "cells": [
  {
   "cell_type": "code",
   "execution_count": 1,
   "id": "da95da86-6dd7-49d8-be68-04b463d19313",
   "metadata": {
    "execution": {
     "iopub.execute_input": "2022-05-02T16:51:25.981754Z",
     "iopub.status.busy": "2022-05-02T16:51:25.981516Z",
     "iopub.status.idle": "2022-05-02T16:51:26.540565Z",
     "shell.execute_reply": "2022-05-02T16:51:26.539977Z",
     "shell.execute_reply.started": "2022-05-02T16:51:25.981690Z"
    },
    "tags": []
   },
   "outputs": [],
   "source": [
    "import os, sys, re, pickle\n",
    "import pandas as pd\n",
    "import numpy as np\n",
    "\n",
    "from tqdm import tqdm\n",
    "\n",
    "from collections import Counter\n",
    "\n",
    "import os.path as osp\n",
    "\n",
    "datafolderpath = \"../dataset\"\n",
    "train_csv = \"train.csv\"\n",
    "valid_csv = \"valid.csv\"\n",
    "train_human_pkl = \"train_human_generated.pkl\"\n",
    "valid_human_pkl = \"valid_human_generated.pkl\""
   ]
  },
  {
   "cell_type": "code",
   "execution_count": 2,
   "id": "4ca4e6af-f896-4f7b-8f5d-a51a56f88d73",
   "metadata": {
    "execution": {
     "iopub.execute_input": "2022-05-02T16:15:07.993218Z",
     "iopub.status.busy": "2022-05-02T16:15:07.992805Z",
     "iopub.status.idle": "2022-05-02T16:15:08.244991Z",
     "shell.execute_reply": "2022-05-02T16:15:08.244443Z",
     "shell.execute_reply.started": "2022-05-02T16:15:07.993188Z"
    },
    "tags": []
   },
   "outputs": [
    {
     "data": {
      "text/plain": [
       "(2766, 6)"
      ]
     },
     "execution_count": 2,
     "metadata": {},
     "output_type": "execute_result"
    }
   ],
   "source": [
    "traindf = pd.read_csv(osp.join(datafolderpath, train_csv))\n",
    "train_hum_gen_map = pickle.load(open(osp.join(datafolderpath, train_human_pkl), 'rb'))\n",
    "hum_generated_column = []\n",
    "\n",
    "for ind, row in traindf.iterrows():\n",
    "    hum_generated_column.append(train_hum_gen_map[row[\"English\"]])\n",
    "\n",
    "traindf[\"hum_gen\"] = hum_generated_column\n",
    "\n",
    "traindf.shape"
   ]
  },
  {
   "cell_type": "code",
   "execution_count": 3,
   "id": "d8367a31-1032-4820-9617-152f40ccd5e0",
   "metadata": {
    "execution": {
     "iopub.execute_input": "2022-05-02T16:15:14.798424Z",
     "iopub.status.busy": "2022-05-02T16:15:14.798134Z",
     "iopub.status.idle": "2022-05-02T16:15:14.860093Z",
     "shell.execute_reply": "2022-05-02T16:15:14.859137Z",
     "shell.execute_reply.started": "2022-05-02T16:15:14.798395Z"
    },
    "tags": []
   },
   "outputs": [
    {
     "data": {
      "text/plain": [
       "(395, 4)"
      ]
     },
     "execution_count": 3,
     "metadata": {},
     "output_type": "execute_result"
    }
   ],
   "source": [
    "valdf = pd.read_csv(osp.join(datafolderpath, valid_csv))\n",
    "val_hum_gen_map = pickle.load(open(osp.join(datafolderpath, valid_human_pkl), 'rb'))\n",
    "\n",
    "hum_generated_column = []\n",
    "\n",
    "for ind, row in valdf.iterrows():\n",
    "    hum_generated_column.append(val_hum_gen_map[row[\"English\"]])\n",
    "\n",
    "valdf[\"hum_gen\"] = hum_generated_column\n",
    "    \n",
    "valdf.shape"
   ]
  },
  {
   "cell_type": "code",
   "execution_count": 4,
   "id": "fb05cc11-7db0-4fe6-a91d-91bd6abb7310",
   "metadata": {
    "execution": {
     "iopub.execute_input": "2022-05-01T14:08:29.784800Z",
     "iopub.status.busy": "2022-05-01T14:08:29.784636Z",
     "iopub.status.idle": "2022-05-01T14:08:29.799317Z",
     "shell.execute_reply": "2022-05-01T14:08:29.798837Z",
     "shell.execute_reply.started": "2022-05-01T14:08:29.784780Z"
    },
    "tags": []
   },
   "outputs": [
    {
     "data": {
      "text/html": [
       "<div>\n",
       "<style scoped>\n",
       "    .dataframe tbody tr th:only-of-type {\n",
       "        vertical-align: middle;\n",
       "    }\n",
       "\n",
       "    .dataframe tbody tr th {\n",
       "        vertical-align: top;\n",
       "    }\n",
       "\n",
       "    .dataframe thead th {\n",
       "        text-align: right;\n",
       "    }\n",
       "</style>\n",
       "<table border=\"1\" class=\"dataframe\">\n",
       "  <thead>\n",
       "    <tr style=\"text-align: right;\">\n",
       "      <th></th>\n",
       "      <th>English</th>\n",
       "      <th>Hindi</th>\n",
       "      <th>Hinglish</th>\n",
       "      <th>Average rating</th>\n",
       "      <th>Disagreement</th>\n",
       "      <th>hum_gen</th>\n",
       "    </tr>\n",
       "  </thead>\n",
       "  <tbody>\n",
       "    <tr>\n",
       "      <th>0</th>\n",
       "      <td>Program module is a file that contains instruc...</td>\n",
       "      <td>माड्यूल, एक संचिका होती है, जिसमें या तो स्रोत...</td>\n",
       "      <td>module , ek program hoti hai , jismen ya to so...</td>\n",
       "      <td>7</td>\n",
       "      <td>6</td>\n",
       "      <td>[Program module ek sanchika hoti hai, jisme ya...</td>\n",
       "    </tr>\n",
       "    <tr>\n",
       "      <th>1</th>\n",
       "      <td>And to Thamud We sent their brother Sali 'h. H...</td>\n",
       "      <td>और (हमने) क़ौमे समूद के पास उनके भाई सालेह को ...</td>\n",
       "      <td>aur hamne aume samood ke pas unke bhaee saleh ...</td>\n",
       "      <td>6</td>\n",
       "      <td>4</td>\n",
       "      <td>[Aur humne unke bhai Salih ko Thamud ke paas b...</td>\n",
       "    </tr>\n",
       "    <tr>\n",
       "      <th>2</th>\n",
       "      <td>and, when reminded, do not remember\\n</td>\n",
       "      <td>और जब उन्हें याद दिलाया जाता है, तो वे याद नही...</td>\n",
       "      <td>aur jab unhen yad dilaya jata hai , to ve yad ...</td>\n",
       "      <td>10</td>\n",
       "      <td>0</td>\n",
       "      <td>[And jab remind karaya jaata hai, then they do...</td>\n",
       "    </tr>\n",
       "    <tr>\n",
       "      <th>3</th>\n",
       "      <td>you won the TED Prize 2011.\\n</td>\n",
       "      <td>तुम्हें २०११ का टेड प्राइज़ मिल गया है.\\n</td>\n",
       "      <td>tumhen २०११ ka ted prize mil gaya hai\\n</td>\n",
       "      <td>9</td>\n",
       "      <td>1</td>\n",
       "      <td>[tumhe TED Prize 2011 mil gaya hai.\\n, You won...</td>\n",
       "    </tr>\n",
       "    <tr>\n",
       "      <th>4</th>\n",
       "      <td>He gone to Kerodemal College of Delhi Universi...</td>\n",
       "      <td>उन्होंने बाद अध्ययन करने के लिए ये दिल्ली विश्...</td>\n",
       "      <td>unhonne bad science karne ke lie ye delhi univ...</td>\n",
       "      <td>7</td>\n",
       "      <td>0</td>\n",
       "      <td>[Unhone baad adhyayan karne ke liye ye Delhi U...</td>\n",
       "    </tr>\n",
       "  </tbody>\n",
       "</table>\n",
       "</div>"
      ],
      "text/plain": [
       "                                             English  \\\n",
       "0  Program module is a file that contains instruc...   \n",
       "1  And to Thamud We sent their brother Sali 'h. H...   \n",
       "2              and, when reminded, do not remember\\n   \n",
       "3                      you won the TED Prize 2011.\\n   \n",
       "4  He gone to Kerodemal College of Delhi Universi...   \n",
       "\n",
       "                                               Hindi  \\\n",
       "0  माड्यूल, एक संचिका होती है, जिसमें या तो स्रोत...   \n",
       "1  और (हमने) क़ौमे समूद के पास उनके भाई सालेह को ...   \n",
       "2  और जब उन्हें याद दिलाया जाता है, तो वे याद नही...   \n",
       "3          तुम्हें २०११ का टेड प्राइज़ मिल गया है.\\n   \n",
       "4  उन्होंने बाद अध्ययन करने के लिए ये दिल्ली विश्...   \n",
       "\n",
       "                                            Hinglish  Average rating  \\\n",
       "0  module , ek program hoti hai , jismen ya to so...               7   \n",
       "1  aur hamne aume samood ke pas unke bhaee saleh ...               6   \n",
       "2  aur jab unhen yad dilaya jata hai , to ve yad ...              10   \n",
       "3            tumhen २०११ ka ted prize mil gaya hai\\n               9   \n",
       "4  unhonne bad science karne ke lie ye delhi univ...               7   \n",
       "\n",
       "   Disagreement                                            hum_gen  \n",
       "0             6  [Program module ek sanchika hoti hai, jisme ya...  \n",
       "1             4  [Aur humne unke bhai Salih ko Thamud ke paas b...  \n",
       "2             0  [And jab remind karaya jaata hai, then they do...  \n",
       "3             1  [tumhe TED Prize 2011 mil gaya hai.\\n, You won...  \n",
       "4             0  [Unhone baad adhyayan karne ke liye ye Delhi U...  "
      ]
     },
     "execution_count": 4,
     "metadata": {},
     "output_type": "execute_result"
    }
   ],
   "source": [
    "traindf.head()"
   ]
  },
  {
   "cell_type": "markdown",
   "id": "7408812c-b046-4ec7-b0b7-9addd51592b8",
   "metadata": {},
   "source": [
    "# CSNLI - [GitHub Repo](https://github.com/devanshg27/csnli)"
   ]
  },
  {
   "cell_type": "markdown",
   "id": "de6ab366-6c9d-4c82-9194-769cde89eaef",
   "metadata": {},
   "source": [
    "- for script normalisation and LID"
   ]
  },
  {
   "cell_type": "code",
   "execution_count": 2,
   "id": "0faababe-d242-4db4-8cbc-e6a21a0a6e1e",
   "metadata": {
    "collapsed": true,
    "execution": {
     "iopub.execute_input": "2022-05-01T14:46:02.673087Z",
     "iopub.status.busy": "2022-05-01T14:46:02.672882Z",
     "iopub.status.idle": "2022-05-01T14:46:40.681294Z",
     "shell.execute_reply": "2022-05-01T14:46:40.680290Z",
     "shell.execute_reply.started": "2022-05-01T14:46:02.673064Z"
    },
    "jupyter": {
     "outputs_hidden": true
    },
    "tags": []
   },
   "outputs": [
    {
     "name": "stdout",
     "output_type": "stream",
     "text": [
      "/home2/anmol.goel/prashantk/csnli\n",
      "Loading NMT model parameters.\n",
      "Loading NMT model parameters.\n"
     ]
    },
    {
     "ename": "RuntimeError",
     "evalue": "index_select(): Expected dtype int32 or int64 for index",
     "output_type": "error",
     "traceback": [
      "\u001b[0;31m---------------------------------------------------------------------------\u001b[0m",
      "\u001b[0;31mRuntimeError\u001b[0m                              Traceback (most recent call last)",
      "\u001b[0;32m<ipython-input-2-8466b2b51975>\u001b[0m in \u001b[0;36m<module>\u001b[0;34m\u001b[0m\n\u001b[1;32m     10\u001b[0m \u001b[0;34m\u001b[0m\u001b[0m\n\u001b[1;32m     11\u001b[0m \u001b[0;31m#testing if csnli tool is working\u001b[0m\u001b[0;34m\u001b[0m\u001b[0;34m\u001b[0m\u001b[0;34m\u001b[0m\u001b[0m\n\u001b[0;32m---> 12\u001b[0;31m \u001b[0mprint\u001b[0m\u001b[0;34m(\u001b[0m\u001b[0;34m'\\n'\u001b[0m\u001b[0;34m.\u001b[0m\u001b[0mjoin\u001b[0m\u001b[0;34m(\u001b[0m\u001b[0;34m[\u001b[0m\u001b[0;34m'\\t'\u001b[0m\u001b[0;34m.\u001b[0m\u001b[0mjoin\u001b[0m\u001b[0;34m(\u001b[0m\u001b[0mx\u001b[0m\u001b[0;34m)\u001b[0m \u001b[0;32mfor\u001b[0m \u001b[0mx\u001b[0m \u001b[0;32min\u001b[0m \u001b[0mtsd\u001b[0m\u001b[0;34m.\u001b[0m\u001b[0mtag_sent\u001b[0m\u001b[0;34m(\u001b[0m\u001b[0;34mu'i thght mosam dfrnt hoga bs fog h'\u001b[0m\u001b[0;34m)\u001b[0m\u001b[0;34m]\u001b[0m\u001b[0;34m)\u001b[0m\u001b[0;34m)\u001b[0m\u001b[0;34m\u001b[0m\u001b[0;34m\u001b[0m\u001b[0m\n\u001b[0m",
      "\u001b[0;32m~/prashantk/csnli/three_step_decoding.py\u001b[0m in \u001b[0;36mtag_sent\u001b[0;34m(self, sent, trans)\u001b[0m\n\u001b[1;32m     79\u001b[0m     \u001b[0;32mdef\u001b[0m \u001b[0mtag_sent\u001b[0m\u001b[0;34m(\u001b[0m\u001b[0mself\u001b[0m\u001b[0;34m,\u001b[0m \u001b[0msent\u001b[0m\u001b[0;34m,\u001b[0m \u001b[0mtrans\u001b[0m\u001b[0;34m=\u001b[0m\u001b[0;32mTrue\u001b[0m\u001b[0;34m)\u001b[0m\u001b[0;34m:\u001b[0m\u001b[0;34m\u001b[0m\u001b[0;34m\u001b[0m\u001b[0m\n\u001b[1;32m     80\u001b[0m         \u001b[0msent\u001b[0m \u001b[0;34m=\u001b[0m \u001b[0msent\u001b[0m\u001b[0;34m.\u001b[0m\u001b[0msplit\u001b[0m\u001b[0;34m(\u001b[0m\u001b[0;34m)\u001b[0m\u001b[0;34m\u001b[0m\u001b[0;34m\u001b[0m\u001b[0m\n\u001b[0;32m---> 81\u001b[0;31m         \u001b[0msent\u001b[0m\u001b[0;34m,\u001b[0m \u001b[0mltags\u001b[0m \u001b[0;34m=\u001b[0m \u001b[0mzip\u001b[0m\u001b[0;34m(\u001b[0m\u001b[0;34m*\u001b[0m\u001b[0mself\u001b[0m\u001b[0;34m.\u001b[0m\u001b[0mlid\u001b[0m\u001b[0;34m.\u001b[0m\u001b[0mtag_sent\u001b[0m\u001b[0;34m(\u001b[0m\u001b[0msent\u001b[0m\u001b[0;34m)\u001b[0m\u001b[0;34m)\u001b[0m\u001b[0;34m\u001b[0m\u001b[0;34m\u001b[0m\u001b[0m\n\u001b[0m\u001b[1;32m     82\u001b[0m         \u001b[0mdec\u001b[0m \u001b[0;34m=\u001b[0m \u001b[0mself\u001b[0m\u001b[0;34m.\u001b[0m\u001b[0mdecode\u001b[0m\u001b[0;34m(\u001b[0m\u001b[0msent\u001b[0m\u001b[0;34m,\u001b[0m \u001b[0mltags\u001b[0m\u001b[0;34m)\u001b[0m\u001b[0;34m\u001b[0m\u001b[0;34m\u001b[0m\u001b[0m\n\u001b[1;32m     83\u001b[0m         \u001b[0;32mreturn\u001b[0m \u001b[0mzip\u001b[0m\u001b[0;34m(\u001b[0m\u001b[0msent\u001b[0m\u001b[0;34m,\u001b[0m \u001b[0mdec\u001b[0m\u001b[0;34m,\u001b[0m \u001b[0mltags\u001b[0m\u001b[0;34m)\u001b[0m\u001b[0;34m\u001b[0m\u001b[0;34m\u001b[0m\u001b[0m\n",
      "\u001b[0;32m~/prashantk/csnli/lang_tagger.py\u001b[0m in \u001b[0;36mtag_sent\u001b[0;34m(self, words, trans)\u001b[0m\n\u001b[1;32m    247\u001b[0m         \u001b[0;32mif\u001b[0m \u001b[0mtrans\u001b[0m\u001b[0;34m:\u001b[0m\u001b[0;34m\u001b[0m\u001b[0;34m\u001b[0m\u001b[0m\n\u001b[1;32m    248\u001b[0m             \u001b[0;32mif\u001b[0m \u001b[0mself\u001b[0m\u001b[0;34m.\u001b[0m\u001b[0men_trans\u001b[0m\u001b[0;34m:\u001b[0m\u001b[0;34m\u001b[0m\u001b[0;34m\u001b[0m\u001b[0m\n\u001b[0;32m--> 249\u001b[0;31m                 \u001b[0mself\u001b[0m\u001b[0;34m.\u001b[0m\u001b[0men_trans\u001b[0m\u001b[0;34m.\u001b[0m\u001b[0mtransliterate\u001b[0m\u001b[0;34m(\u001b[0m\u001b[0;34m'\\n'\u001b[0m\u001b[0;34m.\u001b[0m\u001b[0mjoin\u001b[0m\u001b[0;34m(\u001b[0m\u001b[0mset\u001b[0m\u001b[0;34m(\u001b[0m\u001b[0mwords\u001b[0m\u001b[0;34m)\u001b[0m\u001b[0;34m)\u001b[0m\u001b[0;34m)\u001b[0m\u001b[0;34m\u001b[0m\u001b[0;34m\u001b[0m\u001b[0m\n\u001b[0m\u001b[1;32m    250\u001b[0m                 \u001b[0mself\u001b[0m\u001b[0;34m.\u001b[0m\u001b[0metrans\u001b[0m \u001b[0;34m=\u001b[0m \u001b[0mself\u001b[0m\u001b[0;34m.\u001b[0m\u001b[0men_trans\u001b[0m\u001b[0;34m.\u001b[0m\u001b[0mtrans_dict\u001b[0m\u001b[0;34m\u001b[0m\u001b[0;34m\u001b[0m\u001b[0m\n\u001b[1;32m    251\u001b[0m             \u001b[0;32mif\u001b[0m \u001b[0mself\u001b[0m\u001b[0;34m.\u001b[0m\u001b[0mhi_trans\u001b[0m\u001b[0;34m:\u001b[0m\u001b[0;34m\u001b[0m\u001b[0;34m\u001b[0m\u001b[0m\n",
      "\u001b[0;32m~/prashantk/csnli/nmt/transliterate.py\u001b[0m in \u001b[0;36mtransliterate\u001b[0;34m(self, text)\u001b[0m\n\u001b[1;32m    149\u001b[0m \u001b[0;34m\u001b[0m\u001b[0m\n\u001b[1;32m    150\u001b[0m             \u001b[0;32mfor\u001b[0m \u001b[0mbatch\u001b[0m \u001b[0;32min\u001b[0m \u001b[0mdata_iter\u001b[0m\u001b[0;34m:\u001b[0m\u001b[0;34m\u001b[0m\u001b[0;34m\u001b[0m\u001b[0m\n\u001b[0;32m--> 151\u001b[0;31m                 \u001b[0mbatch_data\u001b[0m \u001b[0;34m=\u001b[0m \u001b[0mtranslator\u001b[0m\u001b[0;34m.\u001b[0m\u001b[0mtranslate_batch\u001b[0m\u001b[0;34m(\u001b[0m\u001b[0mbatch\u001b[0m\u001b[0;34m,\u001b[0m \u001b[0mdata\u001b[0m\u001b[0;34m)\u001b[0m\u001b[0;34m\u001b[0m\u001b[0;34m\u001b[0m\u001b[0m\n\u001b[0m\u001b[1;32m    152\u001b[0m                 \u001b[0mtranslations\u001b[0m \u001b[0;34m=\u001b[0m \u001b[0mbuilder\u001b[0m\u001b[0;34m.\u001b[0m\u001b[0mfrom_batch\u001b[0m\u001b[0;34m(\u001b[0m\u001b[0mbatch_data\u001b[0m\u001b[0;34m)\u001b[0m\u001b[0;34m\u001b[0m\u001b[0;34m\u001b[0m\u001b[0m\n\u001b[1;32m    153\u001b[0m \u001b[0;34m\u001b[0m\u001b[0m\n",
      "\u001b[0;32m~/prashantk/csnli/nmt/onmt/translate/Translator.py\u001b[0m in \u001b[0;36mtranslate_batch\u001b[0;34m(self, batch, data)\u001b[0m\n\u001b[1;32m    163\u001b[0m             \u001b[0;32mfor\u001b[0m \u001b[0mj\u001b[0m\u001b[0;34m,\u001b[0m \u001b[0mb\u001b[0m \u001b[0;32min\u001b[0m \u001b[0menumerate\u001b[0m\u001b[0;34m(\u001b[0m\u001b[0mbeam\u001b[0m\u001b[0;34m)\u001b[0m\u001b[0;34m:\u001b[0m\u001b[0;34m\u001b[0m\u001b[0;34m\u001b[0m\u001b[0m\n\u001b[1;32m    164\u001b[0m                 b.advance(out[:, j],\n\u001b[0;32m--> 165\u001b[0;31m                           beam_attn.data[:, j, :memory_lengths[j]])\n\u001b[0m\u001b[1;32m    166\u001b[0m                 \u001b[0mdec_states\u001b[0m\u001b[0;34m.\u001b[0m\u001b[0mbeam_update\u001b[0m\u001b[0;34m(\u001b[0m\u001b[0mj\u001b[0m\u001b[0;34m,\u001b[0m \u001b[0mb\u001b[0m\u001b[0;34m.\u001b[0m\u001b[0mget_current_origin\u001b[0m\u001b[0;34m(\u001b[0m\u001b[0;34m)\u001b[0m\u001b[0;34m,\u001b[0m \u001b[0mbeam_size\u001b[0m\u001b[0;34m)\u001b[0m\u001b[0;34m\u001b[0m\u001b[0;34m\u001b[0m\u001b[0m\n\u001b[1;32m    167\u001b[0m \u001b[0;34m\u001b[0m\u001b[0m\n",
      "\u001b[0;32m~/prashantk/csnli/nmt/onmt/translate/Beam.py\u001b[0m in \u001b[0;36madvance\u001b[0;34m(self, word_probs, attn_out)\u001b[0m\n\u001b[1;32m    109\u001b[0m         \u001b[0mself\u001b[0m\u001b[0;34m.\u001b[0m\u001b[0mprev_ks\u001b[0m\u001b[0;34m.\u001b[0m\u001b[0mappend\u001b[0m\u001b[0;34m(\u001b[0m\u001b[0mprev_k\u001b[0m\u001b[0;34m)\u001b[0m\u001b[0;34m\u001b[0m\u001b[0;34m\u001b[0m\u001b[0m\n\u001b[1;32m    110\u001b[0m         \u001b[0mself\u001b[0m\u001b[0;34m.\u001b[0m\u001b[0mnext_ys\u001b[0m\u001b[0;34m.\u001b[0m\u001b[0mappend\u001b[0m\u001b[0;34m(\u001b[0m\u001b[0;34m(\u001b[0m\u001b[0mbest_scores_id\u001b[0m \u001b[0;34m-\u001b[0m \u001b[0mprev_k\u001b[0m \u001b[0;34m*\u001b[0m \u001b[0mnum_words\u001b[0m\u001b[0;34m)\u001b[0m\u001b[0;34m)\u001b[0m\u001b[0;34m\u001b[0m\u001b[0;34m\u001b[0m\u001b[0m\n\u001b[0;32m--> 111\u001b[0;31m         \u001b[0mself\u001b[0m\u001b[0;34m.\u001b[0m\u001b[0mattn\u001b[0m\u001b[0;34m.\u001b[0m\u001b[0mappend\u001b[0m\u001b[0;34m(\u001b[0m\u001b[0mattn_out\u001b[0m\u001b[0;34m.\u001b[0m\u001b[0mindex_select\u001b[0m\u001b[0;34m(\u001b[0m\u001b[0;36m0\u001b[0m\u001b[0;34m,\u001b[0m \u001b[0mprev_k\u001b[0m\u001b[0;34m)\u001b[0m\u001b[0;34m)\u001b[0m\u001b[0;34m\u001b[0m\u001b[0;34m\u001b[0m\u001b[0m\n\u001b[0m\u001b[1;32m    112\u001b[0m         \u001b[0mself\u001b[0m\u001b[0;34m.\u001b[0m\u001b[0mglobal_scorer\u001b[0m\u001b[0;34m.\u001b[0m\u001b[0mupdate_global_state\u001b[0m\u001b[0;34m(\u001b[0m\u001b[0mself\u001b[0m\u001b[0;34m)\u001b[0m\u001b[0;34m\u001b[0m\u001b[0;34m\u001b[0m\u001b[0m\n\u001b[1;32m    113\u001b[0m \u001b[0;34m\u001b[0m\u001b[0m\n",
      "\u001b[0;31mRuntimeError\u001b[0m: index_select(): Expected dtype int32 or int64 for index"
     ]
    }
   ],
   "source": [
    "os.chdir('/home2/anmol.goel/prashantk/csnli')\n",
    "\n",
    "print(os.getcwd())\n",
    "from three_step_decoding import *\n",
    "\n",
    "\n",
    "tsd = ThreeStepDecoding('/home2/anmol.goel/prashantk/csnli/lid_models/hinglish', \n",
    "                        htrans='/home2/anmol.goel/prashantk/csnli/nmt_models/rom2hin.pt', \n",
    "                        etrans='/home2/anmol.goel/prashantk/csnli/nmt_models/eng2eng.pt')\n",
    "\n",
    "#testing if csnli tool is working\n",
    "print('\\n'.join(['\\t'.join(x) for x in tsd.tag_sent(u'i thght mosam dfrnt hoga bs fog h')]))"
   ]
  },
  {
   "cell_type": "code",
   "execution_count": null,
   "id": "717a22f9-e6bb-4593-9d05-050c2931dccd",
   "metadata": {
    "execution": {
     "iopub.status.busy": "2022-05-01T14:46:40.682713Z",
     "iopub.status.idle": "2022-05-01T14:46:40.682970Z",
     "shell.execute_reply": "2022-05-01T14:46:40.682841Z"
    },
    "tags": []
   },
   "outputs": [],
   "source": [
    "line = u'i thght mosam dfrnt hoga bs fog h'\n",
    "list(tsd.tag_sent(line))"
   ]
  },
  {
   "cell_type": "code",
   "execution_count": 40,
   "id": "6cc92547-73df-44dc-b422-95adcfbe01be",
   "metadata": {
    "execution": {
     "iopub.execute_input": "2022-05-02T16:41:18.703583Z",
     "iopub.status.busy": "2022-05-02T16:41:18.703274Z",
     "iopub.status.idle": "2022-05-02T16:41:18.710083Z",
     "shell.execute_reply": "2022-05-02T16:41:18.709168Z",
     "shell.execute_reply.started": "2022-05-02T16:41:18.703553Z"
    },
    "tags": []
   },
   "outputs": [],
   "source": [
    "def normalise_sent(sent):\n",
    "    try:\n",
    "        ret = list(tsd.tag_sent(sent))\n",
    "    except TypeError:\n",
    "        ret = [sent]\n",
    "        print(f\"TypeError : {sent}\")\n",
    "    return ret\n",
    "              \n",
    "def normalise_df_column(df, column_name):\n",
    "    csnli_op = []\n",
    "    if isinstance(df[column_name][0], str):\n",
    "        csnli_op = [normalise_sent(sent) for sent in tqdm(df[column_name])]\n",
    "        \n",
    "    elif isinstance(df[column_name][0], list):\n",
    "        csnli_op = [[normalise_sent(sent) for sent in sample] for sample in tqdm(df[column_name]) ]\n",
    "        \n",
    "    return csnli_op\n",
    "\n",
    "columns_to_normalise = [\"Hinglish\", \"hum_gen\"]\n",
    "\n",
    "\n",
    "    \n"
   ]
  },
  {
   "cell_type": "code",
   "execution_count": null,
   "id": "6cc33c49-5ab4-45d5-a880-2c571ce617d4",
   "metadata": {},
   "outputs": [],
   "source": [
    "for col in columns_to_normalise:\n",
    "    traindf[col+\"_csnliop\"] = normalise_df_column(traindf, col)\n"
   ]
  },
  {
   "cell_type": "code",
   "execution_count": null,
   "id": "3ceddfc6-0b86-4785-873c-4935de5fa791",
   "metadata": {
    "tags": []
   },
   "outputs": [],
   "source": [
    "for col in columns_to_normalise:\n",
    "    valdf[col+\"_csnliop\"] = normalise_df_column(valdf, col)\n"
   ]
  },
  {
   "cell_type": "code",
   "execution_count": 42,
   "id": "15dd5b7b-2a9d-4ce7-9a20-65d2db08837e",
   "metadata": {
    "execution": {
     "iopub.execute_input": "2022-05-02T16:45:50.895762Z",
     "iopub.status.busy": "2022-05-02T16:45:50.895398Z",
     "iopub.status.idle": "2022-05-02T16:45:50.901085Z",
     "shell.execute_reply": "2022-05-02T16:45:50.900422Z",
     "shell.execute_reply.started": "2022-05-02T16:45:50.895734Z"
    },
    "tags": []
   },
   "outputs": [
    {
     "data": {
      "text/plain": [
       "395"
      ]
     },
     "execution_count": 42,
     "metadata": {},
     "output_type": "execute_result"
    }
   ],
   "source": [
    "valdf[\"Hinglish_csnliop\"].isna().sum()"
   ]
  },
  {
   "cell_type": "code",
   "execution_count": 9,
   "id": "a569b3e8-e0b4-44f3-aab2-a218f0e0f7b6",
   "metadata": {
    "execution": {
     "iopub.execute_input": "2022-05-01T14:34:54.957470Z",
     "iopub.status.busy": "2022-05-01T14:34:54.957265Z",
     "iopub.status.idle": "2022-05-01T14:34:55.135421Z",
     "shell.execute_reply": "2022-05-01T14:34:55.134946Z",
     "shell.execute_reply.started": "2022-05-01T14:34:54.957447Z"
    },
    "tags": []
   },
   "outputs": [
    {
     "data": {
      "text/html": [
       "<div>\n",
       "<style scoped>\n",
       "    .dataframe tbody tr th:only-of-type {\n",
       "        vertical-align: middle;\n",
       "    }\n",
       "\n",
       "    .dataframe tbody tr th {\n",
       "        vertical-align: top;\n",
       "    }\n",
       "\n",
       "    .dataframe thead th {\n",
       "        text-align: right;\n",
       "    }\n",
       "</style>\n",
       "<table border=\"1\" class=\"dataframe\">\n",
       "  <thead>\n",
       "    <tr style=\"text-align: right;\">\n",
       "      <th></th>\n",
       "      <th>English</th>\n",
       "      <th>Hindi</th>\n",
       "      <th>Hinglish</th>\n",
       "      <th>Average rating</th>\n",
       "      <th>Disagreement</th>\n",
       "      <th>hum_gen</th>\n",
       "      <th>Hinglish_csnliop</th>\n",
       "      <th>hum_gen_csnliop</th>\n",
       "    </tr>\n",
       "  </thead>\n",
       "  <tbody>\n",
       "    <tr>\n",
       "      <th>0</th>\n",
       "      <td>Program module is a file that contains instruc...</td>\n",
       "      <td>माड्यूल, एक संचिका होती है, जिसमें या तो स्रोत...</td>\n",
       "      <td>module , ek program hoti hai , jismen ya to so...</td>\n",
       "      <td>7</td>\n",
       "      <td>6</td>\n",
       "      <td>[Program module ek sanchika hoti hai, jisme ya...</td>\n",
       "      <td>[(module, module, en), (,, ,, univ), (ek, एक, ...</td>\n",
       "      <td>[[(Program, Program, en), (module, module, en)...</td>\n",
       "    </tr>\n",
       "    <tr>\n",
       "      <th>1</th>\n",
       "      <td>And to Thamud We sent their brother Sali 'h. H...</td>\n",
       "      <td>और (हमने) क़ौमे समूद के पास उनके भाई सालेह को ...</td>\n",
       "      <td>aur hamne aume samood ke pas unke bhaee saleh ...</td>\n",
       "      <td>6</td>\n",
       "      <td>4</td>\n",
       "      <td>[Aur humne unke bhai Salih ko Thamud ke paas b...</td>\n",
       "      <td>[(aur, और, hi), (hamne, हमने, hi), (aume, औमे,...</td>\n",
       "      <td>[[(Aur, और, hi), (humne, हमने, hi), (unke, उनक...</td>\n",
       "    </tr>\n",
       "    <tr>\n",
       "      <th>2</th>\n",
       "      <td>and, when reminded, do not remember\\n</td>\n",
       "      <td>और जब उन्हें याद दिलाया जाता है, तो वे याद नही...</td>\n",
       "      <td>aur jab unhen yad dilaya jata hai , to ve yad ...</td>\n",
       "      <td>10</td>\n",
       "      <td>0</td>\n",
       "      <td>[And jab remind karaya jaata hai, then they do...</td>\n",
       "      <td>[(aur, और, hi), (jab, जब, hi), (unhen, उन्हें,...</td>\n",
       "      <td>[[(And, And, en), (jab, जब, hi), (remind, remi...</td>\n",
       "    </tr>\n",
       "    <tr>\n",
       "      <th>3</th>\n",
       "      <td>you won the TED Prize 2011.\\n</td>\n",
       "      <td>तुम्हें २०११ का टेड प्राइज़ मिल गया है.\\n</td>\n",
       "      <td>tumhen २०११ ka ted prize mil gaya hai\\n</td>\n",
       "      <td>9</td>\n",
       "      <td>1</td>\n",
       "      <td>[tumhe TED Prize 2011 mil gaya hai.\\n, You won...</td>\n",
       "      <td>[(tumhen, तुम्हें, hi), (२०११, २०११, hi), (ka,...</td>\n",
       "      <td>[[(tumhe, तुम्हें, hi), (TED, TED, acro), (Pri...</td>\n",
       "    </tr>\n",
       "    <tr>\n",
       "      <th>4</th>\n",
       "      <td>He gone to Kerodemal College of Delhi Universi...</td>\n",
       "      <td>उन्होंने बाद अध्ययन करने के लिए ये दिल्ली विश्...</td>\n",
       "      <td>unhonne bad science karne ke lie ye delhi univ...</td>\n",
       "      <td>7</td>\n",
       "      <td>0</td>\n",
       "      <td>[Unhone baad adhyayan karne ke liye ye Delhi U...</td>\n",
       "      <td>[(unhonne, उन्होंने, hi), (bad, bad, en), (sci...</td>\n",
       "      <td>[[(Unhone, उन्होंने, hi), (baad, बाढ़, hi), (a...</td>\n",
       "    </tr>\n",
       "    <tr>\n",
       "      <th>...</th>\n",
       "      <td>...</td>\n",
       "      <td>...</td>\n",
       "      <td>...</td>\n",
       "      <td>...</td>\n",
       "      <td>...</td>\n",
       "      <td>...</td>\n",
       "      <td>...</td>\n",
       "      <td>...</td>\n",
       "    </tr>\n",
       "    <tr>\n",
       "      <th>2761</th>\n",
       "      <td>Polar ice caps may melt further and increase t...</td>\n",
       "      <td>अधिक मात्रा में ध्रुवों की बर्फ पिघलने से सागर...</td>\n",
       "      <td>large size men polar ki barph pighalne se ocea...</td>\n",
       "      <td>6</td>\n",
       "      <td>4</td>\n",
       "      <td>[Polar ice caps may melt further and increase ...</td>\n",
       "      <td>[(large, large, en), (size, size, en), (men, m...</td>\n",
       "      <td>[[(Polar, Polar, en), (ice, ice, en), (caps, c...</td>\n",
       "    </tr>\n",
       "    <tr>\n",
       "      <th>2762</th>\n",
       "      <td>It ' s what turns lead into gold , and makes t...</td>\n",
       "      <td>यही चक्र सीसे को सोना बना देता है , और सोने को...</td>\n",
       "      <td>yahi chakr lead into gold bana deta hai , aur ...</td>\n",
       "      <td>7</td>\n",
       "      <td>1</td>\n",
       "      <td>[Its what turns seese into sona and makes the ...</td>\n",
       "      <td>[(yahi, यही, hi), (chakr, चक्र, hi), (lead, le...</td>\n",
       "      <td>[[(Its, Its, en), (what, what, en), (turns, tu...</td>\n",
       "    </tr>\n",
       "    <tr>\n",
       "      <th>2763</th>\n",
       "      <td>The President said the North Eastern Hill Univ...</td>\n",
       "      <td>राष्ट्रपति ने कहा कि पूर्वोत्तर पर्वतीय विश्वव...</td>\n",
       "      <td>president ne kaha ki north parvtiy university ...</td>\n",
       "      <td>8</td>\n",
       "      <td>4</td>\n",
       "      <td>[The President said the North Eastern Hill Uni...</td>\n",
       "      <td>[(president, president, en), (ne, ने, hi), (ka...</td>\n",
       "      <td>[[(The, The, en), (President, President, en), ...</td>\n",
       "    </tr>\n",
       "    <tr>\n",
       "      <th>2764</th>\n",
       "      <td>The violin bow might well have grown out of th...</td>\n",
       "      <td>बहुत संभव है कि वायलिन का गज भी एक छड़ी को दूस...</td>\n",
       "      <td>bahut snbhav hai ki vaylin ka gaj bhi ek chhar...</td>\n",
       "      <td>5</td>\n",
       "      <td>3</td>\n",
       "      <td>[The violin bow might well have grown out of t...</td>\n",
       "      <td>[(bahut, बहुत, hi), (snbhav, संभव, hi), (hai, ...</td>\n",
       "      <td>[[(The, The, en), (violin, violin, en), (bow, ...</td>\n",
       "    </tr>\n",
       "    <tr>\n",
       "      <th>2765</th>\n",
       "      <td>In fact, clans or families which succeeded in ...</td>\n",
       "      <td>वास्तव में सरदार का पद जीतनेवाले वंशों या परिव...</td>\n",
       "      <td>vastav men sardar ka pad jitnevale vnshon ya p...</td>\n",
       "      <td>8</td>\n",
       "      <td>4</td>\n",
       "      <td>[In fact, clans or families which succeeded in...</td>\n",
       "      <td>[(vastav, वास्तव, hi), (men, में, hi), (sardar...</td>\n",
       "      <td>[[(In, In, en), (fact,, fact,, acro), (clans, ...</td>\n",
       "    </tr>\n",
       "  </tbody>\n",
       "</table>\n",
       "<p>2766 rows × 8 columns</p>\n",
       "</div>"
      ],
      "text/plain": [
       "                                                English  \\\n",
       "0     Program module is a file that contains instruc...   \n",
       "1     And to Thamud We sent their brother Sali 'h. H...   \n",
       "2                 and, when reminded, do not remember\\n   \n",
       "3                         you won the TED Prize 2011.\\n   \n",
       "4     He gone to Kerodemal College of Delhi Universi...   \n",
       "...                                                 ...   \n",
       "2761  Polar ice caps may melt further and increase t...   \n",
       "2762  It ' s what turns lead into gold , and makes t...   \n",
       "2763  The President said the North Eastern Hill Univ...   \n",
       "2764  The violin bow might well have grown out of th...   \n",
       "2765  In fact, clans or families which succeeded in ...   \n",
       "\n",
       "                                                  Hindi  \\\n",
       "0     माड्यूल, एक संचिका होती है, जिसमें या तो स्रोत...   \n",
       "1     और (हमने) क़ौमे समूद के पास उनके भाई सालेह को ...   \n",
       "2     और जब उन्हें याद दिलाया जाता है, तो वे याद नही...   \n",
       "3             तुम्हें २०११ का टेड प्राइज़ मिल गया है.\\n   \n",
       "4     उन्होंने बाद अध्ययन करने के लिए ये दिल्ली विश्...   \n",
       "...                                                 ...   \n",
       "2761  अधिक मात्रा में ध्रुवों की बर्फ पिघलने से सागर...   \n",
       "2762  यही चक्र सीसे को सोना बना देता है , और सोने को...   \n",
       "2763  राष्ट्रपति ने कहा कि पूर्वोत्तर पर्वतीय विश्वव...   \n",
       "2764  बहुत संभव है कि वायलिन का गज भी एक छड़ी को दूस...   \n",
       "2765  वास्तव में सरदार का पद जीतनेवाले वंशों या परिव...   \n",
       "\n",
       "                                               Hinglish  Average rating  \\\n",
       "0     module , ek program hoti hai , jismen ya to so...               7   \n",
       "1     aur hamne aume samood ke pas unke bhaee saleh ...               6   \n",
       "2     aur jab unhen yad dilaya jata hai , to ve yad ...              10   \n",
       "3               tumhen २०११ ka ted prize mil gaya hai\\n               9   \n",
       "4     unhonne bad science karne ke lie ye delhi univ...               7   \n",
       "...                                                 ...             ...   \n",
       "2761  large size men polar ki barph pighalne se ocea...               6   \n",
       "2762  yahi chakr lead into gold bana deta hai , aur ...               7   \n",
       "2763  president ne kaha ki north parvtiy university ...               8   \n",
       "2764  bahut snbhav hai ki vaylin ka gaj bhi ek chhar...               5   \n",
       "2765  vastav men sardar ka pad jitnevale vnshon ya p...               8   \n",
       "\n",
       "      Disagreement                                            hum_gen  \\\n",
       "0                6  [Program module ek sanchika hoti hai, jisme ya...   \n",
       "1                4  [Aur humne unke bhai Salih ko Thamud ke paas b...   \n",
       "2                0  [And jab remind karaya jaata hai, then they do...   \n",
       "3                1  [tumhe TED Prize 2011 mil gaya hai.\\n, You won...   \n",
       "4                0  [Unhone baad adhyayan karne ke liye ye Delhi U...   \n",
       "...            ...                                                ...   \n",
       "2761             4  [Polar ice caps may melt further and increase ...   \n",
       "2762             1  [Its what turns seese into sona and makes the ...   \n",
       "2763             4  [The President said the North Eastern Hill Uni...   \n",
       "2764             3  [The violin bow might well have grown out of t...   \n",
       "2765             4  [In fact, clans or families which succeeded in...   \n",
       "\n",
       "                                       Hinglish_csnliop  \\\n",
       "0     [(module, module, en), (,, ,, univ), (ek, एक, ...   \n",
       "1     [(aur, और, hi), (hamne, हमने, hi), (aume, औमे,...   \n",
       "2     [(aur, और, hi), (jab, जब, hi), (unhen, उन्हें,...   \n",
       "3     [(tumhen, तुम्हें, hi), (२०११, २०११, hi), (ka,...   \n",
       "4     [(unhonne, उन्होंने, hi), (bad, bad, en), (sci...   \n",
       "...                                                 ...   \n",
       "2761  [(large, large, en), (size, size, en), (men, m...   \n",
       "2762  [(yahi, यही, hi), (chakr, चक्र, hi), (lead, le...   \n",
       "2763  [(president, president, en), (ne, ने, hi), (ka...   \n",
       "2764  [(bahut, बहुत, hi), (snbhav, संभव, hi), (hai, ...   \n",
       "2765  [(vastav, वास्तव, hi), (men, में, hi), (sardar...   \n",
       "\n",
       "                                        hum_gen_csnliop  \n",
       "0     [[(Program, Program, en), (module, module, en)...  \n",
       "1     [[(Aur, और, hi), (humne, हमने, hi), (unke, उनक...  \n",
       "2     [[(And, And, en), (jab, जब, hi), (remind, remi...  \n",
       "3     [[(tumhe, तुम्हें, hi), (TED, TED, acro), (Pri...  \n",
       "4     [[(Unhone, उन्होंने, hi), (baad, बाढ़, hi), (a...  \n",
       "...                                                 ...  \n",
       "2761  [[(Polar, Polar, en), (ice, ice, en), (caps, c...  \n",
       "2762  [[(Its, Its, en), (what, what, en), (turns, tu...  \n",
       "2763  [[(The, The, en), (President, President, en), ...  \n",
       "2764  [[(The, The, en), (violin, violin, en), (bow, ...  \n",
       "2765  [[(In, In, en), (fact,, fact,, acro), (clans, ...  \n",
       "\n",
       "[2766 rows x 8 columns]"
      ]
     },
     "execution_count": 9,
     "metadata": {},
     "output_type": "execute_result"
    }
   ],
   "source": [
    "traindf"
   ]
  },
  {
   "cell_type": "code",
   "execution_count": 36,
   "id": "8fdda5e5-e1cb-4eeb-82ef-33f5b182bcfa",
   "metadata": {
    "execution": {
     "iopub.execute_input": "2022-05-02T16:39:32.871284Z",
     "iopub.status.busy": "2022-05-02T16:39:32.871048Z",
     "iopub.status.idle": "2022-05-02T16:39:32.989193Z",
     "shell.execute_reply": "2022-05-02T16:39:32.988779Z",
     "shell.execute_reply.started": "2022-05-02T16:39:32.871260Z"
    },
    "tags": []
   },
   "outputs": [
    {
     "data": {
      "text/html": [
       "<div>\n",
       "<style scoped>\n",
       "    .dataframe tbody tr th:only-of-type {\n",
       "        vertical-align: middle;\n",
       "    }\n",
       "\n",
       "    .dataframe tbody tr th {\n",
       "        vertical-align: top;\n",
       "    }\n",
       "\n",
       "    .dataframe thead th {\n",
       "        text-align: right;\n",
       "    }\n",
       "</style>\n",
       "<table border=\"1\" class=\"dataframe\">\n",
       "  <thead>\n",
       "    <tr style=\"text-align: right;\">\n",
       "      <th></th>\n",
       "      <th>index</th>\n",
       "      <th>English</th>\n",
       "      <th>Hindi</th>\n",
       "      <th>Hinglish</th>\n",
       "      <th>hum_gen</th>\n",
       "      <th>Hinglish_csnliop</th>\n",
       "      <th>hum_gen_csnliop</th>\n",
       "      <th>Hinglish_norm</th>\n",
       "      <th>Hinglish_lid</th>\n",
       "      <th>hum_gen_norm</th>\n",
       "      <th>...</th>\n",
       "      <th>NOUN_symcom</th>\n",
       "      <th>ADP_symcom</th>\n",
       "      <th>VERB_symcom</th>\n",
       "      <th>AUX_symcom</th>\n",
       "      <th>ADJ_symcom</th>\n",
       "      <th>SCONJ_symcom</th>\n",
       "      <th>PROPN_symcom</th>\n",
       "      <th>CCONJ_symcom</th>\n",
       "      <th>NUM_symcom</th>\n",
       "      <th>INTJ_symcom</th>\n",
       "    </tr>\n",
       "  </thead>\n",
       "  <tbody>\n",
       "    <tr>\n",
       "      <th>0</th>\n",
       "      <td>0</td>\n",
       "      <td>Are you sure you want to permanently delete th...</td>\n",
       "      <td>क्या आप इन फ़ाइलों को स्थायी रूप से हटाना चाहत...</td>\n",
       "      <td>kya aap in files ko sthayi roop se permanently...</td>\n",
       "      <td>[Are you sure you want to permanently hatana c...</td>\n",
       "      <td>[[kya, क्या, hi], [aap, आप, hi], [in, इन, hi],...</td>\n",
       "      <td>[[[Are, Are, en], [you, you, en], [sure, sure,...</td>\n",
       "      <td>[क्या, आप, इन, files, को, स्थायी, रूप, से, per...</td>\n",
       "      <td>[hi, hi, hi, en, hi, hi, hi, hi, en, en, hi]</td>\n",
       "      <td>[[वास्तव, वास्तव], [में, में], [sadar, sadar],...</td>\n",
       "      <td>...</td>\n",
       "      <td>NaN</td>\n",
       "      <td>NaN</td>\n",
       "      <td>NaN</td>\n",
       "      <td>NaN</td>\n",
       "      <td>NaN</td>\n",
       "      <td>NaN</td>\n",
       "      <td>NaN</td>\n",
       "      <td>NaN</td>\n",
       "      <td>NaN</td>\n",
       "      <td>NaN</td>\n",
       "    </tr>\n",
       "    <tr>\n",
       "      <th>1</th>\n",
       "      <td>1</td>\n",
       "      <td>Three public meetings were held in Bombay City...</td>\n",
       "      <td>उस अवसर पर बंबई में तीन सभाएं की गयीं।\\n</td>\n",
       "      <td>us avasar par bombay meetings were held ki gay...</td>\n",
       "      <td>[Three public meetings were held in Bombay Cit...</td>\n",
       "      <td>[[us, उस, hi], [avasar, अवसर, hi], [par, पर, h...</td>\n",
       "      <td>[[[Three, Three, en], [public, public, en], [m...</td>\n",
       "      <td>[उस, अवसर, पर, bombay, meetings, were, held, क...</td>\n",
       "      <td>[hi, hi, hi, ne, en, en, en, hi, hi]</td>\n",
       "      <td>[[वास्तव, वास्तव], [में, में], [sadar, sadar],...</td>\n",
       "      <td>...</td>\n",
       "      <td>NaN</td>\n",
       "      <td>NaN</td>\n",
       "      <td>NaN</td>\n",
       "      <td>NaN</td>\n",
       "      <td>NaN</td>\n",
       "      <td>NaN</td>\n",
       "      <td>NaN</td>\n",
       "      <td>NaN</td>\n",
       "      <td>NaN</td>\n",
       "      <td>NaN</td>\n",
       "    </tr>\n",
       "    <tr>\n",
       "      <th>2</th>\n",
       "      <td>2</td>\n",
       "      <td>Nominee of the insurance has to be a near rela...</td>\n",
       "      <td>बीमा का नामित व्यक्ति अभिदाता का निकट संबंधी ह...</td>\n",
       "      <td>insurance ka namit vyakti abhidata ka nikat sn...</td>\n",
       "      <td>[Nominee of the Bima has to be a nikat samband...</td>\n",
       "      <td>[[insurance, insurance, en], [ka, का, hi], [na...</td>\n",
       "      <td>[[[Nominee, Nominee, en], [of, of, en], [the, ...</td>\n",
       "      <td>[insurance, का, नामित, व्यक्ति, अभिदाता, का, न...</td>\n",
       "      <td>[en, hi, hi, hi, hi, hi, hi, hi, hi]</td>\n",
       "      <td>[[वास्तव, वास्तव, वास्तव, वास्तव], [में, में, ...</td>\n",
       "      <td>...</td>\n",
       "      <td>NaN</td>\n",
       "      <td>NaN</td>\n",
       "      <td>NaN</td>\n",
       "      <td>NaN</td>\n",
       "      <td>NaN</td>\n",
       "      <td>NaN</td>\n",
       "      <td>NaN</td>\n",
       "      <td>NaN</td>\n",
       "      <td>NaN</td>\n",
       "      <td>NaN</td>\n",
       "    </tr>\n",
       "    <tr>\n",
       "      <th>3</th>\n",
       "      <td>3</td>\n",
       "      <td>Thus there was an inadequate appreciation of t...</td>\n",
       "      <td>इस प्रकार इस महत्वपूर्ण क्षेत्र में तेजी से का...</td>\n",
       "      <td>is prkar is vital sector inadequate appreciati...</td>\n",
       "      <td>[Is prakar ke vital chhetra me speedy action k...</td>\n",
       "      <td>[[is, इस, hi], [prkar, प्रकार, hi], [is, इस, h...</td>\n",
       "      <td>[[[Is, इस, hi], [prakar, प्रकार, hi], [ke, के,...</td>\n",
       "      <td>[इस, प्रकार, इस, vital, sector, inadequate, ap...</td>\n",
       "      <td>[hi, hi, hi, en, en, en, en, hi, hi, hi, hi, h...</td>\n",
       "      <td>[[वास्तव, वास्तव], [में, में], [sadar, sadar],...</td>\n",
       "      <td>...</td>\n",
       "      <td>NaN</td>\n",
       "      <td>NaN</td>\n",
       "      <td>NaN</td>\n",
       "      <td>NaN</td>\n",
       "      <td>NaN</td>\n",
       "      <td>NaN</td>\n",
       "      <td>NaN</td>\n",
       "      <td>NaN</td>\n",
       "      <td>NaN</td>\n",
       "      <td>NaN</td>\n",
       "    </tr>\n",
       "    <tr>\n",
       "      <th>4</th>\n",
       "      <td>4</td>\n",
       "      <td>The Arabs laughed at him , and the alchemist l...</td>\n",
       "      <td>अरब सैनिक उसकी बात सुनकर हंस पड़े । &lt;s&gt; उनके स...</td>\n",
       "      <td>arab sainik uski bat sunakar hns pare arabs  s...</td>\n",
       "      <td>[The Arabs laughed at him , unke sath alchemis...</td>\n",
       "      <td>[[arab, arab, ne], [sainik, सैनिक, hi], [uski,...</td>\n",
       "      <td>[[[The, The, en], [Arabs, Arabs, ne], [laughed...</td>\n",
       "      <td>[arab, सैनिक, उसकी, बात, सुनकर, हंस, पड़े, अरब...</td>\n",
       "      <td>[ne, hi, hi, hi, hi, hi, hi, hi, hi, hi, hi, e...</td>\n",
       "      <td>[[वास्तव, वास्तव], [में, में], [sadar, sadar],...</td>\n",
       "      <td>...</td>\n",
       "      <td>NaN</td>\n",
       "      <td>NaN</td>\n",
       "      <td>NaN</td>\n",
       "      <td>NaN</td>\n",
       "      <td>NaN</td>\n",
       "      <td>NaN</td>\n",
       "      <td>NaN</td>\n",
       "      <td>NaN</td>\n",
       "      <td>NaN</td>\n",
       "      <td>NaN</td>\n",
       "    </tr>\n",
       "  </tbody>\n",
       "</table>\n",
       "<p>5 rows × 36 columns</p>\n",
       "</div>"
      ],
      "text/plain": [
       "   index                                            English  \\\n",
       "0      0  Are you sure you want to permanently delete th...   \n",
       "1      1  Three public meetings were held in Bombay City...   \n",
       "2      2  Nominee of the insurance has to be a near rela...   \n",
       "3      3  Thus there was an inadequate appreciation of t...   \n",
       "4      4  The Arabs laughed at him , and the alchemist l...   \n",
       "\n",
       "                                               Hindi  \\\n",
       "0  क्या आप इन फ़ाइलों को स्थायी रूप से हटाना चाहत...   \n",
       "1           उस अवसर पर बंबई में तीन सभाएं की गयीं।\\n   \n",
       "2  बीमा का नामित व्यक्ति अभिदाता का निकट संबंधी ह...   \n",
       "3  इस प्रकार इस महत्वपूर्ण क्षेत्र में तेजी से का...   \n",
       "4  अरब सैनिक उसकी बात सुनकर हंस पड़े । <s> उनके स...   \n",
       "\n",
       "                                            Hinglish  \\\n",
       "0  kya aap in files ko sthayi roop se permanently...   \n",
       "1  us avasar par bombay meetings were held ki gay...   \n",
       "2  insurance ka namit vyakti abhidata ka nikat sn...   \n",
       "3  is prkar is vital sector inadequate appreciati...   \n",
       "4  arab sainik uski bat sunakar hns pare arabs  s...   \n",
       "\n",
       "                                             hum_gen  \\\n",
       "0  [Are you sure you want to permanently hatana c...   \n",
       "1  [Three public meetings were held in Bombay Cit...   \n",
       "2  [Nominee of the Bima has to be a nikat samband...   \n",
       "3  [Is prakar ke vital chhetra me speedy action k...   \n",
       "4  [The Arabs laughed at him , unke sath alchemis...   \n",
       "\n",
       "                                    Hinglish_csnliop  \\\n",
       "0  [[kya, क्या, hi], [aap, आप, hi], [in, इन, hi],...   \n",
       "1  [[us, उस, hi], [avasar, अवसर, hi], [par, पर, h...   \n",
       "2  [[insurance, insurance, en], [ka, का, hi], [na...   \n",
       "3  [[is, इस, hi], [prkar, प्रकार, hi], [is, इस, h...   \n",
       "4  [[arab, arab, ne], [sainik, सैनिक, hi], [uski,...   \n",
       "\n",
       "                                     hum_gen_csnliop  \\\n",
       "0  [[[Are, Are, en], [you, you, en], [sure, sure,...   \n",
       "1  [[[Three, Three, en], [public, public, en], [m...   \n",
       "2  [[[Nominee, Nominee, en], [of, of, en], [the, ...   \n",
       "3  [[[Is, इस, hi], [prakar, प्रकार, hi], [ke, के,...   \n",
       "4  [[[The, The, en], [Arabs, Arabs, ne], [laughed...   \n",
       "\n",
       "                                       Hinglish_norm  \\\n",
       "0  [क्या, आप, इन, files, को, स्थायी, रूप, से, per...   \n",
       "1  [उस, अवसर, पर, bombay, meetings, were, held, क...   \n",
       "2  [insurance, का, नामित, व्यक्ति, अभिदाता, का, न...   \n",
       "3  [इस, प्रकार, इस, vital, sector, inadequate, ap...   \n",
       "4  [arab, सैनिक, उसकी, बात, सुनकर, हंस, पड़े, अरब...   \n",
       "\n",
       "                                        Hinglish_lid  \\\n",
       "0       [hi, hi, hi, en, hi, hi, hi, hi, en, en, hi]   \n",
       "1               [hi, hi, hi, ne, en, en, en, hi, hi]   \n",
       "2               [en, hi, hi, hi, hi, hi, hi, hi, hi]   \n",
       "3  [hi, hi, hi, en, en, en, en, hi, hi, hi, hi, h...   \n",
       "4  [ne, hi, hi, hi, hi, hi, hi, hi, hi, hi, hi, e...   \n",
       "\n",
       "                                        hum_gen_norm  ... NOUN_symcom  \\\n",
       "0  [[वास्तव, वास्तव], [में, में], [sadar, sadar],...  ...         NaN   \n",
       "1  [[वास्तव, वास्तव], [में, में], [sadar, sadar],...  ...         NaN   \n",
       "2  [[वास्तव, वास्तव, वास्तव, वास्तव], [में, में, ...  ...         NaN   \n",
       "3  [[वास्तव, वास्तव], [में, में], [sadar, sadar],...  ...         NaN   \n",
       "4  [[वास्तव, वास्तव], [में, में], [sadar, sadar],...  ...         NaN   \n",
       "\n",
       "  ADP_symcom VERB_symcom  AUX_symcom  ADJ_symcom  SCONJ_symcom PROPN_symcom  \\\n",
       "0        NaN         NaN         NaN         NaN           NaN          NaN   \n",
       "1        NaN         NaN         NaN         NaN           NaN          NaN   \n",
       "2        NaN         NaN         NaN         NaN           NaN          NaN   \n",
       "3        NaN         NaN         NaN         NaN           NaN          NaN   \n",
       "4        NaN         NaN         NaN         NaN           NaN          NaN   \n",
       "\n",
       "   CCONJ_symcom  NUM_symcom  INTJ_symcom  \n",
       "0           NaN         NaN          NaN  \n",
       "1           NaN         NaN          NaN  \n",
       "2           NaN         NaN          NaN  \n",
       "3           NaN         NaN          NaN  \n",
       "4           NaN         NaN          NaN  \n",
       "\n",
       "[5 rows x 36 columns]"
      ]
     },
     "execution_count": 36,
     "metadata": {},
     "output_type": "execute_result"
    }
   ],
   "source": [
    "valdf.head()"
   ]
  },
  {
   "cell_type": "code",
   "execution_count": 15,
   "id": "a49adaea-e48b-412f-9adf-f48671786b72",
   "metadata": {
    "execution": {
     "iopub.execute_input": "2022-05-01T14:40:52.223781Z",
     "iopub.status.busy": "2022-05-01T14:40:52.223569Z",
     "iopub.status.idle": "2022-05-01T14:40:52.227691Z",
     "shell.execute_reply": "2022-05-01T14:40:52.227187Z",
     "shell.execute_reply.started": "2022-05-01T14:40:52.223758Z"
    }
   },
   "outputs": [
    {
     "data": {
      "text/plain": [
       "'/home2/anmol.goel/prashantk/csnli'"
      ]
     },
     "execution_count": 15,
     "metadata": {},
     "output_type": "execute_result"
    }
   ],
   "source": [
    "os.getcwd()"
   ]
  },
  {
   "cell_type": "code",
   "execution_count": 17,
   "id": "ee210787-d578-45eb-9fbe-c62155931453",
   "metadata": {
    "execution": {
     "iopub.execute_input": "2022-05-01T14:41:32.278373Z",
     "iopub.status.busy": "2022-05-01T14:41:32.278160Z",
     "iopub.status.idle": "2022-05-01T14:41:32.474626Z",
     "shell.execute_reply": "2022-05-01T14:41:32.474147Z",
     "shell.execute_reply.started": "2022-05-01T14:41:32.278350Z"
    },
    "tags": []
   },
   "outputs": [],
   "source": [
    "traindf.to_json(\"~/prashantk/PreCogLTRC-HinglishEval-INLG-2022/dataset/traindf.json\")\n",
    "valdf.to_json(\"~/prashantk/PreCogLTRC-HinglishEval-INLG-2022/dataset/valdf.json\")"
   ]
  },
  {
   "cell_type": "code",
   "execution_count": null,
   "id": "c2d6c1d3-7625-4b3c-b14d-3f776caff4f9",
   "metadata": {
    "tags": []
   },
   "outputs": [],
   "source": [
    "traindf = pd.read_json(\"~/prashantk/PreCogLTRC-HinglishEval-INLG-2022/dataset/traindf.json\")\n",
    "valdf = pd.read_json(\"~/prashantk/PreCogLTRC-HinglishEval-INLG-2022/dataset/valdf.json\")\n"
   ]
  },
  {
   "cell_type": "markdown",
   "id": "d0aa081d-c6d3-4084-9504-8ad94fe6108b",
   "metadata": {},
   "source": [
    "# PoS Tagging "
   ]
  },
  {
   "cell_type": "markdown",
   "id": "28008b58-a4d6-432b-80ca-8cb38b049781",
   "metadata": {},
   "source": [
    "- uses HuggingFace's Transformer's Library\n",
    "- incompatiable env with CSNLI. advisable to use seperate env for CSNLI. "
   ]
  },
  {
   "cell_type": "code",
   "execution_count": 8,
   "id": "6bed8ad4-ed11-4445-8d4b-bf50ce74e6ab",
   "metadata": {
    "execution": {
     "iopub.execute_input": "2022-05-02T16:31:20.771349Z",
     "iopub.status.busy": "2022-05-02T16:31:20.771077Z",
     "iopub.status.idle": "2022-05-02T16:31:38.396287Z",
     "shell.execute_reply": "2022-05-02T16:31:38.395810Z",
     "shell.execute_reply.started": "2022-05-02T16:31:20.771323Z"
    },
    "tags": []
   },
   "outputs": [
    {
     "name": "stdout",
     "output_type": "stream",
     "text": [
      "Downloading and preparing dataset universal_dependencies/qhe_hiencs to /home/prashantk/.cache/huggingface/datasets/universal_dependencies/qhe_hiencs/0.0.0/8a3dbde569b161527eabcc186381ac424d4859ff64505fb3da8ac3e0a03c904d...\n"
     ]
    },
    {
     "data": {
      "application/vnd.jupyter.widget-view+json": {
       "model_id": "235ee322fd0a451a87db25d7025b2e88",
       "version_major": 2,
       "version_minor": 0
      },
      "text/plain": [
       "0 examples [00:00, ? examples/s]"
      ]
     },
     "metadata": {},
     "output_type": "display_data"
    },
    {
     "data": {
      "application/vnd.jupyter.widget-view+json": {
       "model_id": "dd6a319d2c40495f8295b9a60f059770",
       "version_major": 2,
       "version_minor": 0
      },
      "text/plain": [
       "0 examples [00:00, ? examples/s]"
      ]
     },
     "metadata": {},
     "output_type": "display_data"
    },
    {
     "data": {
      "application/vnd.jupyter.widget-view+json": {
       "model_id": "6ffa9283c6344c67a5c1892f6bea037e",
       "version_major": 2,
       "version_minor": 0
      },
      "text/plain": [
       "0 examples [00:00, ? examples/s]"
      ]
     },
     "metadata": {},
     "output_type": "display_data"
    },
    {
     "name": "stdout",
     "output_type": "stream",
     "text": [
      "Dataset universal_dependencies downloaded and prepared to /home/prashantk/.cache/huggingface/datasets/universal_dependencies/qhe_hiencs/0.0.0/8a3dbde569b161527eabcc186381ac424d4859ff64505fb3da8ac3e0a03c904d. Subsequent calls will reuse this data.\n"
     ]
    },
    {
     "data": {
      "application/vnd.jupyter.widget-view+json": {
       "model_id": "5dc63d0f240446b7be7f534f6badf832",
       "version_major": 2,
       "version_minor": 0
      },
      "text/plain": [
       "  0%|          | 0/3 [00:00<?, ?it/s]"
      ]
     },
     "metadata": {},
     "output_type": "display_data"
    }
   ],
   "source": [
    "from transformers import AutoTokenizer, AutoModelForTokenClassification\n",
    "from datasets import load_dataset, load_metric, concatenate_datasets\n",
    "\n",
    "\n",
    "tokenizer = AutoTokenizer.from_pretrained(\"prakod/en-hi-pos-tagger-symcom\")\n",
    "\n",
    "model = AutoModelForTokenClassification.from_pretrained(\"prakod/en-hi-pos-tagger-symcom\")\n",
    "\n",
    "\n",
    "def predictposSent(model,sentence):\n",
    "  \n",
    "  tokenized_sentence = tokenizer(sentence,return_tensors='pt')\n",
    "\n",
    "\n",
    "  mask = []\n",
    "  prev_id = None\n",
    "  for ind,id in enumerate(tokenized_sentence.word_ids()):\n",
    "    \n",
    "    if id is None:\n",
    "      mask.append(-100)\n",
    "    elif id == prev_id:\n",
    "      mask.append(-100)\n",
    "    elif id != prev_id:\n",
    "      mask.append(id)\n",
    "    prev_id = id\n",
    "\n",
    "\n",
    "  outputs = model(**tokenized_sentence.to('cuda'))\n",
    "\n",
    "  preds = np.argmax(outputs['logits'].cpu().detach().numpy(), axis=2).squeeze()\n",
    "\n",
    "\n",
    "  true_preds = [\n",
    "      label_list[p] for (p, l) in zip(preds, mask) if l != -100\n",
    "  ]\n",
    "  \n",
    "  \n",
    "  return true_preds\n",
    "\n",
    "\n",
    "sent = ['abbe','keyo', 'fek', 'raha', 'hai', 'andhe', 'news', 'dalal'] \n",
    "        \n",
    "sent_norm = ['अब्बी', 'क्यो', 'फेक', 'रहा', 'है', 'अंधे', 'news', 'डाल' ]\n",
    "\n",
    "model.to('cuda')\n",
    "\n",
    "datasets_UD = load_dataset('/home/prashantk/en-hi-pos-tagger/load_UD_enhics_mod (3).py','qhe_hiencs')\n",
    "\n",
    "label_list = datasets_UD[\"train\"].features[f\"upos\"].feature.names\n",
    "\n",
    "tags_words = predictposSent(model,' '.join(sent))\n",
    "tags_normalised = predictposSent(model,' '.join(sent_norm))"
   ]
  },
  {
   "cell_type": "code",
   "execution_count": 9,
   "id": "78c2b5d8-8129-4e36-9c60-ebebdf594aa4",
   "metadata": {
    "execution": {
     "iopub.execute_input": "2022-05-02T16:31:40.952242Z",
     "iopub.status.busy": "2022-05-02T16:31:40.951958Z",
     "iopub.status.idle": "2022-05-02T16:31:40.962843Z",
     "shell.execute_reply": "2022-05-02T16:31:40.961822Z",
     "shell.execute_reply.started": "2022-05-02T16:31:40.952213Z"
    },
    "tags": []
   },
   "outputs": [
    {
     "data": {
      "text/plain": [
       "['ADV', 'VERB', 'VERB', 'AUX', 'AUX', 'PRON', 'NOUN', 'NOUN']"
      ]
     },
     "execution_count": 9,
     "metadata": {},
     "output_type": "execute_result"
    }
   ],
   "source": [
    "tags_words"
   ]
  },
  {
   "cell_type": "code",
   "execution_count": 10,
   "id": "9e38c86b-5f71-4ff4-b927-c1caf5d1bc4d",
   "metadata": {
    "execution": {
     "iopub.execute_input": "2022-05-02T16:31:41.558369Z",
     "iopub.status.busy": "2022-05-02T16:31:41.558128Z",
     "iopub.status.idle": "2022-05-02T16:31:41.562553Z",
     "shell.execute_reply": "2022-05-02T16:31:41.562020Z",
     "shell.execute_reply.started": "2022-05-02T16:31:41.558346Z"
    },
    "tags": []
   },
   "outputs": [
    {
     "data": {
      "text/plain": [
       "['NOUN', 'ADV', 'VERB', 'AUX', 'AUX', 'ADJ', 'NOUN', 'VERB']"
      ]
     },
     "execution_count": 10,
     "metadata": {},
     "output_type": "execute_result"
    }
   ],
   "source": [
    "tags_normalised"
   ]
  },
  {
   "cell_type": "code",
   "execution_count": 7,
   "id": "d6920170-c7e9-4c47-9d37-45b619418160",
   "metadata": {
    "execution": {
     "iopub.execute_input": "2022-05-01T15:07:53.114916Z",
     "iopub.status.busy": "2022-05-01T15:07:53.114699Z",
     "iopub.status.idle": "2022-05-01T15:07:53.212660Z",
     "shell.execute_reply": "2022-05-01T15:07:53.212132Z",
     "shell.execute_reply.started": "2022-05-01T15:07:53.114894Z"
    }
   },
   "outputs": [
    {
     "data": {
      "text/html": [
       "<div>\n",
       "<style scoped>\n",
       "    .dataframe tbody tr th:only-of-type {\n",
       "        vertical-align: middle;\n",
       "    }\n",
       "\n",
       "    .dataframe tbody tr th {\n",
       "        vertical-align: top;\n",
       "    }\n",
       "\n",
       "    .dataframe thead th {\n",
       "        text-align: right;\n",
       "    }\n",
       "</style>\n",
       "<table border=\"1\" class=\"dataframe\">\n",
       "  <thead>\n",
       "    <tr style=\"text-align: right;\">\n",
       "      <th></th>\n",
       "      <th>English</th>\n",
       "      <th>Hindi</th>\n",
       "      <th>Hinglish</th>\n",
       "      <th>Average rating</th>\n",
       "      <th>Disagreement</th>\n",
       "      <th>hum_gen</th>\n",
       "      <th>Hinglish_csnliop</th>\n",
       "      <th>hum_gen_csnliop</th>\n",
       "    </tr>\n",
       "  </thead>\n",
       "  <tbody>\n",
       "    <tr>\n",
       "      <th>0</th>\n",
       "      <td>Program module is a file that contains instruc...</td>\n",
       "      <td>माड्यूल, एक संचिका होती है, जिसमें या तो स्रोत...</td>\n",
       "      <td>module , ek program hoti hai , jismen ya to so...</td>\n",
       "      <td>7</td>\n",
       "      <td>6</td>\n",
       "      <td>[Program module ek sanchika hoti hai, jisme ya...</td>\n",
       "      <td>[[module, module, en], [,, ,, univ], [ek, एक, ...</td>\n",
       "      <td>[[[Program, Program, en], [module, module, en]...</td>\n",
       "    </tr>\n",
       "    <tr>\n",
       "      <th>1</th>\n",
       "      <td>And to Thamud We sent their brother Sali 'h. H...</td>\n",
       "      <td>और (हमने) क़ौमे समूद के पास उनके भाई सालेह को ...</td>\n",
       "      <td>aur hamne aume samood ke pas unke bhaee saleh ...</td>\n",
       "      <td>6</td>\n",
       "      <td>4</td>\n",
       "      <td>[Aur humne unke bhai Salih ko Thamud ke paas b...</td>\n",
       "      <td>[[aur, और, hi], [hamne, हमने, hi], [aume, औमे,...</td>\n",
       "      <td>[[[Aur, और, hi], [humne, हमने, hi], [unke, उनक...</td>\n",
       "    </tr>\n",
       "    <tr>\n",
       "      <th>2</th>\n",
       "      <td>and, when reminded, do not remember\\n</td>\n",
       "      <td>और जब उन्हें याद दिलाया जाता है, तो वे याद नही...</td>\n",
       "      <td>aur jab unhen yad dilaya jata hai , to ve yad ...</td>\n",
       "      <td>10</td>\n",
       "      <td>0</td>\n",
       "      <td>[And jab remind karaya jaata hai, then they do...</td>\n",
       "      <td>[[aur, और, hi], [jab, जब, hi], [unhen, उन्हें,...</td>\n",
       "      <td>[[[And, And, en], [jab, जब, hi], [remind, remi...</td>\n",
       "    </tr>\n",
       "    <tr>\n",
       "      <th>3</th>\n",
       "      <td>you won the TED Prize 2011.\\n</td>\n",
       "      <td>तुम्हें २०११ का टेड प्राइज़ मिल गया है.\\n</td>\n",
       "      <td>tumhen २०११ ka ted prize mil gaya hai\\n</td>\n",
       "      <td>9</td>\n",
       "      <td>1</td>\n",
       "      <td>[tumhe TED Prize 2011 mil gaya hai.\\n, You won...</td>\n",
       "      <td>[[tumhen, तुम्हें, hi], [२०११, २०११, hi], [ka,...</td>\n",
       "      <td>[[[tumhe, तुम्हें, hi], [TED, TED, acro], [Pri...</td>\n",
       "    </tr>\n",
       "    <tr>\n",
       "      <th>4</th>\n",
       "      <td>He gone to Kerodemal College of Delhi Universi...</td>\n",
       "      <td>उन्होंने बाद अध्ययन करने के लिए ये दिल्ली विश्...</td>\n",
       "      <td>unhonne bad science karne ke lie ye delhi univ...</td>\n",
       "      <td>7</td>\n",
       "      <td>0</td>\n",
       "      <td>[Unhone baad adhyayan karne ke liye ye Delhi U...</td>\n",
       "      <td>[[unhonne, उन्होंने, hi], [bad, bad, en], [sci...</td>\n",
       "      <td>[[[Unhone, उन्होंने, hi], [baad, बाढ़, hi], [a...</td>\n",
       "    </tr>\n",
       "  </tbody>\n",
       "</table>\n",
       "</div>"
      ],
      "text/plain": [
       "                                             English  \\\n",
       "0  Program module is a file that contains instruc...   \n",
       "1  And to Thamud We sent their brother Sali 'h. H...   \n",
       "2              and, when reminded, do not remember\\n   \n",
       "3                      you won the TED Prize 2011.\\n   \n",
       "4  He gone to Kerodemal College of Delhi Universi...   \n",
       "\n",
       "                                               Hindi  \\\n",
       "0  माड्यूल, एक संचिका होती है, जिसमें या तो स्रोत...   \n",
       "1  और (हमने) क़ौमे समूद के पास उनके भाई सालेह को ...   \n",
       "2  और जब उन्हें याद दिलाया जाता है, तो वे याद नही...   \n",
       "3          तुम्हें २०११ का टेड प्राइज़ मिल गया है.\\n   \n",
       "4  उन्होंने बाद अध्ययन करने के लिए ये दिल्ली विश्...   \n",
       "\n",
       "                                            Hinglish  Average rating  \\\n",
       "0  module , ek program hoti hai , jismen ya to so...               7   \n",
       "1  aur hamne aume samood ke pas unke bhaee saleh ...               6   \n",
       "2  aur jab unhen yad dilaya jata hai , to ve yad ...              10   \n",
       "3            tumhen २०११ ka ted prize mil gaya hai\\n               9   \n",
       "4  unhonne bad science karne ke lie ye delhi univ...               7   \n",
       "\n",
       "   Disagreement                                            hum_gen  \\\n",
       "0             6  [Program module ek sanchika hoti hai, jisme ya...   \n",
       "1             4  [Aur humne unke bhai Salih ko Thamud ke paas b...   \n",
       "2             0  [And jab remind karaya jaata hai, then they do...   \n",
       "3             1  [tumhe TED Prize 2011 mil gaya hai.\\n, You won...   \n",
       "4             0  [Unhone baad adhyayan karne ke liye ye Delhi U...   \n",
       "\n",
       "                                    Hinglish_csnliop  \\\n",
       "0  [[module, module, en], [,, ,, univ], [ek, एक, ...   \n",
       "1  [[aur, और, hi], [hamne, हमने, hi], [aume, औमे,...   \n",
       "2  [[aur, और, hi], [jab, जब, hi], [unhen, उन्हें,...   \n",
       "3  [[tumhen, तुम्हें, hi], [२०११, २०११, hi], [ka,...   \n",
       "4  [[unhonne, उन्होंने, hi], [bad, bad, en], [sci...   \n",
       "\n",
       "                                     hum_gen_csnliop  \n",
       "0  [[[Program, Program, en], [module, module, en]...  \n",
       "1  [[[Aur, और, hi], [humne, हमने, hi], [unke, उनक...  \n",
       "2  [[[And, And, en], [jab, जब, hi], [remind, remi...  \n",
       "3  [[[tumhe, तुम्हें, hi], [TED, TED, acro], [Pri...  \n",
       "4  [[[Unhone, उन्होंने, hi], [baad, बाढ़, hi], [a...  "
      ]
     },
     "execution_count": 7,
     "metadata": {},
     "output_type": "execute_result"
    }
   ],
   "source": [
    "traindf.head()"
   ]
  },
  {
   "cell_type": "code",
   "execution_count": 1,
   "id": "bdf8b1ff-4477-4cec-9235-d8a3eb2681c6",
   "metadata": {
    "execution": {
     "iopub.execute_input": "2022-05-05T11:40:46.847052Z",
     "iopub.status.busy": "2022-05-05T11:40:46.846649Z",
     "iopub.status.idle": "2022-05-05T11:40:47.669014Z",
     "shell.execute_reply": "2022-05-05T11:40:47.668281Z",
     "shell.execute_reply.started": "2022-05-05T11:40:46.846946Z"
    },
    "tags": []
   },
   "outputs": [
    {
     "ename": "NameError",
     "evalue": "name 'traindf' is not defined",
     "output_type": "error",
     "traceback": [
      "\u001b[0;31m---------------------------------------------------------------------------\u001b[0m",
      "\u001b[0;31mNameError\u001b[0m                                 Traceback (most recent call last)",
      "\u001b[0;32m/tmp/ipykernel_15256/3245406983.py\u001b[0m in \u001b[0;36m<module>\u001b[0;34m\u001b[0m\n\u001b[1;32m      2\u001b[0m \u001b[0;34m\u001b[0m\u001b[0m\n\u001b[1;32m      3\u001b[0m \u001b[0;34m\u001b[0m\u001b[0m\n\u001b[0;32m----> 4\u001b[0;31m \u001b[0mtraindf\u001b[0m\u001b[0;34m[\u001b[0m\u001b[0;34m\"Hinglish_norm\"\u001b[0m\u001b[0;34m]\u001b[0m \u001b[0;34m=\u001b[0m \u001b[0;34m[\u001b[0m\u001b[0;34m[\u001b[0m\u001b[0mtoken\u001b[0m\u001b[0;34m[\u001b[0m\u001b[0;36m1\u001b[0m\u001b[0;34m]\u001b[0m \u001b[0;32mfor\u001b[0m \u001b[0mtoken\u001b[0m \u001b[0;32min\u001b[0m \u001b[0mel\u001b[0m\u001b[0;34m]\u001b[0m \u001b[0;32mfor\u001b[0m \u001b[0mel\u001b[0m \u001b[0;32min\u001b[0m \u001b[0mtraindf\u001b[0m\u001b[0;34m[\u001b[0m\u001b[0;34m\"Hinglish_csnliop\"\u001b[0m\u001b[0;34m]\u001b[0m\u001b[0;34m]\u001b[0m\u001b[0;34m\u001b[0m\u001b[0;34m\u001b[0m\u001b[0m\n\u001b[0m\u001b[1;32m      5\u001b[0m \u001b[0mtraindf\u001b[0m\u001b[0;34m[\u001b[0m\u001b[0;34m\"Hinglish_lid\"\u001b[0m\u001b[0;34m]\u001b[0m \u001b[0;34m=\u001b[0m \u001b[0;34m[\u001b[0m\u001b[0;34m[\u001b[0m\u001b[0mtoken\u001b[0m\u001b[0;34m[\u001b[0m\u001b[0;36m2\u001b[0m\u001b[0;34m]\u001b[0m \u001b[0;32mfor\u001b[0m \u001b[0mtoken\u001b[0m \u001b[0;32min\u001b[0m \u001b[0mel\u001b[0m\u001b[0;34m]\u001b[0m \u001b[0;32mfor\u001b[0m \u001b[0mel\u001b[0m \u001b[0;32min\u001b[0m \u001b[0mtraindf\u001b[0m\u001b[0;34m[\u001b[0m\u001b[0;34m\"Hinglish_csnliop\"\u001b[0m\u001b[0;34m]\u001b[0m\u001b[0;34m]\u001b[0m\u001b[0;34m\u001b[0m\u001b[0;34m\u001b[0m\u001b[0m\n",
      "\u001b[0;31mNameError\u001b[0m: name 'traindf' is not defined"
     ]
    }
   ],
   "source": [
    "# extracting individual elements from csnli op\n",
    "\n",
    "\n",
    "traindf[\"Hinglish_norm\"] = [[token[1] for token in el] for el in traindf[\"Hinglish_csnliop\"]]\n",
    "traindf[\"Hinglish_lid\"] = [[token[2] for token in el] for el in traindf[\"Hinglish_csnliop\"]]"
   ]
  },
  {
   "cell_type": "code",
   "execution_count": 51,
   "id": "46a03bdf-2fab-4751-a956-d23640f7fb08",
   "metadata": {
    "execution": {
     "iopub.execute_input": "2022-05-01T15:27:18.908726Z",
     "iopub.status.busy": "2022-05-01T15:27:18.908512Z",
     "iopub.status.idle": "2022-05-01T15:27:19.136962Z",
     "shell.execute_reply": "2022-05-01T15:27:19.136480Z",
     "shell.execute_reply.started": "2022-05-01T15:27:18.908703Z"
    },
    "tags": []
   },
   "outputs": [
    {
     "name": "stderr",
     "output_type": "stream",
     "text": [
      "100%|██████████| 2766/2766 [00:00<00:00, 17790.84it/s]\n",
      "100%|██████████| 2766/2766 [00:00<00:00, 115639.78it/s]\n"
     ]
    }
   ],
   "source": [
    "traindf[\"hum_gen_norm\"] = [[[token[1] for sent in el] for token in sent] for el in tqdm(traindf[\"hum_gen_csnliop\"])]\n",
    "traindf[\"hum_gen_lid\"] = [[[token[2] for sent in el] for token in sent] for el in tqdm(traindf[\"hum_gen_csnliop\"])]"
   ]
  },
  {
   "cell_type": "code",
   "execution_count": 49,
   "id": "dbc5b532-7fb1-45ca-b99c-bbc09a1fc040",
   "metadata": {
    "execution": {
     "iopub.execute_input": "2022-05-01T15:27:02.109349Z",
     "iopub.status.busy": "2022-05-01T15:27:02.109136Z",
     "iopub.status.idle": "2022-05-01T15:27:02.152205Z",
     "shell.execute_reply": "2022-05-01T15:27:02.151633Z",
     "shell.execute_reply.started": "2022-05-01T15:27:02.109327Z"
    },
    "tags": []
   },
   "outputs": [],
   "source": [
    "hum_gen_csnliop = []\n",
    "for el in traindf[\"hum_gen_csnliop\"]:\n",
    "    temp = []\n",
    "    for sent in el:\n",
    "        if not isinstance(sent, list):\n",
    "            print(sent)\n",
    "            temp.append([sent,sent,\"en\"])\n",
    "        else:\n",
    "            temp.append(sent)\n",
    "    hum_gen_csnliop.append(temp)\n",
    "    \n",
    "traindf[\"hum_gen_csnliop\"] = hum_gen_csnliop"
   ]
  },
  {
   "cell_type": "code",
   "execution_count": 52,
   "id": "c69d4a3c-d8bc-4d21-891e-4d5baf3389d3",
   "metadata": {
    "execution": {
     "iopub.execute_input": "2022-05-01T15:27:24.730938Z",
     "iopub.status.busy": "2022-05-01T15:27:24.730728Z",
     "iopub.status.idle": "2022-05-01T15:27:24.867089Z",
     "shell.execute_reply": "2022-05-01T15:27:24.866592Z",
     "shell.execute_reply.started": "2022-05-01T15:27:24.730916Z"
    },
    "tags": []
   },
   "outputs": [
    {
     "data": {
      "text/html": [
       "<div>\n",
       "<style scoped>\n",
       "    .dataframe tbody tr th:only-of-type {\n",
       "        vertical-align: middle;\n",
       "    }\n",
       "\n",
       "    .dataframe tbody tr th {\n",
       "        vertical-align: top;\n",
       "    }\n",
       "\n",
       "    .dataframe thead th {\n",
       "        text-align: right;\n",
       "    }\n",
       "</style>\n",
       "<table border=\"1\" class=\"dataframe\">\n",
       "  <thead>\n",
       "    <tr style=\"text-align: right;\">\n",
       "      <th></th>\n",
       "      <th>English</th>\n",
       "      <th>Hindi</th>\n",
       "      <th>Hinglish</th>\n",
       "      <th>Average rating</th>\n",
       "      <th>Disagreement</th>\n",
       "      <th>hum_gen</th>\n",
       "      <th>Hinglish_csnliop</th>\n",
       "      <th>hum_gen_csnliop</th>\n",
       "      <th>Hinglish_norm</th>\n",
       "      <th>Hinglish_lid</th>\n",
       "      <th>hum_gen_norm</th>\n",
       "      <th>hum_gen_lid</th>\n",
       "    </tr>\n",
       "  </thead>\n",
       "  <tbody>\n",
       "    <tr>\n",
       "      <th>0</th>\n",
       "      <td>Program module is a file that contains instruc...</td>\n",
       "      <td>माड्यूल, एक संचिका होती है, जिसमें या तो स्रोत...</td>\n",
       "      <td>module , ek program hoti hai , jismen ya to so...</td>\n",
       "      <td>7</td>\n",
       "      <td>6</td>\n",
       "      <td>[Program module ek sanchika hoti hai, jisme ya...</td>\n",
       "      <td>[[module, module, en], [,, ,, univ], [ek, एक, ...</td>\n",
       "      <td>[[[Program, Program, en], [module, module, en]...</td>\n",
       "      <td>[module, ,, एक, program, होती, है, ,, जिसमें, ...</td>\n",
       "      <td>[en, univ, hi, en, hi, hi, univ, hi, hi, hi, e...</td>\n",
       "      <td>[[वास्तव, वास्तव, वास्तव, वास्तव], [में, में, ...</td>\n",
       "      <td>[[hi, hi, hi, hi], [hi, hi, hi, hi], [ne, ne, ...</td>\n",
       "    </tr>\n",
       "    <tr>\n",
       "      <th>1</th>\n",
       "      <td>And to Thamud We sent their brother Sali 'h. H...</td>\n",
       "      <td>और (हमने) क़ौमे समूद के पास उनके भाई सालेह को ...</td>\n",
       "      <td>aur hamne aume samood ke pas unke bhaee saleh ...</td>\n",
       "      <td>6</td>\n",
       "      <td>4</td>\n",
       "      <td>[Aur humne unke bhai Salih ko Thamud ke paas b...</td>\n",
       "      <td>[[aur, और, hi], [hamne, हमने, hi], [aume, औमे,...</td>\n",
       "      <td>[[[Aur, और, hi], [humne, हमने, hi], [unke, उनक...</td>\n",
       "      <td>[और, हमने, औमे, samood, के, पास, उनके, भाई, सा...</td>\n",
       "      <td>[hi, hi, hi, ne, hi, hi, hi, hi, hi, hi, hi, h...</td>\n",
       "      <td>[[वास्तव, वास्तव, वास्तव, वास्तव], [में, में, ...</td>\n",
       "      <td>[[hi, hi, hi, hi], [hi, hi, hi, hi], [ne, ne, ...</td>\n",
       "    </tr>\n",
       "    <tr>\n",
       "      <th>2</th>\n",
       "      <td>and, when reminded, do not remember\\n</td>\n",
       "      <td>और जब उन्हें याद दिलाया जाता है, तो वे याद नही...</td>\n",
       "      <td>aur jab unhen yad dilaya jata hai , to ve yad ...</td>\n",
       "      <td>10</td>\n",
       "      <td>0</td>\n",
       "      <td>[And jab remind karaya jaata hai, then they do...</td>\n",
       "      <td>[[aur, और, hi], [jab, जब, hi], [unhen, उन्हें,...</td>\n",
       "      <td>[[[And, And, en], [jab, जब, hi], [remind, remi...</td>\n",
       "      <td>[और, जब, उन्हें, याद, दिलाया, जाता, है, ,, तो,...</td>\n",
       "      <td>[hi, hi, hi, hi, hi, hi, hi, univ, hi, en, hi,...</td>\n",
       "      <td>[[वास्तव, वास्तव], [में, में], [sadar, sadar],...</td>\n",
       "      <td>[[hi, hi], [hi, hi], [ne, ne], [hi, hi], [en, ...</td>\n",
       "    </tr>\n",
       "    <tr>\n",
       "      <th>3</th>\n",
       "      <td>you won the TED Prize 2011.\\n</td>\n",
       "      <td>तुम्हें २०११ का टेड प्राइज़ मिल गया है.\\n</td>\n",
       "      <td>tumhen २०११ ka ted prize mil gaya hai\\n</td>\n",
       "      <td>9</td>\n",
       "      <td>1</td>\n",
       "      <td>[tumhe TED Prize 2011 mil gaya hai.\\n, You won...</td>\n",
       "      <td>[[tumhen, तुम्हें, hi], [२०११, २०११, hi], [ka,...</td>\n",
       "      <td>[[[tumhe, तुम्हें, hi], [TED, TED, acro], [Pri...</td>\n",
       "      <td>[तुम्हें, २०११, का, red, prize, मिल, गया, है]</td>\n",
       "      <td>[hi, hi, hi, en, en, hi, hi, hi]</td>\n",
       "      <td>[[वास्तव, वास्तव], [में, में], [sadar, sadar],...</td>\n",
       "      <td>[[hi, hi], [hi, hi], [ne, ne], [hi, hi], [en, ...</td>\n",
       "    </tr>\n",
       "    <tr>\n",
       "      <th>4</th>\n",
       "      <td>He gone to Kerodemal College of Delhi Universi...</td>\n",
       "      <td>उन्होंने बाद अध्ययन करने के लिए ये दिल्ली विश्...</td>\n",
       "      <td>unhonne bad science karne ke lie ye delhi univ...</td>\n",
       "      <td>7</td>\n",
       "      <td>0</td>\n",
       "      <td>[Unhone baad adhyayan karne ke liye ye Delhi U...</td>\n",
       "      <td>[[unhonne, उन्होंने, hi], [bad, bad, en], [sci...</td>\n",
       "      <td>[[[Unhone, उन्होंने, hi], [baad, बाढ़, hi], [a...</td>\n",
       "      <td>[उन्होंने, bad, science, करने, के, लिए, यह, de...</td>\n",
       "      <td>[hi, en, en, hi, hi, hi, hi, ne, en, hi, en, e...</td>\n",
       "      <td>[[वास्तव, वास्तव], [में, में], [sadar, sadar],...</td>\n",
       "      <td>[[hi, hi], [hi, hi], [ne, ne], [hi, hi], [en, ...</td>\n",
       "    </tr>\n",
       "  </tbody>\n",
       "</table>\n",
       "</div>"
      ],
      "text/plain": [
       "                                             English  \\\n",
       "0  Program module is a file that contains instruc...   \n",
       "1  And to Thamud We sent their brother Sali 'h. H...   \n",
       "2              and, when reminded, do not remember\\n   \n",
       "3                      you won the TED Prize 2011.\\n   \n",
       "4  He gone to Kerodemal College of Delhi Universi...   \n",
       "\n",
       "                                               Hindi  \\\n",
       "0  माड्यूल, एक संचिका होती है, जिसमें या तो स्रोत...   \n",
       "1  और (हमने) क़ौमे समूद के पास उनके भाई सालेह को ...   \n",
       "2  और जब उन्हें याद दिलाया जाता है, तो वे याद नही...   \n",
       "3          तुम्हें २०११ का टेड प्राइज़ मिल गया है.\\n   \n",
       "4  उन्होंने बाद अध्ययन करने के लिए ये दिल्ली विश्...   \n",
       "\n",
       "                                            Hinglish  Average rating  \\\n",
       "0  module , ek program hoti hai , jismen ya to so...               7   \n",
       "1  aur hamne aume samood ke pas unke bhaee saleh ...               6   \n",
       "2  aur jab unhen yad dilaya jata hai , to ve yad ...              10   \n",
       "3            tumhen २०११ ka ted prize mil gaya hai\\n               9   \n",
       "4  unhonne bad science karne ke lie ye delhi univ...               7   \n",
       "\n",
       "   Disagreement                                            hum_gen  \\\n",
       "0             6  [Program module ek sanchika hoti hai, jisme ya...   \n",
       "1             4  [Aur humne unke bhai Salih ko Thamud ke paas b...   \n",
       "2             0  [And jab remind karaya jaata hai, then they do...   \n",
       "3             1  [tumhe TED Prize 2011 mil gaya hai.\\n, You won...   \n",
       "4             0  [Unhone baad adhyayan karne ke liye ye Delhi U...   \n",
       "\n",
       "                                    Hinglish_csnliop  \\\n",
       "0  [[module, module, en], [,, ,, univ], [ek, एक, ...   \n",
       "1  [[aur, और, hi], [hamne, हमने, hi], [aume, औमे,...   \n",
       "2  [[aur, और, hi], [jab, जब, hi], [unhen, उन्हें,...   \n",
       "3  [[tumhen, तुम्हें, hi], [२०११, २०११, hi], [ka,...   \n",
       "4  [[unhonne, उन्होंने, hi], [bad, bad, en], [sci...   \n",
       "\n",
       "                                     hum_gen_csnliop  \\\n",
       "0  [[[Program, Program, en], [module, module, en]...   \n",
       "1  [[[Aur, और, hi], [humne, हमने, hi], [unke, उनक...   \n",
       "2  [[[And, And, en], [jab, जब, hi], [remind, remi...   \n",
       "3  [[[tumhe, तुम्हें, hi], [TED, TED, acro], [Pri...   \n",
       "4  [[[Unhone, उन्होंने, hi], [baad, बाढ़, hi], [a...   \n",
       "\n",
       "                                       Hinglish_norm  \\\n",
       "0  [module, ,, एक, program, होती, है, ,, जिसमें, ...   \n",
       "1  [और, हमने, औमे, samood, के, पास, उनके, भाई, सा...   \n",
       "2  [और, जब, उन्हें, याद, दिलाया, जाता, है, ,, तो,...   \n",
       "3      [तुम्हें, २०११, का, red, prize, मिल, गया, है]   \n",
       "4  [उन्होंने, bad, science, करने, के, लिए, यह, de...   \n",
       "\n",
       "                                        Hinglish_lid  \\\n",
       "0  [en, univ, hi, en, hi, hi, univ, hi, hi, hi, e...   \n",
       "1  [hi, hi, hi, ne, hi, hi, hi, hi, hi, hi, hi, h...   \n",
       "2  [hi, hi, hi, hi, hi, hi, hi, univ, hi, en, hi,...   \n",
       "3                   [hi, hi, hi, en, en, hi, hi, hi]   \n",
       "4  [hi, en, en, hi, hi, hi, hi, ne, en, hi, en, e...   \n",
       "\n",
       "                                        hum_gen_norm  \\\n",
       "0  [[वास्तव, वास्तव, वास्तव, वास्तव], [में, में, ...   \n",
       "1  [[वास्तव, वास्तव, वास्तव, वास्तव], [में, में, ...   \n",
       "2  [[वास्तव, वास्तव], [में, में], [sadar, sadar],...   \n",
       "3  [[वास्तव, वास्तव], [में, में], [sadar, sadar],...   \n",
       "4  [[वास्तव, वास्तव], [में, में], [sadar, sadar],...   \n",
       "\n",
       "                                         hum_gen_lid  \n",
       "0  [[hi, hi, hi, hi], [hi, hi, hi, hi], [ne, ne, ...  \n",
       "1  [[hi, hi, hi, hi], [hi, hi, hi, hi], [ne, ne, ...  \n",
       "2  [[hi, hi], [hi, hi], [ne, ne], [hi, hi], [en, ...  \n",
       "3  [[hi, hi], [hi, hi], [ne, ne], [hi, hi], [en, ...  \n",
       "4  [[hi, hi], [hi, hi], [ne, ne], [hi, hi], [en, ...  "
      ]
     },
     "execution_count": 52,
     "metadata": {},
     "output_type": "execute_result"
    }
   ],
   "source": [
    "traindf.head()"
   ]
  },
  {
   "cell_type": "code",
   "execution_count": 54,
   "id": "f475af02-f31e-466b-88cc-180ac5abecd8",
   "metadata": {
    "execution": {
     "iopub.execute_input": "2022-05-01T15:28:50.680764Z",
     "iopub.status.busy": "2022-05-01T15:28:50.680510Z",
     "iopub.status.idle": "2022-05-01T15:29:20.131704Z",
     "shell.execute_reply": "2022-05-01T15:29:20.131095Z",
     "shell.execute_reply.started": "2022-05-01T15:28:50.680740Z"
    },
    "tags": []
   },
   "outputs": [
    {
     "name": "stderr",
     "output_type": "stream",
     "text": [
      "100%|██████████| 2766/2766 [00:29<00:00, 93.94it/s]\n"
     ]
    }
   ],
   "source": [
    "hinglish_pos = [predictposSent(model,' '.join(sent)) for sent in tqdm(traindf[\"Hinglish_norm\"])]"
   ]
  },
  {
   "cell_type": "code",
   "execution_count": 56,
   "id": "6988833a-964c-4bf7-a758-5962aa11a43f",
   "metadata": {
    "execution": {
     "iopub.execute_input": "2022-05-01T15:30:43.117859Z",
     "iopub.status.busy": "2022-05-01T15:30:43.117540Z",
     "iopub.status.idle": "2022-05-01T15:30:43.123115Z",
     "shell.execute_reply": "2022-05-01T15:30:43.122551Z",
     "shell.execute_reply.started": "2022-05-01T15:30:43.117835Z"
    },
    "tags": []
   },
   "outputs": [],
   "source": [
    "for normsent,pos in zip(traindf[\"Hinglish_norm\"], hinglish_pos):\n",
    "    assert len(normsent) == len(pos)"
   ]
  },
  {
   "cell_type": "code",
   "execution_count": 57,
   "id": "a276ca07-d30c-48bf-9902-cc3a0f9f1ca7",
   "metadata": {
    "execution": {
     "iopub.execute_input": "2022-05-01T15:31:26.842418Z",
     "iopub.status.busy": "2022-05-01T15:31:26.842206Z",
     "iopub.status.idle": "2022-05-01T15:31:26.848220Z",
     "shell.execute_reply": "2022-05-01T15:31:26.847726Z",
     "shell.execute_reply.started": "2022-05-01T15:31:26.842396Z"
    }
   },
   "outputs": [],
   "source": [
    "traindf[\"Hinglish_pos\"] = hinglish_pos"
   ]
  },
  {
   "cell_type": "code",
   "execution_count": 58,
   "id": "2ec8a0bd-cbed-4369-9e7b-5e082c9ca33a",
   "metadata": {
    "execution": {
     "iopub.execute_input": "2022-05-01T15:32:00.545323Z",
     "iopub.status.busy": "2022-05-01T15:32:00.545116Z",
     "iopub.status.idle": "2022-05-01T15:41:03.477847Z",
     "shell.execute_reply": "2022-05-01T15:41:03.477207Z",
     "shell.execute_reply.started": "2022-05-01T15:32:00.545301Z"
    }
   },
   "outputs": [
    {
     "name": "stderr",
     "output_type": "stream",
     "text": [
      "100%|██████████| 2766/2766 [09:02<00:00,  5.09it/s]\n"
     ]
    }
   ],
   "source": [
    "hum_gen_pos = [[predictposSent(model,' '.join(sent)) for sent in el] for el in tqdm(traindf[\"Hinglish_norm\"])]\n",
    "traindf[\"hum_gen_pos\"]  = hum_gen_pos"
   ]
  },
  {
   "cell_type": "code",
   "execution_count": 62,
   "id": "c6de5322-46db-40ae-852e-0ee41ab26e3f",
   "metadata": {
    "execution": {
     "iopub.execute_input": "2022-05-01T15:43:04.903248Z",
     "iopub.status.busy": "2022-05-01T15:43:04.903003Z",
     "iopub.status.idle": "2022-05-01T15:43:04.930417Z",
     "shell.execute_reply": "2022-05-01T15:43:04.929758Z",
     "shell.execute_reply.started": "2022-05-01T15:43:04.903220Z"
    }
   },
   "outputs": [],
   "source": [
    "traindf[\"hum_gen_pos\"]  = hum_gen_pos"
   ]
  },
  {
   "cell_type": "code",
   "execution_count": null,
   "id": "1a6fe79f-c95b-4518-a8a0-ced44d1d3a40",
   "metadata": {
    "tags": []
   },
   "outputs": [],
   "source": [
    "valdf[\"Hinglish_norm\"] = [[token[1] for token in el] for el in valdf[\"Hinglish_csnliop\"]]\n",
    "valdf[\"Hinglish_lid\"] = [[token[2] for token in el] for el in valdf[\"Hinglish_csnliop\"]]\n",
    "\n",
    "valdf[\"hum_gen_norm\"] = [[[token[1] for sent in el] for token in sent] for el in tqdm(valdf[\"hum_gen_csnliop\"])]\n",
    "valdf[\"hum_gen_lid\"] = [[[token[2] for sent in el] for token in sent] for el in tqdm(valdf[\"hum_gen_csnliop\"])]"
   ]
  },
  {
   "cell_type": "code",
   "execution_count": 34,
   "id": "e4a37ab8-8e70-44c7-a2c1-73d1972b8dea",
   "metadata": {
    "execution": {
     "iopub.execute_input": "2022-05-02T16:38:24.882822Z",
     "iopub.status.busy": "2022-05-02T16:38:24.882583Z",
     "iopub.status.idle": "2022-05-02T16:38:24.887687Z",
     "shell.execute_reply": "2022-05-02T16:38:24.887100Z",
     "shell.execute_reply.started": "2022-05-02T16:38:24.882798Z"
    }
   },
   "outputs": [
    {
     "data": {
      "text/plain": [
       "Counter({list: 395, float: 395})"
      ]
     },
     "execution_count": 34,
     "metadata": {},
     "output_type": "execute_result"
    }
   ],
   "source": [
    "from collections import Counter\n",
    "\n",
    "Counter([type(el) for el in valdf[\"Hinglish_norm\"]])"
   ]
  },
  {
   "cell_type": "code",
   "execution_count": null,
   "id": "81b1de9f-cddf-455b-8ace-ff83dda38013",
   "metadata": {
    "tags": []
   },
   "outputs": [],
   "source": [
    "valdf[\"Hinglish_pos\"] = [predictposSent(model,' '.join(sent)) for sent in tqdm(valdf[\"Hinglish_norm\"])]\n",
    " "
   ]
  },
  {
   "cell_type": "code",
   "execution_count": 31,
   "id": "e41068dd-e26a-4f25-9e4f-155d95a135ac",
   "metadata": {
    "execution": {
     "iopub.execute_input": "2022-05-02T16:36:54.056238Z",
     "iopub.status.busy": "2022-05-02T16:36:54.055994Z",
     "iopub.status.idle": "2022-05-02T16:36:54.061512Z",
     "shell.execute_reply": "2022-05-02T16:36:54.060895Z",
     "shell.execute_reply.started": "2022-05-02T16:36:54.056213Z"
    },
    "tags": []
   },
   "outputs": [
    {
     "data": {
      "text/plain": [
       "395"
      ]
     },
     "execution_count": 31,
     "metadata": {},
     "output_type": "execute_result"
    }
   ],
   "source": [
    "valdf[\"Hinglish_pos\"].isna().sum()"
   ]
  },
  {
   "cell_type": "code",
   "execution_count": 13,
   "id": "df7566a3-a2f3-4427-9dff-859245b352f0",
   "metadata": {
    "execution": {
     "iopub.execute_input": "2022-05-02T16:32:25.187856Z",
     "iopub.status.busy": "2022-05-02T16:32:25.187537Z",
     "iopub.status.idle": "2022-05-02T16:32:25.194793Z",
     "shell.execute_reply": "2022-05-02T16:32:25.194284Z",
     "shell.execute_reply.started": "2022-05-02T16:32:25.187833Z"
    }
   },
   "outputs": [
    {
     "data": {
      "text/plain": [
       "0      [PRON, PRON, DET, NOUN, ADP, ADV, PART, PART, ...\n",
       "1       [DET, NOUN, ADP, ADJ, NOUN, AUX, VERB, AUX, AUX]\n",
       "2      [NOUN, ADP, ADJ, NOUN, NOUN, ADP, ADJ, PART, AUX]\n",
       "3      [DET, NOUN, DET, ADJ, NOUN, ADJ, NOUN, ADP, NO...\n",
       "4      [PROPN, NOUN, PRON, NOUN, VERB, VERB, AUX, PRO...\n",
       "                             ...                        \n",
       "390    [SCONJ, PROPN, NOUN, ADP, NOUN, ADP, VERB, ADJ...\n",
       "391                               [DET, NOUN, ADP, PART]\n",
       "392    [ADJ, NOUN, ADP, ADV, ADJ, NOUN, ADP, ADP, ADP...\n",
       "393    [DET, NOUN, ADP, ADP, ADP, ADP, NOUN, NOUN, VE...\n",
       "394      [PRON, NOUN, PROPN, ADP, NOUN, NOUN, ADJ, NOUN]\n",
       "Name: Hinglish_pos, Length: 395, dtype: object"
      ]
     },
     "execution_count": 13,
     "metadata": {},
     "output_type": "execute_result"
    }
   ],
   "source": [
    "valdf[\"Hinglish_pos\"]"
   ]
  },
  {
   "cell_type": "code",
   "execution_count": 61,
   "id": "ace68c03-5c1e-4357-8fda-07424dfd9de3",
   "metadata": {
    "execution": {
     "iopub.execute_input": "2022-05-01T15:41:07.719972Z",
     "iopub.status.busy": "2022-05-01T15:41:07.719778Z",
     "iopub.status.idle": "2022-05-01T15:42:23.956996Z",
     "shell.execute_reply": "2022-05-01T15:42:23.956427Z",
     "shell.execute_reply.started": "2022-05-01T15:41:07.719949Z"
    }
   },
   "outputs": [
    {
     "name": "stderr",
     "output_type": "stream",
     "text": [
      "100%|██████████| 395/395 [01:16<00:00,  5.18it/s]\n"
     ]
    }
   ],
   "source": [
    "valdf[\"hum_gen_pos\"] = [[predictposSent(model,' '.join(sent)) for sent in el] for el in tqdm(valdf[\"Hinglish_norm\"])]"
   ]
  },
  {
   "cell_type": "code",
   "execution_count": null,
   "id": "45ec3cbc-d9c7-465f-88ec-cb9cf1e2eae3",
   "metadata": {
    "tags": []
   },
   "outputs": [],
   "source": [
    "traindf.to_json(\"/home/prashantk/INLG-shared-task/PreCogLTRC-HinglishEval-INLG-2022/dataset/traindf.json\")\n",
    "valdf.to_json(\"/home/prashantk/INLG-shared-task/PreCogLTRC-HinglishEval-INLG-2022/dataset/valdf.json\")"
   ]
  },
  {
   "cell_type": "code",
   "execution_count": 3,
   "id": "5c3154af-1cc9-4b51-a385-e211bb36721d",
   "metadata": {
    "execution": {
     "iopub.execute_input": "2022-05-02T16:51:58.850117Z",
     "iopub.status.busy": "2022-05-02T16:51:58.849889Z",
     "iopub.status.idle": "2022-05-02T16:51:59.463055Z",
     "shell.execute_reply": "2022-05-02T16:51:59.462533Z",
     "shell.execute_reply.started": "2022-05-02T16:51:58.850094Z"
    },
    "tags": []
   },
   "outputs": [],
   "source": [
    "traindf = pd.read_json(\"/home/prashantk/INLG-shared-task/PreCogLTRC-HinglishEval-INLG-2022/dataset/traindf.json\")\n",
    "valdf = pd.read_json(\"/home/prashantk/INLG-shared-task/PreCogLTRC-HinglishEval-INLG-2022/dataset/valdf.json\")"
   ]
  },
  {
   "cell_type": "code",
   "execution_count": null,
   "id": "ff52634a-5869-43e8-a023-64802e36b5c1",
   "metadata": {
    "tags": []
   },
   "outputs": [],
   "source": [
    "sys.path.append('/home2/anmol.goel/prashantk/cs_metrics')\n",
    "\n",
    "from cs_metrics import *\n",
    "\n",
    "sample = 'EN EN HI HI UNIV UNIV HI HI EN EN EN HI HI'\n",
    "cmi(sample)\n"
   ]
  },
  {
   "cell_type": "code",
   "execution_count": 6,
   "id": "7daa68b9-9fe5-4901-abcb-c61391fde438",
   "metadata": {
    "execution": {
     "iopub.execute_input": "2022-05-02T08:00:36.948402Z",
     "iopub.status.busy": "2022-05-02T08:00:36.948158Z",
     "iopub.status.idle": "2022-05-02T08:00:37.036598Z",
     "shell.execute_reply": "2022-05-02T08:00:37.036136Z",
     "shell.execute_reply.started": "2022-05-02T08:00:36.948378Z"
    },
    "tags": []
   },
   "outputs": [
    {
     "data": {
      "text/plain": [
       "(                                             English  \\\n",
       " 0  Program module is a file that contains instruc...   \n",
       " 1  And to Thamud We sent their brother Sali 'h. H...   \n",
       " 2              and, when reminded, do not remember\\n   \n",
       " 3                      you won the TED Prize 2011.\\n   \n",
       " 4  He gone to Kerodemal College of Delhi Universi...   \n",
       " \n",
       "                                                Hindi  \\\n",
       " 0  माड्यूल, एक संचिका होती है, जिसमें या तो स्रोत...   \n",
       " 1  और (हमने) क़ौमे समूद के पास उनके भाई सालेह को ...   \n",
       " 2  और जब उन्हें याद दिलाया जाता है, तो वे याद नही...   \n",
       " 3          तुम्हें २०११ का टेड प्राइज़ मिल गया है.\\n   \n",
       " 4  उन्होंने बाद अध्ययन करने के लिए ये दिल्ली विश्...   \n",
       " \n",
       "                                             Hinglish  Average rating  \\\n",
       " 0  module , ek program hoti hai , jismen ya to so...               7   \n",
       " 1  aur hamne aume samood ke pas unke bhaee saleh ...               6   \n",
       " 2  aur jab unhen yad dilaya jata hai , to ve yad ...              10   \n",
       " 3            tumhen २०११ ka ted prize mil gaya hai\\n               9   \n",
       " 4  unhonne bad science karne ke lie ye delhi univ...               7   \n",
       " \n",
       "    Disagreement                                            hum_gen  \\\n",
       " 0             6  [Program module ek sanchika hoti hai, jisme ya...   \n",
       " 1             4  [Aur humne unke bhai Salih ko Thamud ke paas b...   \n",
       " 2             0  [And jab remind karaya jaata hai, then they do...   \n",
       " 3             1  [tumhe TED Prize 2011 mil gaya hai.\\n, You won...   \n",
       " 4             0  [Unhone baad adhyayan karne ke liye ye Delhi U...   \n",
       " \n",
       "                                     Hinglish_csnliop  \\\n",
       " 0  [[module, module, en], [,, ,, univ], [ek, एक, ...   \n",
       " 1  [[aur, और, hi], [hamne, हमने, hi], [aume, औमे,...   \n",
       " 2  [[aur, और, hi], [jab, जब, hi], [unhen, उन्हें,...   \n",
       " 3  [[tumhen, तुम्हें, hi], [२०११, २०११, hi], [ka,...   \n",
       " 4  [[unhonne, उन्होंने, hi], [bad, bad, en], [sci...   \n",
       " \n",
       "                                      hum_gen_csnliop  \\\n",
       " 0  [[[Program, Program, en], [module, module, en]...   \n",
       " 1  [[[Aur, और, hi], [humne, हमने, hi], [unke, उनक...   \n",
       " 2  [[[And, And, en], [jab, जब, hi], [remind, remi...   \n",
       " 3  [[[tumhe, तुम्हें, hi], [TED, TED, acro], [Pri...   \n",
       " 4  [[[Unhone, उन्होंने, hi], [baad, बाढ़, hi], [a...   \n",
       " \n",
       "                                        Hinglish_norm  \\\n",
       " 0  [module, ,, एक, program, होती, है, ,, जिसमें, ...   \n",
       " 1  [और, हमने, औमे, samood, के, पास, उनके, भाई, सा...   \n",
       " 2  [और, जब, उन्हें, याद, दिलाया, जाता, है, ,, तो,...   \n",
       " 3      [तुम्हें, २०११, का, red, prize, मिल, गया, है]   \n",
       " 4  [उन्होंने, bad, science, करने, के, लिए, यह, de...   \n",
       " \n",
       "                                         Hinglish_lid  \\\n",
       " 0  [en, univ, hi, en, hi, hi, univ, hi, hi, hi, e...   \n",
       " 1  [hi, hi, hi, ne, hi, hi, hi, hi, hi, hi, hi, h...   \n",
       " 2  [hi, hi, hi, hi, hi, hi, hi, univ, hi, en, hi,...   \n",
       " 3                   [hi, hi, hi, en, en, hi, hi, hi]   \n",
       " 4  [hi, en, en, hi, hi, hi, hi, ne, en, hi, en, e...   \n",
       " \n",
       "                                         hum_gen_norm  \\\n",
       " 0  [[वास्तव, वास्तव, वास्तव, वास्तव], [में, में, ...   \n",
       " 1  [[वास्तव, वास्तव, वास्तव, वास्तव], [में, में, ...   \n",
       " 2  [[वास्तव, वास्तव], [में, में], [sadar, sadar],...   \n",
       " 3  [[वास्तव, वास्तव], [में, में], [sadar, sadar],...   \n",
       " 4  [[वास्तव, वास्तव], [में, में], [sadar, sadar],...   \n",
       " \n",
       "                                          hum_gen_lid  \\\n",
       " 0  [[hi, hi, hi, hi], [hi, hi, hi, hi], [ne, ne, ...   \n",
       " 1  [[hi, hi, hi, hi], [hi, hi, hi, hi], [ne, ne, ...   \n",
       " 2  [[hi, hi], [hi, hi], [ne, ne], [hi, hi], [en, ...   \n",
       " 3  [[hi, hi], [hi, hi], [ne, ne], [hi, hi], [en, ...   \n",
       " 4  [[hi, hi], [hi, hi], [ne, ne], [hi, hi], [en, ...   \n",
       " \n",
       "                                         Hinglish_pos  \\\n",
       " 0  [NOUN, PUNCT, NUM, NOUN, AUX, AUX, PUNCT, PRON...   \n",
       " 1  [CCONJ, PRON, PROPN, PROPN, ADP, ADP, PRON, NO...   \n",
       " 2  [CCONJ, ADV, PRON, NOUN, VERB, AUX, AUX, PUNCT...   \n",
       " 3      [PRON, PROPN, ADP, ADJ, NOUN, VERB, AUX, AUX]   \n",
       " 4  [PRON, ADJ, NOUN, VERB, SCONJ, SCONJ, DET, PRO...   \n",
       " \n",
       "                                          hum_gen_pos  \n",
       " 0  [[NOUN, PART, NOUN, PART, NOUN, PUNCT], [PUNCT...  \n",
       " 1  [[VERB, PART], [INTJ, NOUN, PART, AUX], [VERB,...  \n",
       " 2  [[VERB, PART], [PART, PART], [INTJ, PART, AUX,...  \n",
       " 3  [[VERB, SYM, VERB, AUX, VERB, AUX, PUNCT], [NU...  \n",
       " 4  [[INTJ, PART, SYM, VERB, AUX, PUNCT, PART, VER...  ,\n",
       " Index(['English', 'Hindi', 'Hinglish', 'Average rating', 'Disagreement',\n",
       "        'hum_gen', 'Hinglish_csnliop', 'hum_gen_csnliop', 'Hinglish_norm',\n",
       "        'Hinglish_lid', 'hum_gen_norm', 'hum_gen_lid', 'Hinglish_pos',\n",
       "        'hum_gen_pos'],\n",
       "       dtype='object'))"
      ]
     },
     "execution_count": 6,
     "metadata": {},
     "output_type": "execute_result"
    }
   ],
   "source": [
    "traindf.head(), traindf.columns"
   ]
  },
  {
   "cell_type": "code",
   "execution_count": 8,
   "id": "88862dcc-162d-4b47-a66a-950134294980",
   "metadata": {
    "execution": {
     "iopub.execute_input": "2022-05-02T08:01:21.183043Z",
     "iopub.status.busy": "2022-05-02T08:01:21.182813Z",
     "iopub.status.idle": "2022-05-02T08:01:21.526610Z",
     "shell.execute_reply": "2022-05-02T08:01:21.525872Z",
     "shell.execute_reply.started": "2022-05-02T08:01:21.183019Z"
    },
    "tags": []
   },
   "outputs": [
    {
     "name": "stderr",
     "output_type": "stream",
     "text": [
      "2766it [00:00, 8255.35it/s]\n"
     ]
    }
   ],
   "source": [
    "cmi_scores = []\n",
    "\n",
    "for ind, row in tqdm(traindf.iterrows()):\n",
    "    \n",
    "    lid = [l.upper() for l in row[\"Hinglish_lid\"]]\n",
    "\n",
    "    \n",
    "    # cmi_score = cmi(' '.join(lid))\n",
    "\n",
    "        \n",
    "    try:\n",
    "        cmi_score = cmi(' '.join(lid))\n",
    "    \n",
    "    except IndexError as e:\n",
    "        print(lid,e)\n",
    "        cmi_score = 0\n",
    "    \n",
    "    cmi_scores.append(cmi_score)\n",
    "\n",
    "    \n",
    "traindf['Hinglish_cmi_scores'] = cmi_scores"
   ]
  },
  {
   "cell_type": "code",
   "execution_count": 10,
   "id": "b6d565a1-4665-44e8-a45c-be4cced0dfb3",
   "metadata": {
    "execution": {
     "iopub.execute_input": "2022-05-02T08:02:53.691915Z",
     "iopub.status.busy": "2022-05-02T08:02:53.691688Z",
     "iopub.status.idle": "2022-05-02T08:02:53.985607Z",
     "shell.execute_reply": "2022-05-02T08:02:53.985066Z",
     "shell.execute_reply.started": "2022-05-02T08:02:53.691888Z"
    },
    "tags": []
   },
   "outputs": [
    {
     "name": "stderr",
     "output_type": "stream",
     "text": [
      "2766it [00:00, 9703.44it/s]\n"
     ]
    }
   ],
   "source": [
    "def spavg_test(x, k= 2):\n",
    "        \n",
    "    LANG_TAGS = ['EN', 'HI']\n",
    "    OTHER_TAGS = ['UNIV', 'NE','ACRO']\n",
    "\n",
    "    LANG_TAGS = [tag.lower() for tag in LANG_TAGS]\n",
    "    OTHER_TAGS = [tag.lower() for tag in OTHER_TAGS]\n",
    "\n",
    "    if isinstance(x,str):\n",
    "        x = x.split()\n",
    "        \n",
    "    x = [el.lower() for el in x]\n",
    "\n",
    "    count = 0 \n",
    "    mem = None\n",
    "    for l_i, l_j in zip(x,x[1:]):\n",
    "        if l_i in OTHER_TAGS:\n",
    "            continue\n",
    "        if l_i != l_j:\n",
    "            count+=1\n",
    "\n",
    "    return count \n",
    "\n",
    "\n",
    "sp_scores = []\n",
    "\n",
    "for ind, row in tqdm(traindf.iterrows()):\n",
    "    \n",
    "    lid = [l.upper() for l in row[\"Hinglish_lid\"]]\n",
    "        \n",
    "    try:\n",
    "        score = spavg_test(' '.join(lid))\n",
    "    \n",
    "    except IndexError as e:\n",
    "        print(lid,e)\n",
    "        score = np.nan\n",
    "    \n",
    "    sp_scores.append(score)"
   ]
  },
  {
   "cell_type": "code",
   "execution_count": 11,
   "id": "11d77bad-c1c7-449c-bf82-33a30da90c71",
   "metadata": {
    "execution": {
     "iopub.execute_input": "2022-05-02T08:03:06.714790Z",
     "iopub.status.busy": "2022-05-02T08:03:06.714552Z",
     "iopub.status.idle": "2022-05-02T08:03:07.332841Z",
     "shell.execute_reply": "2022-05-02T08:03:07.332314Z",
     "shell.execute_reply.started": "2022-05-02T08:03:06.714768Z"
    }
   },
   "outputs": [
    {
     "name": "stderr",
     "output_type": "stream",
     "text": [
      "2766it [00:00, 4527.79it/s]"
     ]
    },
    {
     "name": "stdout",
     "output_type": "stream",
     "text": [
      "256 41 0\n"
     ]
    },
    {
     "name": "stderr",
     "output_type": "stream",
     "text": [
      "\n"
     ]
    }
   ],
   "source": [
    "burstiness_scores = []\n",
    "\n",
    "exceptionCount, IndexErrorCount, bothEnHiPresent = 0,0,0\n",
    "\n",
    "for ind, row in tqdm(traindf.iterrows()):\n",
    "    \n",
    "    lid = [l.upper() for l in row[\"Hinglish_lid\"]]\n",
    "        \n",
    "    try:\n",
    "        score = burstiness(' '.join(lid))\n",
    "    \n",
    "    except IndexError as e:\n",
    "        # print(lid,e)\n",
    "        score = np.nan\n",
    "        IndexErrorCount +=1\n",
    "        \n",
    "    except Exception as e:\n",
    "        # print(lid, e)\n",
    "        score = np.nan\n",
    "        c = Counter(lid)\n",
    "        if 'EN' in c and 'HI' in c:\n",
    "            bothEnHiPresent+=1\n",
    "        exceptionCount +=1\n",
    "    \n",
    "    burstiness_scores.append(score)\n",
    "\n",
    "print(exceptionCount, bothEnHiPresent, IndexErrorCount)"
   ]
  },
  {
   "cell_type": "code",
   "execution_count": 12,
   "id": "e8aeac28-e6ac-4f3b-ab36-d90cc0ac0908",
   "metadata": {
    "execution": {
     "iopub.execute_input": "2022-05-02T08:03:29.491711Z",
     "iopub.status.busy": "2022-05-02T08:03:29.491476Z",
     "iopub.status.idle": "2022-05-02T08:03:29.496702Z",
     "shell.execute_reply": "2022-05-02T08:03:29.496244Z",
     "shell.execute_reply.started": "2022-05-02T08:03:29.491688Z"
    }
   },
   "outputs": [],
   "source": [
    "traindf['Hinglish_burstiness_scores'] = burstiness_scores\n",
    "traindf['Hinglish_sp_scores'] = sp_scores"
   ]
  },
  {
   "cell_type": "code",
   "execution_count": 27,
   "id": "43e8957a-84f7-4bd4-9a58-3b4008632179",
   "metadata": {
    "execution": {
     "iopub.execute_input": "2022-05-02T16:36:06.253591Z",
     "iopub.status.busy": "2022-05-02T16:36:06.253316Z",
     "iopub.status.idle": "2022-05-02T16:36:06.264179Z",
     "shell.execute_reply": "2022-05-02T16:36:06.263514Z",
     "shell.execute_reply.started": "2022-05-02T16:36:06.253563Z"
    },
    "tags": []
   },
   "outputs": [],
   "source": [
    "class CodeMIxSentence():\n",
    "    \n",
    "    def __init__(self, sentence = None,\n",
    "                         tokens = None,\n",
    "                         LID_Tags = None,\n",
    "                         PoS_Tags = None):\n",
    "        \n",
    "        self.sentence = sentence\n",
    "        self.tokens = tokens\n",
    "        self.LID_Tags = LID_Tags\n",
    "        self.PoS_Tags = PoS_Tags\n",
    "        self.length = len(LID_Tags) # has to changed to take length from number of token\n",
    "        \n",
    "        self.LID_count_map = dict(Counter(LID_Tags).most_common())\n",
    "        self.PoS_count_map = dict(Counter(PoS_Tags).most_common())      \n",
    "        \n",
    "        lid_pos_combined = []\n",
    "        \n",
    "        for lid,pos in zip(self.LID_Tags, self.PoS_Tags):\n",
    "            \n",
    "            lid_pos_combined.append(pos+'_'+lid)\n",
    "            \n",
    "        self.LID_POS_count_map = dict(Counter(lid_pos_combined).most_common())\n",
    "\n",
    "\n",
    "class SyMCoM:\n",
    "    \n",
    "    def __init__(self, \n",
    "                LID_tagset = None,\n",
    "                PoS_tagset = None, \n",
    "                L1 = None, \n",
    "                L2 = None):\n",
    "        \n",
    "        self.LID_tagset = LID_tagset\n",
    "        self.PoS_tagset = PoS_tagset\n",
    "        self.l1 = L1\n",
    "        self.l2 = L2\n",
    "        \n",
    "        \n",
    "    def symcom_pos_tags(self, codemixsent_obj):\n",
    "        \n",
    "        symcom_scores_pos_tags = {}\n",
    "        \n",
    "        l1 = self.l1\n",
    "        l2 = self.l2\n",
    "        \n",
    "\n",
    "            \n",
    "                \n",
    "        for postag in codemixsent_obj.PoS_count_map:\n",
    "            \n",
    "            if postag not in ['PUNCT','SYM', 'X']:\n",
    "            \n",
    "                pos_l1 = codemixsent_obj.LID_POS_count_map[postag+'_'+self.l1] if postag+'_'+self.l1 in codemixsent_obj.LID_POS_count_map else 0\n",
    "                pos_l2 = codemixsent_obj.LID_POS_count_map[postag+'_'+self.l2] if postag+'_'+self.l2 in codemixsent_obj.LID_POS_count_map else 0\n",
    "                \n",
    "                try:\n",
    "                    symcom_scores_pos_tags[postag+'_symcom'] = (pos_l1 - pos_l2) / (pos_l1 + pos_l2) \n",
    "                    \n",
    "                except ZeroDivisionError: # to handle cases where there the LID for pos tag is not en or hi. \n",
    "                    pass\n",
    "        return symcom_scores_pos_tags\n",
    "    \n",
    "    \n",
    "        \n",
    "        \n",
    "    def symcom_sentence(self, codemixsent_obj):\n",
    "        \n",
    "        symcom_sentence = 0\n",
    "        \n",
    "        symcom_scores_pos_tags = self.symcom_pos_tags(codemixsent_obj)\n",
    "        \n",
    "        for pos, score in symcom_scores_pos_tags.items():\n",
    "            pos = pos.split('_')[0]\n",
    "            symcom_sentence += abs(score) * (codemixsent_obj.PoS_count_map[pos] / codemixsent_obj.length)     \n",
    "            \n",
    "        return symcom_sentence"
   ]
  },
  {
   "cell_type": "code",
   "execution_count": 29,
   "id": "2f1cecee-061b-4a65-a22f-7600aa139c5b",
   "metadata": {
    "execution": {
     "iopub.execute_input": "2022-05-02T16:36:18.423855Z",
     "iopub.status.busy": "2022-05-02T16:36:18.423512Z",
     "iopub.status.idle": "2022-05-02T16:36:18.428260Z",
     "shell.execute_reply": "2022-05-02T16:36:18.427692Z",
     "shell.execute_reply.started": "2022-05-02T16:36:18.423828Z"
    }
   },
   "outputs": [],
   "source": [
    "symcom = SyMCoM(L1 = 'en',\n",
    "                L2 = 'hi', \n",
    "                LID_tagset = ['hi', 'en', 'ne', 'univ', 'acro'],\n",
    "                PoS_tagset = ['NOUN', 'ADV', 'VERB', 'AUX', 'ADJ', 'ADP', 'PUNCT', 'DET', 'PRON', 'PROPN', 'PART', 'CCONJ', 'SCONJ', 'INTJ', 'NUM', 'SYM','X'])\n",
    "\n"
   ]
  },
  {
   "cell_type": "code",
   "execution_count": null,
   "id": "7aa04d35-cf2e-4b54-9712-d5220a2ce029",
   "metadata": {
    "tags": []
   },
   "outputs": [],
   "source": [
    "symcom = SyMCoM(L1 = 'en',\n",
    "                L2 = 'hi', \n",
    "                LID_tagset = ['hi', 'en', 'ne', 'univ', 'acro'],\n",
    "                PoS_tagset = ['NOUN', 'ADV', 'VERB', 'AUX', 'ADJ', 'ADP', 'PUNCT', 'DET', 'PRON', 'PROPN', 'PART', 'CCONJ', 'SCONJ', 'INTJ', 'NUM', 'SYM','X'])\n",
    "\n",
    "\n",
    "symcom_scores_pos, symcom_sent = [],[]\n",
    "\n",
    "div_by_zero_error_count, errors  = 0 , []\n",
    "\n",
    "for ind, row in tqdm(traindf.iterrows()):\n",
    "\n",
    "    cm_sentence = CodeMIxSentence(sentence = None,\n",
    "                                     tokens = row['Hinglish_norm'],\n",
    "                                     LID_Tags = row['Hinglish_lid'],\n",
    "                                     PoS_Tags = row['Hinglish_pos'])\n",
    "    symcom_scores_pos.append(symcom.symcom_pos_tags(cm_sentence))\n",
    "    symcom_sent.append(symcom.symcom_sentence(cm_sentence))"
   ]
  },
  {
   "cell_type": "code",
   "execution_count": 15,
   "id": "5767c071-1c84-4680-ba36-bc5bfd4edcc6",
   "metadata": {
    "execution": {
     "iopub.execute_input": "2022-05-02T08:10:28.514928Z",
     "iopub.status.busy": "2022-05-02T08:10:28.514705Z",
     "iopub.status.idle": "2022-05-02T08:10:28.519441Z",
     "shell.execute_reply": "2022-05-02T08:10:28.518973Z",
     "shell.execute_reply.started": "2022-05-02T08:10:28.514905Z"
    }
   },
   "outputs": [],
   "source": [
    "traindf['symcom_scores_pos'] = symcom_scores_pos\n",
    "traindf['symcom_scores_sent'] = symcom_sent"
   ]
  },
  {
   "cell_type": "code",
   "execution_count": 16,
   "id": "71fced47-6b54-402a-8ca2-f9c945cb2b31",
   "metadata": {
    "execution": {
     "iopub.execute_input": "2022-05-02T08:10:59.546681Z",
     "iopub.status.busy": "2022-05-02T08:10:59.546391Z",
     "iopub.status.idle": "2022-05-02T08:10:59.606068Z",
     "shell.execute_reply": "2022-05-02T08:10:59.605592Z",
     "shell.execute_reply.started": "2022-05-02T08:10:59.546657Z"
    }
   },
   "outputs": [
    {
     "name": "stderr",
     "output_type": "stream",
     "text": [
      "395it [00:00, 7480.63it/s]\n"
     ]
    }
   ],
   "source": [
    "cmi_scores = []\n",
    "\n",
    "for ind, row in tqdm(valdf.iterrows()):\n",
    "    \n",
    "    lid = [l.upper() for l in row[\"Hinglish_lid\"]]\n",
    "\n",
    "    \n",
    "    # cmi_score = cmi(' '.join(lid))\n",
    "\n",
    "        \n",
    "    try:\n",
    "        cmi_score = cmi(' '.join(lid))\n",
    "    \n",
    "    except IndexError as e:\n",
    "        print(lid,e)\n",
    "        cmi_score = 0\n",
    "    \n",
    "    cmi_scores.append(cmi_score)\n",
    "\n",
    "    \n",
    "valdf['Hinglish_cmi_scores'] = cmi_scores"
   ]
  },
  {
   "cell_type": "code",
   "execution_count": 17,
   "id": "4230e7d2-8ca8-4bb2-8afb-4b93060cff25",
   "metadata": {
    "execution": {
     "iopub.execute_input": "2022-05-02T08:11:34.199287Z",
     "iopub.status.busy": "2022-05-02T08:11:34.199074Z",
     "iopub.status.idle": "2022-05-02T08:11:34.340648Z",
     "shell.execute_reply": "2022-05-02T08:11:34.340004Z",
     "shell.execute_reply.started": "2022-05-02T08:11:34.199264Z"
    }
   },
   "outputs": [
    {
     "name": "stderr",
     "output_type": "stream",
     "text": [
      "395it [00:00, 9458.28it/s]\n",
      "395it [00:00, 4566.94it/s]"
     ]
    },
    {
     "name": "stdout",
     "output_type": "stream",
     "text": [
      "32 2 0\n"
     ]
    },
    {
     "name": "stderr",
     "output_type": "stream",
     "text": [
      "\n"
     ]
    }
   ],
   "source": [
    "def spavg_test(x, k= 2):\n",
    "        \n",
    "    LANG_TAGS = ['EN', 'HI']\n",
    "    OTHER_TAGS = ['UNIV', 'NE','ACRO']\n",
    "\n",
    "    LANG_TAGS = [tag.lower() for tag in LANG_TAGS]\n",
    "    OTHER_TAGS = [tag.lower() for tag in OTHER_TAGS]\n",
    "\n",
    "    if isinstance(x,str):\n",
    "        x = x.split()\n",
    "        \n",
    "    x = [el.lower() for el in x]\n",
    "\n",
    "    count = 0 \n",
    "    mem = None\n",
    "    for l_i, l_j in zip(x,x[1:]):\n",
    "        if l_i in OTHER_TAGS:\n",
    "            continue\n",
    "        if l_i != l_j:\n",
    "            count+=1\n",
    "\n",
    "    return count \n",
    "\n",
    "\n",
    "sp_scores = []\n",
    "\n",
    "for ind, row in tqdm(valdf.iterrows()):\n",
    "    \n",
    "    lid = [l.upper() for l in row[\"Hinglish_lid\"]]\n",
    "        \n",
    "    try:\n",
    "        score = spavg_test(' '.join(lid))\n",
    "    \n",
    "    except IndexError as e:\n",
    "        print(lid,e)\n",
    "        score = np.nan\n",
    "    \n",
    "    sp_scores.append(score)\n",
    "    \n",
    "burstiness_scores = []\n",
    "\n",
    "exceptionCount, IndexErrorCount, bothEnHiPresent = 0,0,0\n",
    "\n",
    "for ind, row in tqdm(valdf.iterrows()):\n",
    "    \n",
    "    lid = [l.upper() for l in row[\"Hinglish_lid\"]]\n",
    "        \n",
    "    try:\n",
    "        score = burstiness(' '.join(lid))\n",
    "    \n",
    "    except IndexError as e:\n",
    "        # print(lid,e)\n",
    "        score = np.nan\n",
    "        IndexErrorCount +=1\n",
    "        \n",
    "    except Exception as e:\n",
    "        # print(lid, e)\n",
    "        score = np.nan\n",
    "        c = Counter(lid)\n",
    "        if 'EN' in c and 'HI' in c:\n",
    "            bothEnHiPresent+=1\n",
    "        exceptionCount +=1\n",
    "    \n",
    "    burstiness_scores.append(score)\n",
    "\n",
    "print(exceptionCount, bothEnHiPresent, IndexErrorCount)    "
   ]
  },
  {
   "cell_type": "code",
   "execution_count": 18,
   "id": "a1e16638-ad1f-4a20-9e4f-a956dcdb70af",
   "metadata": {
    "execution": {
     "iopub.execute_input": "2022-05-02T08:11:47.182341Z",
     "iopub.status.busy": "2022-05-02T08:11:47.182041Z",
     "iopub.status.idle": "2022-05-02T08:11:47.187008Z",
     "shell.execute_reply": "2022-05-02T08:11:47.186326Z",
     "shell.execute_reply.started": "2022-05-02T08:11:47.182317Z"
    }
   },
   "outputs": [],
   "source": [
    "valdf['Hinglish_burstiness_scores'] = burstiness_scores\n",
    "valdf['Hinglish_sp_scores'] = sp_scores"
   ]
  },
  {
   "cell_type": "code",
   "execution_count": null,
   "id": "f1f51862-e01e-4171-8643-80f0fbeaf31e",
   "metadata": {
    "tags": []
   },
   "outputs": [],
   "source": [
    "symcom_scores_pos, symcom_sent = [],[]\n",
    "\n",
    "div_by_zero_error_count, errors  = 0 , []\n",
    "\n",
    "for ind, row in tqdm(valdf.iterrows()):\n",
    "\n",
    "    cm_sentence = CodeMIxSentence(sentence = None,\n",
    "                                     tokens = row['Hinglish_norm'],\n",
    "                                     LID_Tags = row['Hinglish_lid'],\n",
    "                                     PoS_Tags = row['Hinglish_pos'])\n",
    "    symcom_scores_pos.append(symcom.symcom_pos_tags(cm_sentence))\n",
    "    symcom_sent.append(symcom.symcom_sentence(cm_sentence))\n",
    "    \n",
    "valdf['symcom_scores_pos'] = symcom_scores_pos\n",
    "valdf['symcom_scores_sent'] = symcom_sent    "
   ]
  },
  {
   "cell_type": "code",
   "execution_count": 20,
   "id": "6daaacc8-bb77-4c36-aac9-0fac2543d7c2",
   "metadata": {
    "execution": {
     "iopub.execute_input": "2022-05-02T08:12:30.891143Z",
     "iopub.status.busy": "2022-05-02T08:12:30.890896Z",
     "iopub.status.idle": "2022-05-02T08:12:31.279843Z",
     "shell.execute_reply": "2022-05-02T08:12:31.279297Z",
     "shell.execute_reply.started": "2022-05-02T08:12:30.891120Z"
    }
   },
   "outputs": [],
   "source": [
    "traindf.to_json(\"~/prashantk/PreCogLTRC-HinglishEval-INLG-2022/dataset/traindf.json\")\n",
    "valdf.to_json(\"~/prashantk/PreCogLTRC-HinglishEval-INLG-2022/dataset/valdf.json\")"
   ]
  },
  {
   "cell_type": "code",
   "execution_count": 2,
   "id": "80cfd66b-4c7f-4b14-a35a-cf4f5867a6e0",
   "metadata": {
    "execution": {
     "iopub.execute_input": "2022-05-02T16:21:08.966863Z",
     "iopub.status.busy": "2022-05-02T16:21:08.966529Z",
     "iopub.status.idle": "2022-05-02T16:21:09.080552Z",
     "shell.execute_reply": "2022-05-02T16:21:09.080011Z",
     "shell.execute_reply.started": "2022-05-02T16:21:08.966834Z"
    },
    "tags": []
   },
   "outputs": [],
   "source": [
    "valdf = pd.read_json(\"~/INLG-shared-task/PreCogLTRC-HinglishEval-INLG-2022/dataset/valdf.json\")"
   ]
  },
  {
   "cell_type": "code",
   "execution_count": 14,
   "id": "27f1ca93-8a0e-41f0-aba9-dacf4d04a78d",
   "metadata": {
    "execution": {
     "iopub.execute_input": "2022-05-02T16:32:47.544979Z",
     "iopub.status.busy": "2022-05-02T16:32:47.544736Z",
     "iopub.status.idle": "2022-05-02T16:32:47.549533Z",
     "shell.execute_reply": "2022-05-02T16:32:47.549017Z",
     "shell.execute_reply.started": "2022-05-02T16:32:47.544955Z"
    },
    "tags": []
   },
   "outputs": [
    {
     "data": {
      "text/plain": [
       "Index(['English', 'Hindi', 'Hinglish', 'hum_gen', 'Hinglish_csnliop',\n",
       "       'hum_gen_csnliop', 'Hinglish_norm', 'Hinglish_lid', 'hum_gen_norm',\n",
       "       'hum_gen_lid', 'Hinglish_pos', 'hum_gen_pos', 'Hinglish_cmi_scores',\n",
       "       'Hinglish_burstiness_scores', 'Hinglish_sp_scores', 'symcom_scores_pos',\n",
       "       'symcom_scores_sent'],\n",
       "      dtype='object')"
      ]
     },
     "execution_count": 14,
     "metadata": {},
     "output_type": "execute_result"
    }
   ],
   "source": [
    "valdf.columns"
   ]
  },
  {
   "cell_type": "code",
   "execution_count": 20,
   "id": "dea15ce4-9f69-4fa6-a71d-aa8100790536",
   "metadata": {
    "execution": {
     "iopub.execute_input": "2022-05-02T16:34:23.728996Z",
     "iopub.status.busy": "2022-05-02T16:34:23.728755Z",
     "iopub.status.idle": "2022-05-02T16:34:23.736144Z",
     "shell.execute_reply": "2022-05-02T16:34:23.735579Z",
     "shell.execute_reply.started": "2022-05-02T16:34:23.728973Z"
    },
    "tags": []
   },
   "outputs": [],
   "source": [
    "df2 = pd.json_normalize(traindf[\"symcom_scores_pos\"])\n",
    "traindf = pd.concat([traindf,df2], axis = 1)\n",
    "print(traindf.shape)\n",
    "traindf.reset_index(inplace = True)\n",
    "\n",
    "traindf.shape"
   ]
  },
  {
   "cell_type": "code",
   "execution_count": null,
   "id": "7bd63a24-db15-4c8a-a26c-3d9e2e45cb3e",
   "metadata": {},
   "outputs": [],
   "source": [
    "df2 = pd.json_normalize(valdf[\"symcom_scores_pos\"])\n",
    "valdf = pd.concat([valdf,df2], axis = 1)\n",
    "valdf.reset_index(inplace = True)\n",
    "\n",
    "valdf.shape"
   ]
  },
  {
   "cell_type": "code",
   "execution_count": 21,
   "id": "8f59c347-8d15-44e1-a2c8-2aca13e1a3cf",
   "metadata": {
    "execution": {
     "iopub.execute_input": "2022-05-02T16:34:24.496591Z",
     "iopub.status.busy": "2022-05-02T16:34:24.496358Z",
     "iopub.status.idle": "2022-05-02T16:34:24.500954Z",
     "shell.execute_reply": "2022-05-02T16:34:24.500396Z",
     "shell.execute_reply.started": "2022-05-02T16:34:24.496568Z"
    },
    "tags": []
   },
   "outputs": [
    {
     "data": {
      "text/plain": [
       "Index(['index', 'English', 'Hindi', 'Hinglish', 'hum_gen', 'Hinglish_csnliop',\n",
       "       'hum_gen_csnliop', 'Hinglish_norm', 'Hinglish_lid', 'hum_gen_norm',\n",
       "       'hum_gen_lid', 'Hinglish_pos', 'hum_gen_pos', 'Hinglish_cmi_scores',\n",
       "       'Hinglish_burstiness_scores', 'Hinglish_sp_scores', 'symcom_scores_pos',\n",
       "       'symcom_scores_sent', 'symcom_+1_count', 'symcom_-1_count',\n",
       "       'symcom_na_count', 'symcom_others', 'PRON_symcom', 'ADV_symcom',\n",
       "       'PART_symcom', 'DET_symcom', 'NOUN_symcom', 'ADP_symcom', 'VERB_symcom',\n",
       "       'AUX_symcom', 'ADJ_symcom', 'SCONJ_symcom', 'PROPN_symcom',\n",
       "       'CCONJ_symcom', 'NUM_symcom', 'INTJ_symcom'],\n",
       "      dtype='object')"
      ]
     },
     "execution_count": 21,
     "metadata": {},
     "output_type": "execute_result"
    }
   ],
   "source": [
    "valdf.columns"
   ]
  },
  {
   "cell_type": "code",
   "execution_count": 10,
   "id": "1517a734-070f-48fe-a7e9-b1d1479b7eef",
   "metadata": {
    "execution": {
     "iopub.execute_input": "2022-05-02T16:15:57.687565Z",
     "iopub.status.busy": "2022-05-02T16:15:57.687193Z",
     "iopub.status.idle": "2022-05-02T16:15:57.696273Z",
     "shell.execute_reply": "2022-05-02T16:15:57.695328Z",
     "shell.execute_reply.started": "2022-05-02T16:15:57.687537Z"
    },
    "tags": []
   },
   "outputs": [
    {
     "data": {
      "text/plain": [
       "0    {'PRON_symcom': -1.0, 'ADV_symcom': 0.0, 'PART...\n",
       "1    {'AUX_symcom': -0.33333333330000003, 'NOUN_sym...\n",
       "2    {'NOUN_symcom': -0.33333333330000003, 'ADP_sym...\n",
       "3    {'NOUN_symcom': -0.33333333330000003, 'DET_sym...\n",
       "4    {'PROPN_symcom': -1.0, 'NOUN_symcom': -0.33333...\n",
       "Name: symcom_scores_pos, dtype: object"
      ]
     },
     "execution_count": 10,
     "metadata": {},
     "output_type": "execute_result"
    }
   ],
   "source": [
    "valdf[\"symcom_scores_pos\"].head()"
   ]
  },
  {
   "cell_type": "code",
   "execution_count": 24,
   "id": "4209ff69-8270-476a-b2ea-4f8c7785c0cf",
   "metadata": {
    "execution": {
     "iopub.execute_input": "2022-05-02T16:34:57.312999Z",
     "iopub.status.busy": "2022-05-02T16:34:57.312675Z",
     "iopub.status.idle": "2022-05-02T16:34:57.318359Z",
     "shell.execute_reply": "2022-05-02T16:34:57.317815Z",
     "shell.execute_reply.started": "2022-05-02T16:34:57.312974Z"
    },
    "tags": []
   },
   "outputs": [],
   "source": [
    "def count_plusone(sample):\n",
    "    count = 0\n",
    "    try:\n",
    "        assert isinstance(sample,dict)\n",
    "    except AssertionError:\n",
    "        return np.nan\n",
    "    for k,v in sample.items():\n",
    "        if v == 1:\n",
    "            count+=1\n",
    "    return count\n",
    "\n",
    "def count_minus1(sample):\n",
    "    print(sample)\n",
    "    count = 0\n",
    "    for k,v in sample.items():\n",
    "        if v == -1:\n",
    "            count+=1\n",
    "    return count\n",
    "\n",
    "def countNaN(sample):\n",
    "    count = 14 - len(sample.keys()) \n",
    "    return count"
   ]
  },
  {
   "cell_type": "code",
   "execution_count": 25,
   "id": "6ba9dbe2-7a79-44a7-aa45-a1a8046a11e3",
   "metadata": {
    "collapsed": true,
    "execution": {
     "iopub.execute_input": "2022-05-02T16:34:58.531430Z",
     "iopub.status.busy": "2022-05-02T16:34:58.531191Z",
     "iopub.status.idle": "2022-05-02T16:34:58.590185Z",
     "shell.execute_reply": "2022-05-02T16:34:58.589470Z",
     "shell.execute_reply.started": "2022-05-02T16:34:58.531407Z"
    },
    "jupyter": {
     "outputs_hidden": true
    },
    "tags": []
   },
   "outputs": [
    {
     "name": "stdout",
     "output_type": "stream",
     "text": [
      "{'PRON_symcom': -1.0, 'ADV_symcom': 0.0, 'PART_symcom': -1.0, 'DET_symcom': -1.0, 'NOUN_symcom': 1.0, 'ADP_symcom': -1.0, 'VERB_symcom': 1.0, 'AUX_symcom': -1.0}\n",
      "{'AUX_symcom': -0.33333333330000003, 'NOUN_symcom': 0.0, 'DET_symcom': -1.0, 'ADP_symcom': -1.0, 'VERB_symcom': 1.0}\n",
      "{'NOUN_symcom': -0.33333333330000003, 'ADP_symcom': -1.0, 'ADJ_symcom': -1.0, 'PART_symcom': -1.0, 'AUX_symcom': -1.0}\n",
      "{'NOUN_symcom': -0.33333333330000003, 'DET_symcom': -1.0, 'ADJ_symcom': 1.0, 'ADP_symcom': -1.0, 'VERB_symcom': -1.0, 'SCONJ_symcom': -1.0, 'PART_symcom': -1.0, 'AUX_symcom': -1.0}\n",
      "{'PROPN_symcom': -1.0, 'NOUN_symcom': -0.33333333330000003, 'VERB_symcom': -1.0, 'PRON_symcom': -1.0, 'AUX_symcom': -1.0, 'ADP_symcom': -1.0, 'PART_symcom': -1.0}\n",
      "{'AUX_symcom': -0.6666666667000001, 'ADJ_symcom': -0.33333333330000003, 'VERB_symcom': -1.0, 'NOUN_symcom': 0.0, 'DET_symcom': -1.0, 'CCONJ_symcom': -1.0}\n",
      "{'NOUN_symcom': -0.7142857143, 'VERB_symcom': -1.0, 'AUX_symcom': -1.0, 'DET_symcom': -1.0, 'PRON_symcom': -1.0, 'PART_symcom': -1.0, 'ADP_symcom': -1.0, 'SCONJ_symcom': -1.0, 'ADV_symcom': -1.0, 'CCONJ_symcom': -1.0, 'ADJ_symcom': -1.0, 'NUM_symcom': -1.0}\n",
      "{'ADP_symcom': -0.6000000000000001, 'NOUN_symcom': 0.33333333330000003, 'ADJ_symcom': -0.33333333330000003, 'AUX_symcom': -1.0, 'VERB_symcom': -1.0, 'PRON_symcom': -1.0, 'PROPN_symcom': -1.0, 'ADV_symcom': 1.0, 'DET_symcom': -1.0}\n",
      "{'ADP_symcom': -1.0, 'AUX_symcom': -1.0, 'PRON_symcom': -1.0, 'VERB_symcom': -1.0, 'ADJ_symcom': -1.0, 'NOUN_symcom': -1.0, 'DET_symcom': -1.0, 'PART_symcom': -1.0, 'CCONJ_symcom': -1.0, 'ADV_symcom': -1.0, 'PROPN_symcom': 1.0}\n",
      "{'NOUN_symcom': 0.2, 'ADP_symcom': -1.0, 'ADJ_symcom': 1.0, 'VERB_symcom': -1.0}\n",
      "{'PRON_symcom': -0.5, 'VERB_symcom': -1.0, 'AUX_symcom': -1.0, 'SCONJ_symcom': -1.0, 'ADP_symcom': -1.0, 'CCONJ_symcom': -1.0, 'ADV_symcom': -1.0}\n",
      "{'NOUN_symcom': -1.0, 'DET_symcom': -1.0, 'VERB_symcom': -1.0, 'ADV_symcom': -1.0, 'ADJ_symcom': -1.0, 'SCONJ_symcom': -1.0, 'PRON_symcom': -1.0, 'ADP_symcom': -1.0, 'PART_symcom': -1.0}\n",
      "{'NOUN_symcom': -0.2, 'ADV_symcom': -1.0, 'ADP_symcom': -0.33333333330000003, 'AUX_symcom': -1.0, 'ADJ_symcom': 1.0, 'PRON_symcom': -1.0, 'VERB_symcom': -1.0, 'CCONJ_symcom': -1.0}\n",
      "{'NOUN_symcom': 0.4285714286, 'ADP_symcom': -1.0, 'ADJ_symcom': 0.33333333330000003, 'AUX_symcom': -0.33333333330000003, 'VERB_symcom': -1.0, 'CCONJ_symcom': -1.0, 'ADV_symcom': -1.0, 'PRON_symcom': -1.0}\n",
      "{'NOUN_symcom': 1.0, 'ADP_symcom': -1.0, 'VERB_symcom': -1.0, 'AUX_symcom': -1.0}\n",
      "{'NOUN_symcom': 0.0, 'VERB_symcom': -1.0, 'PRON_symcom': -1.0, 'ADJ_symcom': 1.0, 'DET_symcom': -1.0, 'PART_symcom': -1.0, 'CCONJ_symcom': 1.0}\n",
      "{'PART_symcom': -1.0, 'PRON_symcom': -1.0, 'ADV_symcom': -1.0, 'NOUN_symcom': 1.0, 'VERB_symcom': -1.0, 'ADJ_symcom': -1.0, 'CCONJ_symcom': -1.0}\n",
      "{'NOUN_symcom': 1.0, 'ADP_symcom': -1.0, 'SCONJ_symcom': -1.0, 'VERB_symcom': -1.0}\n",
      "{'NOUN_symcom': -0.6923076923, 'ADP_symcom': -1.0, 'AUX_symcom': -1.0, 'ADJ_symcom': -1.0, 'CCONJ_symcom': -1.0, 'PROPN_symcom': 1.0, 'VERB_symcom': -1.0, 'SCONJ_symcom': -1.0, 'PRON_symcom': -1.0, 'ADV_symcom': -1.0, 'DET_symcom': -1.0}\n",
      "{'PRON_symcom': -1.0, 'VERB_symcom': -1.0, 'AUX_symcom': -1.0, 'ADP_symcom': -1.0, 'NOUN_symcom': -1.0}\n",
      "{'NOUN_symcom': -0.7142857143, 'AUX_symcom': -1.0, 'ADJ_symcom': 0.0, 'PART_symcom': -1.0, 'NUM_symcom': -1.0, 'VERB_symcom': -1.0, 'PRON_symcom': -1.0, 'CCONJ_symcom': -1.0, 'ADP_symcom': -1.0}\n",
      "{'ADP_symcom': -1.0, 'NOUN_symcom': -0.7142857143, 'ADJ_symcom': -1.0, 'PROPN_symcom': 1.0, 'PART_symcom': -1.0, 'AUX_symcom': -1.0, 'ADV_symcom': -1.0, 'VERB_symcom': -1.0, 'SCONJ_symcom': -1.0, 'DET_symcom': -1.0, 'PRON_symcom': -1.0}\n",
      "{'NOUN_symcom': 0.4, 'ADP_symcom': -1.0, 'AUX_symcom': -1.0, 'VERB_symcom': -1.0, 'ADJ_symcom': 1.0, 'PRON_symcom': -1.0, 'PART_symcom': -1.0, 'DET_symcom': -1.0, 'ADV_symcom': -1.0, 'SCONJ_symcom': -1.0, 'NUM_symcom': -1.0, 'CCONJ_symcom': -1.0}\n",
      "{'ADP_symcom': -0.33333333330000003, 'NOUN_symcom': 1.0, 'VERB_symcom': 1.0, 'NUM_symcom': -1.0, 'PART_symcom': 1.0}\n",
      "{'NOUN_symcom': -0.33333333330000003, 'PRON_symcom': -1.0, 'ADP_symcom': -1.0, 'ADJ_symcom': 1.0, 'AUX_symcom': -1.0}\n",
      "{'VERB_symcom': -1.0, 'NOUN_symcom': 0.0, 'AUX_symcom': -1.0, 'ADJ_symcom': -0.33333333330000003, 'ADP_symcom': -1.0, 'PRON_symcom': -1.0, 'SCONJ_symcom': -1.0, 'ADV_symcom': -1.0, 'PART_symcom': -1.0}\n",
      "{'ADP_symcom': -1.0, 'NOUN_symcom': 0.33333333330000003, 'NUM_symcom': -1.0, 'ADJ_symcom': -1.0, 'VERB_symcom': -1.0}\n",
      "{'NOUN_symcom': 0.1111111111, 'VERB_symcom': -0.7142857143, 'PRON_symcom': -1.0, 'AUX_symcom': -1.0, 'ADP_symcom': -1.0, 'CCONJ_symcom': -1.0, 'PROPN_symcom': -1.0, 'ADJ_symcom': 1.0, 'ADV_symcom': -1.0, 'DET_symcom': -1.0, 'SCONJ_symcom': -1.0, 'PART_symcom': -1.0}\n",
      "{'NOUN_symcom': 0.6666666667000001, 'ADJ_symcom': 0.33333333330000003, 'AUX_symcom': -1.0, 'DET_symcom': -1.0, 'VERB_symcom': -1.0, 'ADP_symcom': 0.0, 'NUM_symcom': -1.0, 'SCONJ_symcom': -1.0, 'CCONJ_symcom': 1.0, 'PRON_symcom': -1.0}\n",
      "{'AUX_symcom': -1.0, 'CCONJ_symcom': -1.0, 'PRON_symcom': -1.0, 'ADV_symcom': -1.0, 'ADJ_symcom': -1.0, 'NOUN_symcom': 1.0, 'ADP_symcom': -1.0, 'VERB_symcom': -1.0}\n",
      "{'NOUN_symcom': 0.33333333330000003, 'ADP_symcom': -0.33333333330000003, 'VERB_symcom': -1.0, 'ADV_symcom': -1.0, 'DET_symcom': 0.0, 'ADJ_symcom': 0.0, 'PART_symcom': -1.0, 'CCONJ_symcom': -1.0, 'AUX_symcom': -1.0, 'PRON_symcom': -1.0}\n",
      "{'ADP_symcom': -1.0, 'NOUN_symcom': 0.5, 'PRON_symcom': -1.0, 'VERB_symcom': -1.0}\n",
      "{'NOUN_symcom': 1.0, 'ADP_symcom': -1.0, 'DET_symcom': -1.0, 'VERB_symcom': -1.0}\n",
      "{'NOUN_symcom': 0.33333333330000003, 'ADJ_symcom': 1.0, 'ADP_symcom': 0.0, 'AUX_symcom': -1.0, 'VERB_symcom': -1.0}\n",
      "{'NOUN_symcom': 0.0, 'AUX_symcom': -1.0, 'PROPN_symcom': 0.33333333330000003, 'ADJ_symcom': 1.0, 'ADP_symcom': -1.0, 'SCONJ_symcom': -1.0, 'CCONJ_symcom': -1.0, 'VERB_symcom': -1.0}\n",
      "{'NOUN_symcom': 0.0, 'ADP_symcom': -1.0, 'VERB_symcom': -1.0, 'SCONJ_symcom': -1.0}\n",
      "{'NOUN_symcom': 0.4, 'VERB_symcom': -1.0, 'PRON_symcom': -1.0, 'ADV_symcom': 0.0, 'PART_symcom': -1.0, 'AUX_symcom': -1.0, 'ADP_symcom': -1.0, 'NUM_symcom': -1.0, 'DET_symcom': -1.0, 'CCONJ_symcom': -1.0, 'PROPN_symcom': -1.0}\n",
      "{'NOUN_symcom': 0.0, 'ADP_symcom': -1.0, 'ADJ_symcom': 0.0, 'PROPN_symcom': -1.0}\n",
      "{'PRON_symcom': -1.0, 'AUX_symcom': -1.0, 'CCONJ_symcom': -1.0, 'ADP_symcom': -1.0, 'PART_symcom': -1.0, 'SCONJ_symcom': -1.0, 'ADV_symcom': -1.0, 'DET_symcom': -1.0, 'NOUN_symcom': -1.0}\n",
      "{'ADP_symcom': -1.0, 'PRON_symcom': -1.0, 'NOUN_symcom': -1.0, 'VERB_symcom': -1.0, 'AUX_symcom': -1.0, 'ADV_symcom': -1.0, 'PROPN_symcom': -1.0, 'ADJ_symcom': -1.0, 'CCONJ_symcom': -1.0}\n",
      "{'NOUN_symcom': 0.33333333330000003, 'ADP_symcom': -1.0, 'PRON_symcom': -1.0, 'NUM_symcom': -1.0, 'CCONJ_symcom': -1.0, 'VERB_symcom': -1.0}\n",
      "{'ADJ_symcom': -0.33333333330000003, 'ADP_symcom': -1.0, 'PRON_symcom': -1.0, 'NOUN_symcom': 1.0, 'AUX_symcom': -1.0}\n",
      "{'NOUN_symcom': 1.0, 'CCONJ_symcom': -1.0, 'VERB_symcom': 1.0}\n",
      "{'NOUN_symcom': 0.0, 'VERB_symcom': -0.33333333330000003, 'PRON_symcom': -1.0, 'ADP_symcom': -1.0, 'ADJ_symcom': -1.0, 'PART_symcom': 1.0, 'CCONJ_symcom': -1.0, 'AUX_symcom': -1.0}\n",
      "{'NOUN_symcom': 0.5, 'ADP_symcom': -1.0, 'ADJ_symcom': 0.33333333330000003, 'ADV_symcom': -1.0, 'DET_symcom': -1.0, 'PART_symcom': -1.0, 'VERB_symcom': -1.0}\n",
      "{'NOUN_symcom': -0.33333333330000003, 'AUX_symcom': -1.0, 'DET_symcom': -1.0, 'ADJ_symcom': 1.0, 'SCONJ_symcom': -1.0, 'NUM_symcom': -1.0, 'ADP_symcom': -1.0, 'PRON_symcom': -1.0, 'VERB_symcom': -1.0}\n",
      "{'ADJ_symcom': -0.33333333330000003, 'ADP_symcom': -1.0, 'PRON_symcom': -1.0, 'NOUN_symcom': 1.0, 'AUX_symcom': -1.0}\n",
      "{'NOUN_symcom': 0.33333333330000003, 'ADJ_symcom': 0.0, 'ADP_symcom': -1.0, 'PART_symcom': -1.0, 'AUX_symcom': -1.0}\n",
      "{'NOUN_symcom': 0.0909090909, 'ADP_symcom': -0.4285714286, 'VERB_symcom': -0.2, 'AUX_symcom': -1.0, 'CCONJ_symcom': -1.0, 'PRON_symcom': -1.0, 'ADV_symcom': -1.0, 'ADJ_symcom': -1.0}\n",
      "{'NOUN_symcom': 0.0, 'PRON_symcom': -0.8, 'ADP_symcom': -1.0, 'DET_symcom': -1.0, 'VERB_symcom': -1.0, 'AUX_symcom': -1.0, 'SCONJ_symcom': -1.0, 'ADJ_symcom': 0.0, 'CCONJ_symcom': -1.0, 'PART_symcom': -1.0}\n",
      "{'NOUN_symcom': -0.5, 'ADJ_symcom': 1.0, 'CCONJ_symcom': -1.0, 'ADP_symcom': -1.0}\n",
      "{'NOUN_symcom': 1.0, 'ADP_symcom': 0.0, 'PRON_symcom': -1.0, 'VERB_symcom': -1.0}\n",
      "{'NOUN_symcom': 0.1111111111, 'ADJ_symcom': 0.2727272727, 'ADP_symcom': -1.0, 'PRON_symcom': -1.0, 'CCONJ_symcom': -0.33333333330000003, 'AUX_symcom': -1.0, 'DET_symcom': -1.0, 'VERB_symcom': -1.0, 'PART_symcom': -1.0, 'ADV_symcom': -1.0}\n",
      "{'NOUN_symcom': 1.0, 'VERB_symcom': 0.0, 'ADV_symcom': 1.0, 'ADJ_symcom': 1.0}\n",
      "{'NOUN_symcom': -0.4285714286, 'ADP_symcom': -1.0, 'VERB_symcom': -1.0, 'SCONJ_symcom': -1.0, 'AUX_symcom': -1.0, 'DET_symcom': -1.0}\n",
      "{'PRON_symcom': -1.0, 'NUM_symcom': -1.0, 'CCONJ_symcom': -1.0, 'AUX_symcom': -1.0, 'ADV_symcom': -1.0, 'DET_symcom': -1.0, 'NOUN_symcom': 1.0, 'ADP_symcom': -1.0, 'VERB_symcom': -1.0}\n",
      "{'NOUN_symcom': -0.2, 'PROPN_symcom': 1.0, 'ADP_symcom': -1.0, 'VERB_symcom': 1.0}\n",
      "{'NOUN_symcom': 1.0, 'ADP_symcom': -1.0, 'ADV_symcom': 1.0, 'ADJ_symcom': 1.0, 'VERB_symcom': -1.0, 'SCONJ_symcom': -1.0}\n",
      "{'NOUN_symcom': -0.7142857143, 'ADP_symcom': -1.0, 'PROPN_symcom': -1.0, 'PRON_symcom': -1.0, 'CCONJ_symcom': -1.0, 'ADJ_symcom': -1.0, 'AUX_symcom': -1.0}\n",
      "{'NOUN_symcom': 0.33333333330000003, 'PRON_symcom': -1.0, 'ADV_symcom': -1.0, 'ADJ_symcom': 1.0, 'ADP_symcom': -1.0}\n",
      "{'ADP_symcom': -1.0, 'NOUN_symcom': 1.0, 'PRON_symcom': 0.0}\n",
      "{'NOUN_symcom': 1.0, 'ADP_symcom': -1.0, 'NUM_symcom': -1.0, 'VERB_symcom': -1.0, 'AUX_symcom': -1.0}\n",
      "{'NOUN_symcom': -0.33333333330000003, 'ADV_symcom': -1.0, 'PART_symcom': -1.0, 'ADJ_symcom': -1.0, 'ADP_symcom': -1.0, 'AUX_symcom': -1.0}\n",
      "{'ADP_symcom': -1.0, 'NOUN_symcom': 1.0}\n",
      "{'NOUN_symcom': 0.33333333330000003, 'ADJ_symcom': 0.0, 'ADP_symcom': -1.0, 'VERB_symcom': -1.0}\n",
      "{'NOUN_symcom': 0.2, 'ADP_symcom': -1.0, 'VERB_symcom': -1.0, 'AUX_symcom': -1.0, 'SCONJ_symcom': -1.0, 'PRON_symcom': -1.0, 'PART_symcom': -1.0, 'CCONJ_symcom': -1.0, 'DET_symcom': -1.0, 'ADV_symcom': -1.0}\n",
      "{'PRON_symcom': -1.0, 'AUX_symcom': -1.0, 'NOUN_symcom': -0.33333333330000003, 'VERB_symcom': -1.0, 'PART_symcom': -1.0, 'ADP_symcom': -1.0, 'CCONJ_symcom': -1.0, 'DET_symcom': -1.0, 'ADV_symcom': 1.0, 'SCONJ_symcom': -1.0}\n",
      "{'NOUN_symcom': 1.0, 'PROPN_symcom': 1.0, 'ADP_symcom': -1.0, 'PRON_symcom': -1.0, 'ADV_symcom': -1.0, 'PART_symcom': -1.0, 'ADJ_symcom': 1.0, 'VERB_symcom': -1.0, 'AUX_symcom': -1.0}\n",
      "{'NOUN_symcom': 1.0, 'ADP_symcom': -0.33333333330000003, 'ADJ_symcom': 0.0, 'VERB_symcom': -1.0, 'AUX_symcom': -1.0, 'CCONJ_symcom': -1.0, 'PRON_symcom': -1.0}\n",
      "{'NOUN_symcom': -0.6000000000000001, 'ADV_symcom': -1.0, 'AUX_symcom': -1.0, 'PRON_symcom': -1.0, 'VERB_symcom': -1.0, 'PART_symcom': -1.0, 'DET_symcom': -1.0}\n",
      "{'NOUN_symcom': 0.25, 'ADP_symcom': -1.0, 'VERB_symcom': -1.0, 'ADJ_symcom': -1.0, 'AUX_symcom': -1.0}\n",
      "{'NOUN_symcom': 1.0, 'ADP_symcom': -0.33333333330000003, 'AUX_symcom': -1.0, 'DET_symcom': -1.0, 'VERB_symcom': -1.0}\n",
      "{'NOUN_symcom': -1.0, 'ADP_symcom': -1.0, 'SCONJ_symcom': -1.0, 'AUX_symcom': -1.0, 'DET_symcom': -1.0, 'ADJ_symcom': -1.0, 'VERB_symcom': -1.0, 'CCONJ_symcom': -1.0, 'PART_symcom': -1.0}\n",
      "{'NOUN_symcom': 0.5, 'AUX_symcom': -1.0, 'VERB_symcom': -1.0, 'DET_symcom': 1.0, 'SCONJ_symcom': -1.0}\n",
      "{'ADP_symcom': -1.0, 'NOUN_symcom': -0.33333333330000003, 'PRON_symcom': -1.0, 'PROPN_symcom': 1.0, 'VERB_symcom': -1.0, 'DET_symcom': 1.0, 'NUM_symcom': -1.0, 'ADJ_symcom': 1.0, 'AUX_symcom': -1.0, 'SCONJ_symcom': -1.0}\n",
      "{'PRON_symcom': -1.0, 'AUX_symcom': -1.0, 'VERB_symcom': -1.0, 'SCONJ_symcom': -1.0, 'DET_symcom': -1.0}\n",
      "{'NOUN_symcom': 0.5, 'VERB_symcom': -0.33333333330000003, 'NUM_symcom': -1.0, 'CCONJ_symcom': -1.0, 'ADP_symcom': -1.0}\n",
      "{'NOUN_symcom': 1.0, 'VERB_symcom': -1.0, 'AUX_symcom': -1.0, 'ADP_symcom': -1.0, 'INTJ_symcom': -1.0}\n",
      "{'NOUN_symcom': 1.0, 'ADP_symcom': -1.0, 'DET_symcom': -1.0, 'ADJ_symcom': 0.0, 'AUX_symcom': -1.0, 'VERB_symcom': -1.0}\n",
      "{'NOUN_symcom': 0.33333333330000003, 'AUX_symcom': -1.0, 'PART_symcom': -1.0, 'VERB_symcom': -1.0, 'DET_symcom': -1.0}\n",
      "{'NOUN_symcom': 0.875, 'ADP_symcom': -1.0, 'AUX_symcom': -1.0, 'VERB_symcom': -1.0, 'ADJ_symcom': 0.5, 'CCONJ_symcom': -1.0, 'PROPN_symcom': 1.0, 'SCONJ_symcom': -1.0, 'ADV_symcom': -1.0, 'PART_symcom': -1.0}\n",
      "{'AUX_symcom': -1.0, 'NOUN_symcom': 1.0, 'ADV_symcom': 0.33333333330000003, 'PART_symcom': -1.0, 'ADP_symcom': -0.33333333330000003, 'VERB_symcom': -1.0, 'PRON_symcom': -1.0, 'SCONJ_symcom': -1.0, 'DET_symcom': -1.0, 'CCONJ_symcom': -1.0}\n",
      "{'NOUN_symcom': 0.0, 'ADP_symcom': -1.0, 'AUX_symcom': -1.0, 'VERB_symcom': -1.0, 'ADJ_symcom': -1.0}\n",
      "{'NOUN_symcom': -1.0, 'PRON_symcom': -1.0, 'ADP_symcom': -1.0, 'PART_symcom': -1.0, 'VERB_symcom': -1.0, 'ADV_symcom': -1.0, 'AUX_symcom': -1.0, 'SCONJ_symcom': -1.0, 'CCONJ_symcom': -1.0, 'ADJ_symcom': -1.0}\n",
      "{'ADP_symcom': -1.0, 'NOUN_symcom': -0.25, 'PRON_symcom': -1.0, 'VERB_symcom': -1.0, 'AUX_symcom': -1.0, 'SCONJ_symcom': -1.0, 'DET_symcom': -1.0, 'ADV_symcom': -1.0, 'ADJ_symcom': 1.0}\n",
      "{'NOUN_symcom': 0.2, 'ADP_symcom': -0.33333333330000003, 'ADJ_symcom': -0.33333333330000003, 'ADV_symcom': -1.0, 'AUX_symcom': -1.0}\n",
      "{'NOUN_symcom': 0.2, 'ADP_symcom': -0.5, 'ADJ_symcom': -1.0, 'ADV_symcom': -1.0, 'AUX_symcom': -1.0, 'VERB_symcom': -1.0, 'CCONJ_symcom': -1.0, 'PRON_symcom': -1.0}\n",
      "{'NOUN_symcom': 0.6666666667000001, 'NUM_symcom': -1.0, 'ADP_symcom': -1.0, 'AUX_symcom': -1.0, 'CCONJ_symcom': -1.0, 'ADV_symcom': 1.0, 'DET_symcom': -1.0, 'ADJ_symcom': -1.0, 'VERB_symcom': -1.0}\n",
      "{'ADJ_symcom': 0.0, 'NOUN_symcom': 0.0, 'SCONJ_symcom': -1.0, 'ADP_symcom': -1.0, 'DET_symcom': 1.0, 'PRON_symcom': -1.0, 'PROPN_symcom': -1.0, 'VERB_symcom': -1.0, 'AUX_symcom': -1.0}\n",
      "{'ADJ_symcom': -1.0, 'NOUN_symcom': 0.33333333330000003, 'AUX_symcom': -1.0, 'PRON_symcom': -1.0, 'ADP_symcom': -1.0, 'SCONJ_symcom': -1.0, 'CCONJ_symcom': -1.0, 'VERB_symcom': -1.0}\n",
      "{'NOUN_symcom': 0.5, 'ADJ_symcom': 0.33333333330000003, 'ADP_symcom': -1.0, 'VERB_symcom': -1.0}\n",
      "{'NOUN_symcom': -0.7142857143, 'ADP_symcom': -1.0, 'AUX_symcom': -1.0, 'CCONJ_symcom': 1.0, 'ADJ_symcom': -1.0}\n",
      "{'NOUN_symcom': -0.33333333330000003, 'ADP_symcom': -1.0, 'ADJ_symcom': -0.33333333330000003, 'VERB_symcom': -1.0, 'AUX_symcom': -1.0, 'PRON_symcom': -1.0, 'NUM_symcom': -1.0, 'DET_symcom': -1.0, 'CCONJ_symcom': -1.0, 'ADV_symcom': -1.0, 'PART_symcom': -1.0, 'SCONJ_symcom': -1.0}\n",
      "{'PROPN_symcom': 0.0, 'ADP_symcom': -0.6000000000000001, 'CCONJ_symcom': -0.7777777778, 'PRON_symcom': -1.0, 'NOUN_symcom': -0.75, 'VERB_symcom': -1.0, 'PART_symcom': -1.0, 'DET_symcom': -1.0, 'AUX_symcom': -1.0}\n",
      "{'NOUN_symcom': 1.0, 'CCONJ_symcom': -1.0, 'PART_symcom': -1.0, 'ADJ_symcom': 1.0}\n",
      "{'NOUN_symcom': 0.0, 'AUX_symcom': -1.0, 'PART_symcom': -1.0, 'PRON_symcom': -1.0, 'DET_symcom': -1.0, 'ADV_symcom': -1.0, 'ADP_symcom': -1.0, 'NUM_symcom': -1.0}\n",
      "{'NOUN_symcom': 0.6000000000000001, 'ADP_symcom': -1.0, 'PRON_symcom': -1.0, 'ADJ_symcom': -1.0, 'PART_symcom': -1.0, 'DET_symcom': -1.0, 'VERB_symcom': -1.0, 'AUX_symcom': -1.0}\n",
      "{'VERB_symcom': -0.2, 'NOUN_symcom': 1.0, 'AUX_symcom': -1.0, 'PRON_symcom': 0.0, 'ADV_symcom': -1.0, 'CCONJ_symcom': -1.0, 'ADP_symcom': -1.0}\n",
      "{'NOUN_symcom': -1.0, 'ADP_symcom': -1.0, 'PRON_symcom': -1.0, 'CCONJ_symcom': 1.0, 'AUX_symcom': -1.0, 'VERB_symcom': -1.0}\n",
      "{'NOUN_symcom': 1.0}\n",
      "{'NOUN_symcom': 0.0, 'ADP_symcom': -0.33333333330000003, 'ADJ_symcom': -1.0, 'VERB_symcom': -1.0, 'AUX_symcom': -1.0}\n",
      "{'VERB_symcom': 0.0, 'AUX_symcom': -1.0, 'PRON_symcom': -1.0, 'ADP_symcom': -1.0, 'CCONJ_symcom': -1.0}\n",
      "{'NOUN_symcom': 0.0, 'ADP_symcom': -1.0, 'VERB_symcom': -1.0, 'DET_symcom': -1.0, 'PRON_symcom': -1.0, 'ADJ_symcom': 1.0, 'AUX_symcom': -1.0}\n",
      "{'NOUN_symcom': 0.1428571429, 'ADP_symcom': -1.0, 'DET_symcom': -1.0, 'CCONJ_symcom': -1.0, 'PRON_symcom': -1.0, 'PART_symcom': -1.0, 'VERB_symcom': -1.0, 'NUM_symcom': -1.0, 'ADJ_symcom': -1.0, 'AUX_symcom': -1.0}\n",
      "{'ADP_symcom': -1.0, 'PRON_symcom': -1.0, 'NOUN_symcom': 1.0, 'VERB_symcom': -1.0, 'ADV_symcom': -1.0, 'NUM_symcom': -1.0, 'DET_symcom': -1.0}\n",
      "{'ADJ_symcom': -1.0, 'NOUN_symcom': 1.0, 'AUX_symcom': -1.0, 'ADP_symcom': -1.0, 'DET_symcom': -1.0, 'PART_symcom': -1.0, 'VERB_symcom': -1.0}\n",
      "{'ADJ_symcom': 0.0, 'NOUN_symcom': 0.0, 'PRON_symcom': -1.0, 'CCONJ_symcom': -1.0, 'NUM_symcom': -1.0, 'ADP_symcom': -1.0, 'VERB_symcom': -1.0}\n",
      "{'NOUN_symcom': -1.0, 'PRON_symcom': -1.0, 'ADP_symcom': -1.0, 'VERB_symcom': -1.0, 'CCONJ_symcom': -1.0, 'PART_symcom': -1.0, 'SCONJ_symcom': -1.0, 'ADJ_symcom': -1.0, 'AUX_symcom': -1.0}\n",
      "{'NOUN_symcom': 0.5, 'ADP_symcom': 0.0, 'ADJ_symcom': 1.0, 'NUM_symcom': -1.0, 'AUX_symcom': -1.0}\n",
      "{'NOUN_symcom': -0.33333333330000003, 'DET_symcom': -1.0, 'ADP_symcom': -1.0, 'AUX_symcom': -1.0, 'NUM_symcom': -1.0, 'PRON_symcom': -1.0, 'ADJ_symcom': -1.0}\n",
      "{'NOUN_symcom': 0.5, 'ADJ_symcom': 1.0, 'ADP_symcom': -1.0}\n",
      "{'NOUN_symcom': 0.33333333330000003, 'PRON_symcom': -1.0, 'CCONJ_symcom': -1.0, 'ADP_symcom': -1.0, 'NUM_symcom': -1.0}\n",
      "{'ADP_symcom': -1.0, 'VERB_symcom': -1.0, 'NOUN_symcom': 1.0, 'AUX_symcom': -1.0, 'PROPN_symcom': -1.0, 'PRON_symcom': -1.0, 'DET_symcom': -1.0}\n",
      "{'ADJ_symcom': 0.33333333330000003, 'NOUN_symcom': 1.0, 'ADP_symcom': -1.0, 'AUX_symcom': -1.0, 'NUM_symcom': -1.0, 'PRON_symcom': -1.0, 'DET_symcom': -1.0, 'VERB_symcom': -1.0}\n",
      "{'NOUN_symcom': -0.25, 'ADP_symcom': -1.0, 'AUX_symcom': -1.0, 'PART_symcom': -1.0, 'SCONJ_symcom': -1.0, 'PRON_symcom': -1.0, 'ADJ_symcom': 0.0, 'DET_symcom': -1.0, 'VERB_symcom': -1.0, 'CCONJ_symcom': -1.0, 'ADV_symcom': -1.0}\n",
      "{'NOUN_symcom': -0.5, 'ADP_symcom': -1.0, 'PROPN_symcom': 1.0, 'ADJ_symcom': -1.0, 'VERB_symcom': -1.0, 'SCONJ_symcom': -1.0, 'PRON_symcom': -1.0, 'PART_symcom': -1.0, 'AUX_symcom': -1.0}\n",
      "{'NOUN_symcom': 0.0, 'ADP_symcom': -0.6666666667000001, 'ADJ_symcom': 0.0, 'VERB_symcom': -1.0, 'AUX_symcom': -1.0, 'PRON_symcom': -1.0, 'ADV_symcom': 1.0, 'DET_symcom': -1.0}\n",
      "{'CCONJ_symcom': -1.0, 'DET_symcom': -1.0, 'NOUN_symcom': -1.0, 'ADP_symcom': -1.0, 'PRON_symcom': -1.0, 'VERB_symcom': -1.0, 'AUX_symcom': -1.0}\n",
      "{'NOUN_symcom': 0.33333333330000003, 'CCONJ_symcom': 0.0, 'ADP_symcom': 0.0, 'VERB_symcom': 0.0, 'ADJ_symcom': 1.0, 'AUX_symcom': -1.0, 'PART_symcom': -1.0, 'PRON_symcom': -1.0}\n",
      "{'ADP_symcom': -1.0, 'NOUN_symcom': 1.0, 'PROPN_symcom': -1.0, 'ADJ_symcom': -1.0, 'PART_symcom': -1.0, 'DET_symcom': -1.0, 'VERB_symcom': -1.0, 'SCONJ_symcom': -1.0, 'AUX_symcom': -1.0}\n",
      "{'AUX_symcom': -1.0, 'ADJ_symcom': 1.0, 'ADP_symcom': -1.0, 'NOUN_symcom': 0.0, 'PART_symcom': -1.0, 'VERB_symcom': -1.0}\n",
      "{'ADJ_symcom': -0.33333333330000003, 'NOUN_symcom': -0.33333333330000003, 'AUX_symcom': -1.0, 'ADP_symcom': -1.0, 'CCONJ_symcom': -1.0, 'PRON_symcom': -1.0, 'DET_symcom': -1.0, 'VERB_symcom': -1.0}\n",
      "{'NOUN_symcom': 0.6000000000000001, 'DET_symcom': -0.33333333330000003, 'ADP_symcom': -1.0, 'VERB_symcom': 0.0, 'AUX_symcom': -1.0, 'PRON_symcom': -1.0}\n",
      "{'NOUN_symcom': 0.6666666667000001, 'NUM_symcom': -1.0, 'ADP_symcom': -1.0, 'ADJ_symcom': 1.0, 'VERB_symcom': -1.0, 'AUX_symcom': -1.0}\n",
      "{'PRON_symcom': -1.0, 'VERB_symcom': -1.0, 'AUX_symcom': -1.0, 'SCONJ_symcom': -1.0, 'ADP_symcom': -1.0, 'CCONJ_symcom': -1.0, 'ADV_symcom': -1.0}\n",
      "{'NOUN_symcom': 0.2, 'ADP_symcom': 0.0, 'ADJ_symcom': 0.0, 'NUM_symcom': -1.0, 'CCONJ_symcom': -1.0, 'AUX_symcom': -1.0, 'SCONJ_symcom': -1.0}\n",
      "{'NOUN_symcom': 0.33333333330000003, 'ADJ_symcom': 1.0, 'ADP_symcom': -1.0, 'AUX_symcom': -1.0}\n",
      "{'AUX_symcom': -1.0, 'ADP_symcom': -1.0, 'PRON_symcom': -1.0, 'NOUN_symcom': 0.33333333330000003, 'CCONJ_symcom': -1.0, 'PART_symcom': -1.0, 'DET_symcom': -1.0, 'ADJ_symcom': -1.0, 'ADV_symcom': -1.0, 'VERB_symcom': -1.0}\n",
      "{'NOUN_symcom': 0.6666666667000001, 'ADP_symcom': -1.0, 'ADJ_symcom': 0.33333333330000003, 'ADV_symcom': -1.0, 'AUX_symcom': -1.0, 'PRON_symcom': -1.0, 'NUM_symcom': -1.0}\n",
      "{'DET_symcom': -1.0, 'SCONJ_symcom': -1.0, 'PRON_symcom': -1.0, 'NOUN_symcom': 1.0, 'ADP_symcom': -1.0, 'VERB_symcom': -1.0}\n",
      "{'NOUN_symcom': 0.0, 'VERB_symcom': -1.0, 'AUX_symcom': -1.0, 'ADJ_symcom': 0.33333333330000003, 'PRON_symcom': -1.0, 'ADP_symcom': -1.0, 'NUM_symcom': -1.0, 'PART_symcom': -1.0, 'DET_symcom': -1.0}\n",
      "{'NOUN_symcom': 0.0, 'VERB_symcom': -1.0, 'ADV_symcom': -1.0, 'ADJ_symcom': 1.0, 'AUX_symcom': -1.0}\n",
      "{'NOUN_symcom': -0.7142857143, 'PRON_symcom': -1.0, 'VERB_symcom': -1.0, 'ADP_symcom': -1.0, 'AUX_symcom': -1.0, 'PART_symcom': -1.0, 'CCONJ_symcom': -1.0, 'ADV_symcom': -1.0}\n",
      "{'NOUN_symcom': 0.6666666667000001, 'ADJ_symcom': 1.0, 'SCONJ_symcom': -1.0, 'ADP_symcom': -1.0, 'VERB_symcom': -1.0}\n",
      "{'NOUN_symcom': 0.0, 'ADJ_symcom': -0.7142857143, 'CCONJ_symcom': -0.5, 'PRON_symcom': -1.0, 'ADV_symcom': -1.0, 'ADP_symcom': -1.0, 'VERB_symcom': -1.0, 'AUX_symcom': -1.0, 'DET_symcom': -1.0, 'SCONJ_symcom': -1.0}\n",
      "{'NOUN_symcom': 0.5, 'AUX_symcom': -1.0, 'CCONJ_symcom': -1.0, 'ADP_symcom': -1.0, 'VERB_symcom': -1.0}\n",
      "{'NOUN_symcom': 0.7142857143, 'ADP_symcom': -1.0, 'ADJ_symcom': 1.0, 'AUX_symcom': -1.0}\n",
      "{'CCONJ_symcom': 0.0, 'VERB_symcom': -0.33333333330000003, 'PRON_symcom': -1.0, 'NOUN_symcom': 0.0, 'DET_symcom': -1.0, 'ADJ_symcom': -1.0}\n",
      "{'NOUN_symcom': -0.4285714286, 'VERB_symcom': -0.2, 'ADP_symcom': -1.0, 'CCONJ_symcom': -1.0, 'DET_symcom': 1.0, 'SCONJ_symcom': -1.0}\n",
      "{'NOUN_symcom': 0.6363636364, 'ADP_symcom': -1.0, 'VERB_symcom': -1.0, 'ADJ_symcom': 0.0, 'SCONJ_symcom': -1.0, 'CCONJ_symcom': -1.0, 'PART_symcom': -1.0, 'AUX_symcom': -1.0, 'NUM_symcom': -1.0, 'PRON_symcom': -1.0}\n",
      "{'PROPN_symcom': 1.0, 'NOUN_symcom': 0.0, 'ADP_symcom': -1.0, 'PRON_symcom': -1.0, 'PART_symcom': -1.0, 'VERB_symcom': -1.0, 'AUX_symcom': -1.0}\n",
      "{'NOUN_symcom': 0.6000000000000001, 'SCONJ_symcom': -1.0, 'VERB_symcom': -1.0, 'ADP_symcom': -1.0, 'ADJ_symcom': -1.0}\n",
      "{'NOUN_symcom': -0.7142857143, 'PART_symcom': -1.0, 'ADJ_symcom': -0.6000000000000001, 'AUX_symcom': -1.0, 'SCONJ_symcom': -1.0, 'ADP_symcom': -1.0, 'DET_symcom': -1.0, 'PRON_symcom': -1.0, 'VERB_symcom': -1.0}\n",
      "{'NOUN_symcom': 0.1428571429, 'VERB_symcom': -1.0, 'AUX_symcom': -1.0, 'PRON_symcom': -1.0, 'SCONJ_symcom': 0.0, 'ADP_symcom': -1.0, 'CCONJ_symcom': 0.0, 'ADV_symcom': -1.0, 'ADJ_symcom': 1.0, 'PART_symcom': -1.0}\n",
      "{'NOUN_symcom': -0.5, 'PRON_symcom': -1.0, 'CCONJ_symcom': -1.0, 'ADJ_symcom': 1.0, 'ADP_symcom': -1.0, 'VERB_symcom': -1.0, 'SCONJ_symcom': -1.0, 'AUX_symcom': -1.0}\n",
      "{'PRON_symcom': -1.0, 'ADP_symcom': -1.0, 'NOUN_symcom': 1.0, 'AUX_symcom': -1.0, 'PART_symcom': -1.0}\n",
      "{'ADP_symcom': -1.0, 'NOUN_symcom': -0.33333333330000003}\n",
      "{'NOUN_symcom': -0.6000000000000001, 'PRON_symcom': -0.7142857143, 'VERB_symcom': -1.0, 'AUX_symcom': -1.0, 'ADP_symcom': -1.0, 'DET_symcom': -1.0, 'PART_symcom': -1.0, 'CCONJ_symcom': -1.0, 'ADJ_symcom': -1.0, 'ADV_symcom': -1.0}\n",
      "{'ADP_symcom': -1.0, 'NOUN_symcom': 1.0}\n",
      "{'NOUN_symcom': 0.2, 'ADP_symcom': 0.0, 'DET_symcom': -1.0, 'AUX_symcom': -1.0, 'CCONJ_symcom': -1.0, 'PART_symcom': -1.0, 'ADV_symcom': -1.0, 'ADJ_symcom': -1.0, 'VERB_symcom': -1.0}\n",
      "{'ADP_symcom': -1.0, 'PRON_symcom': -1.0, 'NOUN_symcom': 0.0, 'VERB_symcom': -1.0, 'AUX_symcom': -1.0}\n",
      "{'PART_symcom': -1.0, 'PRON_symcom': -1.0, 'ADV_symcom': -1.0, 'AUX_symcom': -1.0}\n",
      "{'PRON_symcom': -1.0, 'NOUN_symcom': -0.5, 'ADP_symcom': -1.0, 'VERB_symcom': -1.0, 'PROPN_symcom': -1.0, 'PART_symcom': -1.0, 'CCONJ_symcom': -1.0, 'ADV_symcom': -1.0, 'ADJ_symcom': 1.0}\n",
      "{'VERB_symcom': -1.0, 'NOUN_symcom': -1.0, 'CCONJ_symcom': -1.0, 'DET_symcom': -1.0, 'PRON_symcom': -1.0, 'AUX_symcom': -1.0}\n",
      "{'NOUN_symcom': 0.6666666667000001, 'PART_symcom': -1.0, 'ADP_symcom': -1.0, 'VERB_symcom': -1.0, 'SCONJ_symcom': -1.0, 'AUX_symcom': -1.0, 'PRON_symcom': -1.0, 'ADJ_symcom': -1.0, 'ADV_symcom': -1.0}\n",
      "{'AUX_symcom': -1.0, 'NOUN_symcom': -1.0, 'PRON_symcom': 1.0, 'ADJ_symcom': -1.0, 'CCONJ_symcom': -1.0}\n",
      "{'NOUN_symcom': 0.0, 'ADP_symcom': 0.0, 'NUM_symcom': -1.0, 'ADJ_symcom': 1.0, 'ADV_symcom': -1.0, 'VERB_symcom': -1.0, 'AUX_symcom': -1.0}\n",
      "{'ADP_symcom': -0.75, 'NOUN_symcom': -0.4285714286, 'VERB_symcom': -0.6666666667000001, 'AUX_symcom': -1.0, 'PRON_symcom': -1.0, 'NUM_symcom': -1.0, 'DET_symcom': -1.0, 'CCONJ_symcom': -1.0, 'PART_symcom': -1.0, 'SCONJ_symcom': -1.0}\n",
      "{'NOUN_symcom': 0.5, 'ADP_symcom': -1.0, 'AUX_symcom': -1.0, 'CCONJ_symcom': -1.0, 'PRON_symcom': -1.0, 'VERB_symcom': -1.0, 'ADJ_symcom': 1.0, 'PROPN_symcom': -1.0, 'SCONJ_symcom': -1.0, 'PART_symcom': -1.0, 'DET_symcom': -1.0, 'NUM_symcom': -1.0}\n",
      "{'ADJ_symcom': -0.33333333330000003, 'PRON_symcom': -1.0, 'NOUN_symcom': 0.0, 'AUX_symcom': 0.0, 'SCONJ_symcom': -1.0, 'ADP_symcom': -1.0, 'PROPN_symcom': -1.0, 'VERB_symcom': -1.0}\n",
      "{'NOUN_symcom': 0.0, 'AUX_symcom': -1.0, 'ADJ_symcom': 1.0, 'VERB_symcom': 0.0, 'PART_symcom': -1.0, 'SCONJ_symcom': -1.0, 'DET_symcom': -1.0}\n",
      "{'NOUN_symcom': -0.5, 'ADP_symcom': -1.0, 'VERB_symcom': -0.33333333330000003, 'PROPN_symcom': -1.0, 'NUM_symcom': -1.0, 'CCONJ_symcom': -1.0, 'DET_symcom': -1.0, 'ADJ_symcom': -1.0}\n",
      "{'ADP_symcom': -0.6666666667000001, 'NOUN_symcom': 0.0, 'PRON_symcom': -1.0, 'PROPN_symcom': -1.0, 'ADJ_symcom': -1.0, 'AUX_symcom': -1.0}\n",
      "{'VERB_symcom': -1.0, 'AUX_symcom': -1.0, 'DET_symcom': -1.0, 'NOUN_symcom': -1.0, 'PRON_symcom': -1.0, 'SCONJ_symcom': -1.0, 'NUM_symcom': -1.0}\n",
      "{'NOUN_symcom': 0.33333333330000003, 'CCONJ_symcom': -1.0, 'PRON_symcom': -1.0, 'ADP_symcom': -1.0, 'DET_symcom': -1.0, 'VERB_symcom': -1.0, 'AUX_symcom': -1.0}\n",
      "{'NOUN_symcom': 1.0, 'ADJ_symcom': 1.0, 'VERB_symcom': -1.0, 'DET_symcom': -1.0, 'PART_symcom': -1.0}\n",
      "{'NOUN_symcom': -0.7777777778, 'ADP_symcom': -1.0, 'PRON_symcom': -1.0, 'VERB_symcom': -1.0, 'SCONJ_symcom': -1.0, 'CCONJ_symcom': -0.33333333330000003, 'AUX_symcom': -1.0, 'DET_symcom': -1.0, 'INTJ_symcom': -1.0, 'PART_symcom': -1.0, 'ADV_symcom': -1.0}\n",
      "{'DET_symcom': 1.0, 'NOUN_symcom': 0.0, 'VERB_symcom': -1.0, 'ADV_symcom': -1.0, 'ADP_symcom': -1.0, 'PART_symcom': -1.0}\n",
      "{'PRON_symcom': -1.0, 'VERB_symcom': -1.0, 'NOUN_symcom': -1.0, 'SCONJ_symcom': -1.0, 'AUX_symcom': -1.0, 'CCONJ_symcom': -1.0, 'DET_symcom': -1.0, 'ADP_symcom': -1.0, 'ADV_symcom': -1.0, 'ADJ_symcom': -1.0}\n",
      "{'NOUN_symcom': -0.2, 'ADP_symcom': -0.5, 'ADV_symcom': -1.0, 'NUM_symcom': -1.0, 'PART_symcom': -1.0, 'PRON_symcom': -1.0, 'AUX_symcom': -1.0, 'ADJ_symcom': 1.0}\n",
      "{'NOUN_symcom': 0.2, 'AUX_symcom': -1.0, 'PROPN_symcom': -0.33333333330000003, 'DET_symcom': -1.0, 'CCONJ_symcom': -1.0, 'ADV_symcom': -1.0, 'ADP_symcom': -1.0, 'VERB_symcom': -1.0, 'SCONJ_symcom': -1.0, 'ADJ_symcom': 1.0, 'PRON_symcom': -1.0, 'PART_symcom': -1.0}\n",
      "{'PRON_symcom': -1.0, 'ADJ_symcom': 0.0, 'SCONJ_symcom': -1.0, 'CCONJ_symcom': -1.0, 'VERB_symcom': -1.0}\n",
      "{'NOUN_symcom': 1.0, 'AUX_symcom': -1.0, 'PART_symcom': -1.0, 'VERB_symcom': -1.0}\n",
      "{'NOUN_symcom': -0.6000000000000001, 'ADV_symcom': -1.0, 'ADJ_symcom': -1.0}\n",
      "{'NOUN_symcom': 0.4545454545, 'PRON_symcom': -1.0, 'ADP_symcom': -1.0, 'AUX_symcom': -1.0, 'VERB_symcom': -1.0, 'PART_symcom': -1.0, 'CCONJ_symcom': -1.0, 'SCONJ_symcom': -1.0, 'ADV_symcom': -1.0}\n",
      "{'NOUN_symcom': 0.1428571429, 'ADP_symcom': -1.0, 'AUX_symcom': -1.0, 'PROPN_symcom': 1.0, 'CCONJ_symcom': -1.0, 'ADV_symcom': -1.0, 'PART_symcom': -1.0, 'PRON_symcom': -1.0, 'NUM_symcom': -1.0}\n",
      "{'NOUN_symcom': 1.0, 'VERB_symcom': -1.0, 'AUX_symcom': -1.0, 'INTJ_symcom': -1.0}\n",
      "{'NOUN_symcom': 1.0, 'ADP_symcom': -1.0, 'DET_symcom': 1.0}\n",
      "{'NOUN_symcom': 0.33333333330000003, 'ADP_symcom': 1.0, 'VERB_symcom': -1.0, 'SCONJ_symcom': -1.0}\n",
      "{'ADP_symcom': -1.0, 'ADJ_symcom': 0.0, 'NOUN_symcom': 0.0, 'PRON_symcom': -1.0}\n",
      "{'NOUN_symcom': 0.33333333330000003, 'AUX_symcom': -1.0, 'PRON_symcom': -1.0, 'ADP_symcom': -1.0, 'DET_symcom': -1.0, 'ADJ_symcom': 1.0, 'PART_symcom': -1.0}\n",
      "{'NOUN_symcom': -0.33333333330000003, 'ADP_symcom': -1.0, 'DET_symcom': -1.0, 'PRON_symcom': -1.0, 'VERB_symcom': -1.0, 'AUX_symcom': -1.0}\n",
      "{'ADJ_symcom': 0.0, 'NOUN_symcom': 1.0, 'ADP_symcom': -1.0, 'CCONJ_symcom': -1.0, 'PART_symcom': -1.0, 'AUX_symcom': -1.0, 'DET_symcom': 1.0}\n",
      "{'AUX_symcom': -1.0, 'NOUN_symcom': 1.0, 'VERB_symcom': -1.0, 'SCONJ_symcom': -1.0, 'DET_symcom': -1.0, 'ADP_symcom': -1.0, 'ADJ_symcom': 1.0, 'PRON_symcom': -1.0, 'PART_symcom': -1.0}\n",
      "{'NOUN_symcom': 1.0, 'ADP_symcom': -1.0, 'PRON_symcom': -1.0, 'AUX_symcom': -1.0, 'ADJ_symcom': 1.0, 'VERB_symcom': -1.0}\n",
      "{'NOUN_symcom': -0.5, 'CCONJ_symcom': -1.0, 'ADP_symcom': -0.6666666667000001, 'AUX_symcom': -1.0, 'VERB_symcom': -1.0, 'ADJ_symcom': -0.5, 'PRON_symcom': -1.0, 'DET_symcom': -1.0, 'PART_symcom': -1.0, 'SCONJ_symcom': -1.0}\n",
      "{'ADV_symcom': -1.0, 'PRON_symcom': -1.0, 'NOUN_symcom': 1.0, 'PART_symcom': -1.0, 'VERB_symcom': -1.0}\n",
      "{'ADP_symcom': -0.8571428571, 'NOUN_symcom': -0.2727272727, 'ADJ_symcom': -1.0, 'AUX_symcom': -1.0, 'DET_symcom': -1.0, 'PROPN_symcom': -0.33333333330000003, 'VERB_symcom': -1.0, 'ADV_symcom': -1.0, 'SCONJ_symcom': -1.0, 'PRON_symcom': -1.0, 'PART_symcom': -1.0, 'CCONJ_symcom': -1.0}\n",
      "{'PRON_symcom': -0.33333333330000003, 'AUX_symcom': -1.0, 'NOUN_symcom': 0.0, 'ADV_symcom': 1.0, 'ADJ_symcom': 1.0, 'SCONJ_symcom': -1.0, 'NUM_symcom': -1.0, 'ADP_symcom': -1.0, 'VERB_symcom': -1.0}\n",
      "{'NOUN_symcom': -0.75, 'ADP_symcom': -1.0, 'ADV_symcom': -1.0, 'VERB_symcom': -1.0, 'AUX_symcom': -1.0, 'CCONJ_symcom': -1.0, 'SCONJ_symcom': -1.0, 'PRON_symcom': -1.0, 'ADJ_symcom': -1.0}\n",
      "{'NOUN_symcom': 1.0, 'ADP_symcom': -1.0, 'VERB_symcom': -1.0, 'PRON_symcom': 1.0}\n",
      "{'AUX_symcom': -1.0, 'PRON_symcom': -1.0, 'NOUN_symcom': -1.0, 'PROPN_symcom': -1.0, 'CCONJ_symcom': -1.0, 'PART_symcom': -1.0, 'ADP_symcom': -1.0, 'VERB_symcom': -1.0, 'ADJ_symcom': -1.0, 'DET_symcom': -1.0}\n",
      "{'VERB_symcom': -0.5, 'NOUN_symcom': 0.33333333330000003, 'ADP_symcom': -1.0, 'AUX_symcom': -1.0, 'CCONJ_symcom': -1.0, 'PART_symcom': -1.0, 'ADJ_symcom': -1.0}\n",
      "{'PROPN_symcom': 1.0, 'NOUN_symcom': 0.0, 'ADP_symcom': -1.0, 'VERB_symcom': -1.0, 'PRON_symcom': -1.0, 'ADV_symcom': -1.0, 'PART_symcom': -1.0, 'AUX_symcom': -1.0}\n",
      "{'NOUN_symcom': -0.6000000000000001, 'PART_symcom': -1.0, 'PRON_symcom': -1.0, 'ADP_symcom': -1.0, 'CCONJ_symcom': -1.0, 'VERB_symcom': -1.0, 'SCONJ_symcom': -1.0}\n",
      "{'NOUN_symcom': -0.6000000000000001, 'ADP_symcom': -1.0, 'ADJ_symcom': 1.0, 'VERB_symcom': 1.0, 'ADV_symcom': 1.0}\n",
      "{'NOUN_symcom': 0.33333333330000003, 'ADP_symcom': -1.0, 'ADJ_symcom': -1.0, 'VERB_symcom': -1.0}\n",
      "{'NOUN_symcom': 0.0, 'ADP_symcom': -1.0, 'PRON_symcom': -1.0, 'VERB_symcom': -1.0}\n",
      "{'PRON_symcom': -0.7894736842000001, 'NOUN_symcom': -0.4666666667, 'VERB_symcom': -0.8181818182, 'AUX_symcom': -1.0, 'ADP_symcom': -1.0, 'CCONJ_symcom': -0.75, 'PART_symcom': -1.0, 'ADJ_symcom': -1.0, 'DET_symcom': -1.0, 'INTJ_symcom': -1.0, 'SCONJ_symcom': -1.0, 'ADV_symcom': -1.0}\n",
      "{'NOUN_symcom': 0.5, 'ADP_symcom': -1.0, 'VERB_symcom': -1.0, 'SCONJ_symcom': -1.0}\n",
      "{'NOUN_symcom': 1.0, 'ADJ_symcom': 1.0, 'AUX_symcom': -1.0, 'PRON_symcom': -1.0, 'ADP_symcom': -1.0, 'CCONJ_symcom': -1.0, 'VERB_symcom': -1.0}\n",
      "{'NOUN_symcom': 1.0, 'PRON_symcom': -1.0, 'AUX_symcom': -1.0, 'ADP_symcom': -1.0, 'DET_symcom': -1.0, 'VERB_symcom': -1.0, 'CCONJ_symcom': -1.0}\n",
      "{'NOUN_symcom': 0.2, 'ADV_symcom': -1.0, 'ADP_symcom': -1.0, 'VERB_symcom': -1.0, 'SCONJ_symcom': -1.0, 'AUX_symcom': 0.0, 'CCONJ_symcom': -1.0}\n",
      "{'NOUN_symcom': -1.0, 'AUX_symcom': -1.0, 'SCONJ_symcom': -1.0, 'DET_symcom': -1.0, 'ADP_symcom': -1.0, 'PRON_symcom': -1.0, 'CCONJ_symcom': -1.0, 'VERB_symcom': -1.0}\n",
      "{'NOUN_symcom': -1.0, 'ADP_symcom': -1.0, 'ADJ_symcom': -1.0, 'PART_symcom': -1.0, 'AUX_symcom': -1.0, 'CCONJ_symcom': -1.0, 'PRON_symcom': -1.0, 'VERB_symcom': -1.0}\n",
      "{'NOUN_symcom': 0.7142857143, 'ADP_symcom': -1.0, 'ADJ_symcom': 0.33333333330000003, 'VERB_symcom': -1.0, 'AUX_symcom': -1.0, 'NUM_symcom': -1.0, 'PRON_symcom': -1.0, 'PART_symcom': -1.0, 'ADV_symcom': -1.0}\n",
      "{'NOUN_symcom': 1.0, 'ADJ_symcom': 0.0, 'ADP_symcom': -1.0, 'AUX_symcom': -1.0, 'NUM_symcom': -1.0, 'VERB_symcom': -1.0}\n",
      "{'ADP_symcom': -1.0, 'NOUN_symcom': 0.0, 'ADJ_symcom': -0.6666666667000001, 'AUX_symcom': -1.0, 'VERB_symcom': -1.0, 'DET_symcom': -1.0, 'PRON_symcom': -0.33333333330000003, 'SCONJ_symcom': -1.0, 'PART_symcom': -1.0, 'PROPN_symcom': -1.0, 'ADV_symcom': -1.0, 'CCONJ_symcom': -1.0}\n",
      "{'NOUN_symcom': 0.2, 'VERB_symcom': 0.0, 'ADP_symcom': 0.0, 'PRON_symcom': -1.0, 'DET_symcom': 1.0, 'PART_symcom': -1.0, 'AUX_symcom': -1.0}\n",
      "{'NOUN_symcom': -0.33333333330000003, 'ADP_symcom': -1.0, 'VERB_symcom': -1.0, 'PRON_symcom': -1.0, 'NUM_symcom': -1.0, 'AUX_symcom': -1.0}\n",
      "{'NOUN_symcom': 0.7142857143, 'ADP_symcom': -1.0, 'ADJ_symcom': 1.0, 'DET_symcom': -1.0, 'CCONJ_symcom': -1.0, 'VERB_symcom': -1.0}\n",
      "{'NOUN_symcom': 1.0, 'ADP_symcom': -1.0, 'DET_symcom': -1.0, 'NUM_symcom': -1.0, 'AUX_symcom': -1.0}\n",
      "{'PRON_symcom': -1.0, 'NOUN_symcom': -0.33333333330000003, 'CCONJ_symcom': -1.0, 'ADP_symcom': -1.0, 'VERB_symcom': -1.0, 'AUX_symcom': -1.0}\n",
      "{'NOUN_symcom': 0.0, 'ADJ_symcom': 0.33333333330000003, 'ADP_symcom': -1.0, 'AUX_symcom': -1.0, 'PRON_symcom': 0.0, 'CCONJ_symcom': -1.0}\n",
      "{'ADP_symcom': -1.0, 'NOUN_symcom': 1.0, 'DET_symcom': -1.0, 'PROPN_symcom': 1.0, 'ADJ_symcom': 1.0, 'PART_symcom': -1.0, 'VERB_symcom': -1.0, 'AUX_symcom': -1.0}\n",
      "{'ADP_symcom': -1.0, 'NOUN_symcom': 0.5, 'VERB_symcom': -1.0}\n",
      "{'NOUN_symcom': -0.2, 'AUX_symcom': -1.0, 'ADJ_symcom': 1.0, 'PRON_symcom': -1.0, 'CCONJ_symcom': -1.0, 'ADP_symcom': -1.0, 'ADV_symcom': -1.0, 'DET_symcom': -1.0, 'VERB_symcom': -1.0}\n",
      "{'NOUN_symcom': 0.0, 'ADP_symcom': -1.0, 'PRON_symcom': -1.0, 'VERB_symcom': -1.0}\n",
      "{'ADJ_symcom': 0.0, 'NOUN_symcom': 0.0, 'CCONJ_symcom': 0.0, 'AUX_symcom': -1.0, 'ADP_symcom': -1.0, 'VERB_symcom': -1.0, 'PRON_symcom': -1.0, 'ADV_symcom': -1.0, 'DET_symcom': -1.0}\n",
      "{'PRON_symcom': -1.0, 'NOUN_symcom': -1.0, 'AUX_symcom': -1.0, 'VERB_symcom': -1.0, 'CCONJ_symcom': -1.0, 'SCONJ_symcom': -1.0, 'NUM_symcom': -1.0}\n",
      "{'NOUN_symcom': 0.2, 'AUX_symcom': -1.0, 'ADP_symcom': -1.0, 'VERB_symcom': -1.0, 'SCONJ_symcom': -1.0, 'DET_symcom': -1.0, 'ADJ_symcom': 1.0, 'PRON_symcom': -1.0}\n",
      "{'PRON_symcom': -1.0, 'NOUN_symcom': 1.0, 'VERB_symcom': -1.0, 'SCONJ_symcom': -1.0, 'ADP_symcom': -1.0, 'PART_symcom': -1.0}\n",
      "{'NOUN_symcom': 0.0, 'ADP_symcom': -1.0, 'VERB_symcom': -1.0, 'PROPN_symcom': 1.0, 'SCONJ_symcom': -1.0, 'AUX_symcom': -1.0}\n",
      "{'NOUN_symcom': 0.0, 'ADP_symcom': -1.0, 'PRON_symcom': -1.0, 'VERB_symcom': -1.0, 'AUX_symcom': -1.0, 'CCONJ_symcom': -1.0, 'ADJ_symcom': -1.0}\n",
      "{'NOUN_symcom': -0.2, 'VERB_symcom': -0.5, 'ADP_symcom': -1.0, 'AUX_symcom': -1.0, 'SCONJ_symcom': -1.0, 'ADJ_symcom': 1.0, 'PART_symcom': -1.0, 'DET_symcom': -1.0}\n",
      "{'NOUN_symcom': 0.6000000000000001, 'ADP_symcom': -1.0, 'CCONJ_symcom': -1.0}\n",
      "{'NOUN_symcom': -0.33333333330000003, 'VERB_symcom': 0.0, 'ADP_symcom': -1.0, 'PRON_symcom': -1.0, 'ADJ_symcom': 1.0, 'AUX_symcom': -1.0}\n",
      "{'ADP_symcom': -1.0, 'PRON_symcom': -0.6000000000000001, 'NOUN_symcom': 0.0, 'VERB_symcom': -1.0, 'DET_symcom': -1.0, 'CCONJ_symcom': -1.0, 'ADV_symcom': -1.0, 'ADJ_symcom': 0.0, 'SCONJ_symcom': -1.0, 'PROPN_symcom': -1.0, 'AUX_symcom': -1.0, 'PART_symcom': -1.0}\n",
      "{'NOUN_symcom': 0.0, 'ADP_symcom': -1.0, 'NUM_symcom': -1.0, 'VERB_symcom': -1.0, 'PRON_symcom': -1.0, 'PROPN_symcom': -1.0, 'AUX_symcom': -1.0}\n",
      "{'NOUN_symcom': 0.6000000000000001, 'ADJ_symcom': 0.5, 'VERB_symcom': -0.33333333330000003, 'AUX_symcom': -1.0, 'DET_symcom': -1.0, 'ADP_symcom': -1.0, 'PRON_symcom': -1.0, 'CCONJ_symcom': -1.0, 'SCONJ_symcom': -1.0, 'NUM_symcom': -1.0}\n",
      "{'NOUN_symcom': 0.1428571429, 'ADP_symcom': -0.33333333330000003, 'DET_symcom': -1.0, 'ADJ_symcom': 0.33333333330000003, 'AUX_symcom': -1.0, 'PRON_symcom': -1.0, 'CCONJ_symcom': -1.0, 'PART_symcom': -1.0}\n",
      "{'NOUN_symcom': -0.33333333330000003, 'AUX_symcom': -1.0, 'ADJ_symcom': 1.0, 'ADP_symcom': -1.0, 'PART_symcom': -1.0, 'VERB_symcom': -1.0}\n",
      "{'NOUN_symcom': 0.33333333330000003, 'ADP_symcom': -1.0, 'PRON_symcom': -1.0, 'ADJ_symcom': -1.0, 'PART_symcom': -1.0, 'AUX_symcom': -1.0}\n",
      "{'NOUN_symcom': 0.0, 'CCONJ_symcom': -1.0, 'ADJ_symcom': -1.0, 'ADP_symcom': -1.0, 'VERB_symcom': -1.0, 'AUX_symcom': -1.0}\n",
      "{'NOUN_symcom': 0.5, 'ADP_symcom': -1.0, 'DET_symcom': -1.0, 'VERB_symcom': -1.0, 'AUX_symcom': -1.0, 'PRON_symcom': -1.0}\n",
      "{'ADP_symcom': -1.0, 'NOUN_symcom': 1.0, 'NUM_symcom': 1.0, 'ADJ_symcom': 1.0}\n",
      "{'NOUN_symcom': -1.0, 'ADP_symcom': -1.0, 'PRON_symcom': -1.0, 'ADJ_symcom': 0.0, 'AUX_symcom': -1.0, 'CCONJ_symcom': -1.0, 'VERB_symcom': -1.0, 'DET_symcom': -1.0, 'PART_symcom': -1.0, 'SCONJ_symcom': -1.0}\n",
      "{'PRON_symcom': -1.0, 'AUX_symcom': -1.0, 'ADV_symcom': -1.0, 'VERB_symcom': -1.0}\n",
      "{'NOUN_symcom': 0.0, 'PRON_symcom': -1.0, 'DET_symcom': -1.0, 'PART_symcom': -1.0, 'ADP_symcom': -1.0, 'ADJ_symcom': -1.0, 'VERB_symcom': -1.0, 'AUX_symcom': -1.0}\n",
      "{'NOUN_symcom': -0.0909090909, 'ADP_symcom': -1.0, 'ADJ_symcom': -0.6000000000000001, 'AUX_symcom': -1.0, 'PRON_symcom': -1.0, 'PART_symcom': -1.0, 'DET_symcom': -1.0, 'ADV_symcom': -1.0}\n",
      "{'NOUN_symcom': 0.2, 'ADP_symcom': -1.0, 'ADJ_symcom': 1.0, 'NUM_symcom': -1.0, 'CCONJ_symcom': -1.0, 'AUX_symcom': -1.0, 'SCONJ_symcom': -1.0}\n",
      "{'NOUN_symcom': 0.5, 'ADP_symcom': -1.0, 'PRON_symcom': -1.0, 'AUX_symcom': 0.0, 'VERB_symcom': -1.0, 'ADJ_symcom': -1.0, 'PROPN_symcom': 1.0}\n",
      "{'ADP_symcom': -1.0, 'NOUN_symcom': -0.7142857143, 'AUX_symcom': -1.0, 'VERB_symcom': -1.0, 'PRON_symcom': -1.0, 'PROPN_symcom': 1.0, 'ADJ_symcom': -1.0, 'SCONJ_symcom': -1.0, 'CCONJ_symcom': -0.6666666667000001, 'PART_symcom': -1.0, 'DET_symcom': -1.0}\n",
      "{'NOUN_symcom': -0.33333333330000003, 'ADP_symcom': -1.0, 'AUX_symcom': -1.0, 'NUM_symcom': -1.0, 'PRON_symcom': -1.0, 'DET_symcom': -1.0, 'CCONJ_symcom': -1.0, 'ADJ_symcom': -1.0}\n",
      "{'NOUN_symcom': -1.0, 'VERB_symcom': -1.0, 'PRON_symcom': -1.0, 'AUX_symcom': -1.0, 'SCONJ_symcom': -1.0, 'ADP_symcom': -1.0, 'PART_symcom': -1.0}\n",
      "{'NOUN_symcom': 0.33333333330000003, 'ADP_symcom': -1.0, 'VERB_symcom': -1.0, 'AUX_symcom': -1.0}\n",
      "{'NOUN_symcom': 0.5, 'VERB_symcom': -1.0, 'ADJ_symcom': -1.0, 'ADP_symcom': -1.0, 'PART_symcom': -1.0, 'AUX_symcom': -1.0, 'INTJ_symcom': 1.0}\n",
      "{'NOUN_symcom': -1.0, 'VERB_symcom': -1.0, 'ADP_symcom': -1.0, 'ADJ_symcom': -1.0, 'AUX_symcom': -1.0}\n",
      "{'NOUN_symcom': -1.0, 'VERB_symcom': -1.0, 'ADP_symcom': -1.0, 'PRON_symcom': -1.0, 'SCONJ_symcom': -1.0, 'ADJ_symcom': -1.0, 'AUX_symcom': -1.0}\n",
      "{'ADP_symcom': -1.0, 'NOUN_symcom': -0.7142857143, 'VERB_symcom': -0.5, 'PRON_symcom': -0.33333333330000003, 'ADJ_symcom': -1.0, 'CCONJ_symcom': -1.0, 'ADV_symcom': -1.0, 'AUX_symcom': -1.0, 'SCONJ_symcom': -1.0}\n",
      "{'ADP_symcom': -1.0, 'NOUN_symcom': 0.33333333330000003, 'PROPN_symcom': 1.0, 'ADJ_symcom': 0.0, 'AUX_symcom': -1.0, 'SCONJ_symcom': -1.0, 'PART_symcom': -1.0, 'VERB_symcom': -1.0, 'DET_symcom': 1.0, 'ADV_symcom': -1.0, 'PRON_symcom': -1.0}\n",
      "{'NOUN_symcom': 1.0, 'PRON_symcom': -1.0, 'DET_symcom': -1.0, 'ADP_symcom': -1.0, 'VERB_symcom': -1.0, 'SCONJ_symcom': -1.0, 'ADJ_symcom': 1.0, 'AUX_symcom': -1.0}\n",
      "{'NOUN_symcom': -1.0, 'VERB_symcom': -0.4285714286, 'ADP_symcom': -1.0, 'PRON_symcom': -1.0, 'CCONJ_symcom': -0.5, 'ADV_symcom': 0.0, 'ADJ_symcom': -1.0, 'PROPN_symcom': -1.0, 'SCONJ_symcom': -1.0, 'DET_symcom': -1.0, 'PART_symcom': -1.0, 'AUX_symcom': -1.0}\n",
      "{'NOUN_symcom': 0.1428571429, 'AUX_symcom': -1.0, 'ADP_symcom': -1.0, 'ADJ_symcom': -0.33333333330000003, 'DET_symcom': -1.0, 'CCONJ_symcom': -1.0, 'VERB_symcom': -1.0}\n",
      "{'ADJ_symcom': 1.0, 'NOUN_symcom': 1.0, 'ADP_symcom': -1.0, 'PART_symcom': -1.0, 'ADV_symcom': -1.0, 'PRON_symcom': -1.0, 'NUM_symcom': -1.0, 'DET_symcom': -1.0, 'AUX_symcom': -1.0}\n",
      "{'AUX_symcom': -0.6000000000000001, 'NOUN_symcom': 0.0, 'VERB_symcom': -0.33333333330000003, 'ADV_symcom': -1.0, 'PART_symcom': -1.0, 'NUM_symcom': -1.0}\n",
      "{'NOUN_symcom': 0.6666666667000001, 'PRON_symcom': -0.5, 'AUX_symcom': -1.0, 'ADV_symcom': -1.0, 'VERB_symcom': -1.0, 'ADP_symcom': -1.0, 'ADJ_symcom': -1.0, 'CCONJ_symcom': -1.0}\n",
      "{'NOUN_symcom': -1.0, 'ADJ_symcom': 0.0, 'CCONJ_symcom': -1.0, 'ADP_symcom': -1.0, 'NUM_symcom': -1.0, 'VERB_symcom': 1.0, 'PRON_symcom': 1.0}\n",
      "{'PRON_symcom': -1.0, 'ADV_symcom': -1.0, 'VERB_symcom': 0.0, 'NOUN_symcom': 0.0, 'AUX_symcom': -1.0, 'PROPN_symcom': -1.0, 'ADP_symcom': -1.0}\n",
      "{'NOUN_symcom': 0.33333333330000003, 'ADP_symcom': -1.0, 'DET_symcom': -1.0, 'PRON_symcom': -1.0, 'VERB_symcom': -1.0, 'AUX_symcom': -1.0}\n",
      "{'NOUN_symcom': 0.6470588235, 'ADP_symcom': -1.0, 'VERB_symcom': -1.0, 'AUX_symcom': -1.0, 'DET_symcom': -1.0, 'ADJ_symcom': -0.5, 'ADV_symcom': -1.0, 'SCONJ_symcom': -1.0, 'PART_symcom': -1.0}\n",
      "{'NOUN_symcom': 0.5, 'ADP_symcom': -1.0, 'PRON_symcom': -1.0, 'CCONJ_symcom': -1.0, 'VERB_symcom': -1.0, 'AUX_symcom': -1.0}\n",
      "{'ADP_symcom': -1.0, 'ADJ_symcom': 1.0, 'NOUN_symcom': -1.0, 'PRON_symcom': -1.0, 'VERB_symcom': -1.0, 'AUX_symcom': -1.0}\n",
      "{'NOUN_symcom': 0.6666666667000001, 'ADP_symcom': -1.0, 'VERB_symcom': -1.0, 'SCONJ_symcom': -1.0}\n",
      "{'VERB_symcom': -0.8181818182, 'PRON_symcom': -1.0, 'AUX_symcom': -0.75, 'NOUN_symcom': -0.7142857143, 'ADV_symcom': -1.0, 'SCONJ_symcom': -1.0, 'PART_symcom': -1.0, 'ADP_symcom': -1.0, 'DET_symcom': -1.0, 'PROPN_symcom': -1.0}\n",
      "{'AUX_symcom': -1.0, 'PRON_symcom': -1.0, 'PROPN_symcom': -1.0, 'ADP_symcom': -1.0, 'ADJ_symcom': 1.0, 'NOUN_symcom': 1.0, 'VERB_symcom': -1.0}\n",
      "{'ADP_symcom': -1.0, 'NOUN_symcom': 0.0909090909, 'AUX_symcom': -1.0, 'VERB_symcom': -1.0, 'PART_symcom': -1.0, 'PRON_symcom': -1.0, 'SCONJ_symcom': -1.0, 'ADJ_symcom': -1.0, 'DET_symcom': -1.0}\n",
      "{'NOUN_symcom': 0.33333333330000003, 'ADP_symcom': -1.0, 'AUX_symcom': -1.0, 'ADV_symcom': -1.0, 'PRON_symcom': -1.0, 'VERB_symcom': -1.0}\n",
      "{'NOUN_symcom': 1.0, 'VERB_symcom': -1.0}\n",
      "{'NOUN_symcom': 1.0, 'DET_symcom': 1.0, 'ADP_symcom': 1.0, 'ADJ_symcom': 1.0, 'AUX_symcom': -1.0}\n",
      "{'NOUN_symcom': 0.0, 'ADP_symcom': -1.0, 'DET_symcom': -1.0, 'ADJ_symcom': -1.0, 'VERB_symcom': -1.0, 'PRON_symcom': -1.0, 'AUX_symcom': -1.0}\n",
      "{'NOUN_symcom': -0.6666666667000001, 'AUX_symcom': -1.0, 'CCONJ_symcom': -1.0, 'ADP_symcom': -1.0, 'ADJ_symcom': 0.0, 'DET_symcom': -1.0, 'PRON_symcom': -1.0, 'VERB_symcom': -1.0}\n",
      "{'PART_symcom': -0.5, 'NOUN_symcom': -0.33333333330000003, 'VERB_symcom': 0.0, 'AUX_symcom': -1.0, 'DET_symcom': -1.0, 'PRON_symcom': -1.0, 'ADV_symcom': 1.0}\n",
      "{'NOUN_symcom': -0.25, 'ADP_symcom': -1.0, 'AUX_symcom': -0.5, 'ADV_symcom': 0.0, 'ADJ_symcom': -1.0, 'DET_symcom': -1.0, 'VERB_symcom': -1.0, 'PRON_symcom': -1.0}\n",
      "{'AUX_symcom': -0.33333333330000003, 'ADP_symcom': -1.0, 'NOUN_symcom': 1.0, 'PROPN_symcom': 1.0, 'CCONJ_symcom': 1.0, 'PRON_symcom': -1.0}\n",
      "{'NOUN_symcom': 0.0, 'VERB_symcom': 0.0, 'ADP_symcom': 0.0, 'ADJ_symcom': 1.0, 'AUX_symcom': -1.0}\n",
      "{'PRON_symcom': -1.0, 'NOUN_symcom': 1.0, 'DET_symcom': 0.0, 'ADP_symcom': -1.0, 'VERB_symcom': -1.0, 'AUX_symcom': -1.0, 'SCONJ_symcom': -1.0, 'ADJ_symcom': 1.0}\n",
      "{'NOUN_symcom': 0.5, 'ADP_symcom': -1.0, 'AUX_symcom': -1.0, 'ADJ_symcom': 1.0, 'VERB_symcom': -1.0, 'DET_symcom': -1.0, 'CCONJ_symcom': -1.0}\n",
      "{'DET_symcom': -1.0, 'NOUN_symcom': -1.0, 'VERB_symcom': -1.0, 'AUX_symcom': -1.0, 'SCONJ_symcom': -1.0, 'ADJ_symcom': 1.0}\n",
      "{'NOUN_symcom': 0.25, 'ADP_symcom': -1.0, 'ADJ_symcom': -0.5, 'VERB_symcom': -1.0, 'CCONJ_symcom': -1.0, 'ADV_symcom': -1.0, 'PRON_symcom': -1.0, 'AUX_symcom': -1.0, 'PART_symcom': -1.0, 'SCONJ_symcom': -1.0}\n",
      "{'PRON_symcom': -1.0, 'AUX_symcom': -1.0, 'ADP_symcom': -1.0, 'VERB_symcom': -1.0, 'SCONJ_symcom': -1.0, 'NOUN_symcom': -1.0}\n",
      "{'NOUN_symcom': -0.33333333330000003, 'VERB_symcom': -1.0, 'PRON_symcom': -1.0, 'ADP_symcom': -1.0, 'ADV_symcom': -1.0, 'SCONJ_symcom': -1.0}\n",
      "{'PRON_symcom': 0.0, 'NOUN_symcom': 1.0, 'ADP_symcom': -1.0, 'NUM_symcom': -1.0, 'VERB_symcom': -1.0, 'AUX_symcom': -1.0}\n",
      "{'NOUN_symcom': 1.0, 'ADV_symcom': 1.0, 'ADP_symcom': -1.0, 'VERB_symcom': -1.0, 'PRON_symcom': 1.0, 'CCONJ_symcom': -1.0, 'AUX_symcom': -1.0}\n",
      "{'NOUN_symcom': 0.0, 'ADJ_symcom': 1.0, 'NUM_symcom': -1.0, 'PART_symcom': -1.0, 'ADP_symcom': -1.0, 'VERB_symcom': -1.0, 'AUX_symcom': 1.0}\n",
      "{'NOUN_symcom': 1.0, 'ADJ_symcom': 0.0, 'VERB_symcom': -1.0, 'ADP_symcom': 1.0}\n",
      "{'ADJ_symcom': 0.0, 'PRON_symcom': -1.0, 'CCONJ_symcom': -1.0, 'AUX_symcom': -1.0}\n",
      "{'NOUN_symcom': 1.0, 'ADJ_symcom': 1.0, 'ADP_symcom': -1.0, 'AUX_symcom': -1.0, 'VERB_symcom': -1.0}\n",
      "{'NOUN_symcom': -0.2307692308, 'ADP_symcom': -1.0, 'PROPN_symcom': 1.0, 'DET_symcom': -1.0, 'VERB_symcom': -0.5, 'ADJ_symcom': -0.5, 'AUX_symcom': -1.0, 'SCONJ_symcom': -1.0, 'CCONJ_symcom': -1.0, 'PRON_symcom': -1.0, 'ADV_symcom': -1.0}\n",
      "{'NOUN_symcom': 0.33333333330000003, 'AUX_symcom': -1.0, 'VERB_symcom': -0.6666666667000001, 'ADP_symcom': -1.0, 'SCONJ_symcom': -1.0, 'ADJ_symcom': -0.2, 'PART_symcom': -1.0, 'CCONJ_symcom': -1.0, 'PRON_symcom': -1.0, 'PROPN_symcom': 1.0, 'ADV_symcom': -0.5, 'DET_symcom': -1.0, 'NUM_symcom': -1.0}\n",
      "{'NOUN_symcom': 0.2727272727, 'ADJ_symcom': 0.2, 'ADP_symcom': -1.0, 'DET_symcom': -1.0, 'PRON_symcom': -1.0, 'AUX_symcom': -1.0}\n",
      "{'NOUN_symcom': -0.5, 'PRON_symcom': -1.0, 'DET_symcom': -1.0, 'ADP_symcom': -1.0, 'PART_symcom': -1.0, 'AUX_symcom': -1.0, 'ADV_symcom': -1.0, 'PROPN_symcom': -1.0, 'ADJ_symcom': 1.0, 'VERB_symcom': -1.0}\n",
      "{'VERB_symcom': 1.0, 'NOUN_symcom': 0.0, 'DET_symcom': 1.0}\n",
      "{'NOUN_symcom': 0.0, 'ADJ_symcom': 0.33333333330000003, 'ADP_symcom': -1.0, 'AUX_symcom': -1.0, 'NUM_symcom': -1.0, 'CCONJ_symcom': -1.0, 'PART_symcom': -1.0, 'ADV_symcom': 1.0, 'VERB_symcom': 1.0}\n",
      "{'NOUN_symcom': 0.0, 'ADP_symcom': -1.0, 'ADJ_symcom': -1.0, 'DET_symcom': -1.0, 'PART_symcom': -1.0, 'CCONJ_symcom': -1.0, 'PRON_symcom': -1.0}\n",
      "{'NOUN_symcom': 0.6666666667000001, 'ADP_symcom': -1.0, 'AUX_symcom': 1.0, 'ADJ_symcom': 1.0}\n",
      "{'NOUN_symcom': 0.5, 'PRON_symcom': -1.0, 'VERB_symcom': -1.0, 'ADP_symcom': -1.0, 'DET_symcom': -1.0, 'CCONJ_symcom': -1.0, 'AUX_symcom': -1.0}\n",
      "{'PRON_symcom': -1.0, 'ADJ_symcom': 1.0, 'AUX_symcom': 1.0, 'SCONJ_symcom': -1.0, 'ADP_symcom': -1.0, 'PART_symcom': -1.0, 'VERB_symcom': -1.0}\n",
      "{'NOUN_symcom': 1.0, 'ADP_symcom': -1.0, 'DET_symcom': -1.0, 'ADJ_symcom': 1.0}\n",
      "{'NOUN_symcom': 0.6666666667000001, 'VERB_symcom': -1.0, 'ADP_symcom': -1.0, 'AUX_symcom': -1.0, 'DET_symcom': -1.0, 'PRON_symcom': -1.0, 'PART_symcom': -1.0, 'SCONJ_symcom': -1.0, 'CCONJ_symcom': -1.0}\n",
      "{'NOUN_symcom': 1.0, 'ADP_symcom': -1.0, 'PRON_symcom': -1.0, 'ADJ_symcom': 1.0, 'VERB_symcom': -1.0, 'AUX_symcom': -1.0}\n",
      "{'NOUN_symcom': 0.0, 'ADJ_symcom': -0.33333333330000003, 'ADP_symcom': -1.0, 'PRON_symcom': -1.0, 'CCONJ_symcom': -1.0, 'AUX_symcom': -1.0}\n",
      "{'AUX_symcom': -1.0, 'ADJ_symcom': 0.33333333330000003, 'PRON_symcom': -1.0, 'NOUN_symcom': -1.0, 'CCONJ_symcom': -1.0, 'PROPN_symcom': 1.0, 'ADP_symcom': -1.0, 'PART_symcom': -1.0, 'VERB_symcom': -1.0}\n",
      "{'NOUN_symcom': 0.2, 'ADP_symcom': -1.0, 'DET_symcom': -1.0, 'ADJ_symcom': -1.0}\n",
      "{'AUX_symcom': 0.0, 'NOUN_symcom': 1.0, 'ADP_symcom': -1.0, 'CCONJ_symcom': -1.0, 'SCONJ_symcom': -1.0, 'PART_symcom': -1.0, 'ADV_symcom': -1.0, 'PRON_symcom': -1.0, 'VERB_symcom': 1.0, 'DET_symcom': -1.0}\n",
      "{'NOUN_symcom': 1.0, 'ADP_symcom': -1.0, 'PRON_symcom': -1.0, 'VERB_symcom': -1.0, 'AUX_symcom': -1.0}\n",
      "{'NOUN_symcom': 0.6000000000000001, 'ADP_symcom': -1.0, 'VERB_symcom': -1.0, 'DET_symcom': -1.0, 'CCONJ_symcom': -1.0, 'PART_symcom': -1.0, 'AUX_symcom': -1.0, 'ADJ_symcom': -1.0}\n",
      "{'PRON_symcom': -0.33333333330000003, 'VERB_symcom': -1.0, 'AUX_symcom': -1.0, 'NOUN_symcom': 0.0, 'DET_symcom': -1.0, 'ADV_symcom': -1.0, 'PART_symcom': -1.0, 'ADJ_symcom': -1.0}\n",
      "{'NOUN_symcom': 0.0, 'AUX_symcom': -1.0, 'PRON_symcom': -1.0, 'ADP_symcom': -1.0, 'VERB_symcom': -1.0}\n",
      "{'NOUN_symcom': -0.1428571429, 'PRON_symcom': -1.0, 'SCONJ_symcom': -1.0, 'VERB_symcom': -1.0, 'CCONJ_symcom': -1.0, 'ADP_symcom': -1.0, 'ADV_symcom': -1.0, 'AUX_symcom': -1.0, 'ADJ_symcom': 0.0, 'DET_symcom': -1.0}\n",
      "{'DET_symcom': -1.0, 'ADP_symcom': -1.0, 'NOUN_symcom': 0.0, 'ADV_symcom': -1.0, 'PRON_symcom': -1.0, 'AUX_symcom': -1.0}\n",
      "{'NOUN_symcom': 0.0, 'ADP_symcom': -1.0, 'DET_symcom': -1.0, 'CCONJ_symcom': -1.0, 'AUX_symcom': -1.0}\n",
      "{'PRON_symcom': -1.0, 'NOUN_symcom': 1.0, 'AUX_symcom': -1.0, 'PROPN_symcom': -1.0, 'DET_symcom': -1.0, 'VERB_symcom': 1.0}\n",
      "{'NOUN_symcom': 0.33333333330000003, 'ADP_symcom': -1.0, 'ADJ_symcom': 1.0, 'VERB_symcom': -1.0, 'AUX_symcom': -1.0}\n",
      "{'NOUN_symcom': -0.8333333333, 'ADP_symcom': -1.0, 'PRON_symcom': -1.0, 'ADJ_symcom': -0.5, 'AUX_symcom': -1.0, 'CCONJ_symcom': -1.0, 'NUM_symcom': -1.0, 'SCONJ_symcom': -1.0, 'PART_symcom': -1.0, 'VERB_symcom': -1.0, 'DET_symcom': -1.0}\n",
      "{'NOUN_symcom': 0.0, 'ADP_symcom': -1.0, 'ADJ_symcom': 0.0, 'PART_symcom': -1.0, 'VERB_symcom': 1.0, 'SCONJ_symcom': -1.0, 'AUX_symcom': 1.0}\n",
      "{'NOUN_symcom': 0.0, 'VERB_symcom': -1.0, 'ADV_symcom': 1.0, 'AUX_symcom': -1.0}\n",
      "{'CCONJ_symcom': -1.0, 'PART_symcom': -0.33333333330000003, 'ADJ_symcom': -0.33333333330000003, 'NOUN_symcom': 1.0, 'PRON_symcom': -1.0, 'DET_symcom': -1.0, 'VERB_symcom': 1.0}\n",
      "{'NOUN_symcom': -0.5555555556, 'ADP_symcom': -1.0, 'SCONJ_symcom': -1.0, 'PROPN_symcom': -1.0, 'DET_symcom': -1.0, 'ADJ_symcom': 1.0, 'VERB_symcom': -1.0}\n",
      "{'ADP_symcom': -1.0, 'NOUN_symcom': 0.5, 'ADJ_symcom': 1.0, 'PRON_symcom': -1.0, 'CCONJ_symcom': -1.0, 'VERB_symcom': -1.0, 'SCONJ_symcom': -1.0, 'AUX_symcom': -1.0}\n",
      "{'NOUN_symcom': -0.33333333330000003, 'AUX_symcom': -1.0, 'DET_symcom': -1.0, 'ADP_symcom': -1.0}\n",
      "{'NOUN_symcom': 1.0, 'ADP_symcom': -1.0, 'CCONJ_symcom': -1.0, 'ADJ_symcom': 1.0, 'PRON_symcom': -1.0, 'VERB_symcom': -1.0, 'AUX_symcom': -1.0}\n",
      "{'NOUN_symcom': 1.0, 'ADP_symcom': -1.0, 'PRON_symcom': -1.0, 'DET_symcom': 1.0, 'VERB_symcom': -1.0, 'SCONJ_symcom': -1.0}\n",
      "{'NOUN_symcom': 0.4285714286, 'ADP_symcom': -1.0, 'AUX_symcom': -1.0}\n",
      "{'NOUN_symcom': 0.33333333330000003, 'VERB_symcom': -1.0, 'PRON_symcom': -1.0, 'ADP_symcom': -1.0, 'ADV_symcom': -1.0, 'SCONJ_symcom': -1.0}\n",
      "{'NOUN_symcom': 0.33333333330000003, 'ADP_symcom': -1.0, 'CCONJ_symcom': -1.0}\n",
      "{'ADJ_symcom': 0.33333333330000003, 'NOUN_symcom': 0.0}\n",
      "{'PRON_symcom': -1.0, 'CCONJ_symcom': -1.0, 'PROPN_symcom': -1.0, 'ADP_symcom': -1.0, 'NOUN_symcom': -1.0, 'ADJ_symcom': 1.0, 'PART_symcom': -1.0}\n",
      "{'NOUN_symcom': 0.0, 'VERB_symcom': -0.5, 'PRON_symcom': -1.0, 'DET_symcom': -0.33333333330000003, 'ADP_symcom': 0.0, 'ADJ_symcom': 0.0, 'AUX_symcom': -1.0, 'CCONJ_symcom': -1.0, 'NUM_symcom': -1.0, 'PART_symcom': -1.0}\n",
      "{'ADJ_symcom': -0.33333333330000003, 'NOUN_symcom': -0.33333333330000003, 'ADP_symcom': -1.0, 'AUX_symcom': -1.0, 'NUM_symcom': -1.0, 'PRON_symcom': -1.0, 'DET_symcom': -1.0, 'VERB_symcom': -1.0}\n",
      "{'NOUN_symcom': 0.5, 'AUX_symcom': -1.0, 'ADJ_symcom': 1.0, 'ADV_symcom': 1.0, 'PART_symcom': -1.0, 'CCONJ_symcom': -1.0, 'ADP_symcom': -1.0, 'VERB_symcom': -1.0}\n",
      "{'ADP_symcom': -1.0, 'VERB_symcom': -1.0, 'SCONJ_symcom': -1.0, 'AUX_symcom': -1.0, 'PROPN_symcom': -1.0, 'DET_symcom': -1.0, 'NOUN_symcom': 1.0, 'ADJ_symcom': 1.0, 'PRON_symcom': -1.0}\n",
      "{'NOUN_symcom': 0.0, 'SCONJ_symcom': -1.0, 'VERB_symcom': -1.0, 'PRON_symcom': -1.0, 'PART_symcom': -1.0, 'ADV_symcom': -1.0, 'ADJ_symcom': 1.0, 'AUX_symcom': -1.0}\n",
      "{'VERB_symcom': 0.33333333330000003, 'ADP_symcom': 0.33333333330000003, 'PROPN_symcom': 1.0, 'PART_symcom': -1.0, 'AUX_symcom': -1.0, 'SCONJ_symcom': -1.0, 'PRON_symcom': -1.0, 'ADJ_symcom': 1.0, 'NOUN_symcom': 1.0}\n",
      "{'NOUN_symcom': -0.33333333330000003, 'ADP_symcom': -1.0, 'PRON_symcom': 0.0, 'NUM_symcom': -1.0, 'VERB_symcom': -1.0, 'AUX_symcom': -1.0}\n",
      "{'VERB_symcom': -0.5, 'NOUN_symcom': 0.33333333330000003, 'SCONJ_symcom': -1.0, 'PRON_symcom': -1.0, 'AUX_symcom': -1.0, 'ADP_symcom': -1.0, 'ADJ_symcom': 0.0, 'ADV_symcom': -1.0}\n",
      "{'NOUN_symcom': 1.0, 'VERB_symcom': 0.0, 'AUX_symcom': 1.0, 'DET_symcom': 1.0, 'SCONJ_symcom': -1.0, 'ADP_symcom': 1.0}\n",
      "{'ADP_symcom': -1.0, 'NOUN_symcom': 0.6000000000000001, 'PROPN_symcom': 1.0, 'ADJ_symcom': 0.0}\n",
      "{'NOUN_symcom': 0.5, 'ADJ_symcom': -1.0, 'ADP_symcom': -1.0, 'AUX_symcom': -1.0, 'NUM_symcom': -1.0, 'ADV_symcom': -1.0, 'PART_symcom': -1.0, 'VERB_symcom': -1.0}\n",
      "{'NOUN_symcom': 0.5, 'ADJ_symcom': 0.33333333330000003, 'AUX_symcom': -1.0, 'VERB_symcom': 1.0, 'NUM_symcom': -1.0, 'PRON_symcom': -1.0}\n",
      "{'VERB_symcom': -0.6000000000000001, 'PRON_symcom': 0.0, 'NOUN_symcom': -0.5, 'AUX_symcom': -1.0, 'ADP_symcom': -1.0, 'SCONJ_symcom': -1.0}\n",
      "{'NOUN_symcom': 0.5, 'AUX_symcom': -1.0, 'ADP_symcom': -1.0, 'VERB_symcom': 0.0, 'PRON_symcom': -1.0, 'DET_symcom': -1.0}\n",
      "{'VERB_symcom': 0.33333333330000003, 'NOUN_symcom': 1.0, 'PRON_symcom': -1.0, 'DET_symcom': 1.0, 'CCONJ_symcom': -1.0}\n",
      "{'ADP_symcom': -1.0, 'NOUN_symcom': -0.6000000000000001, 'AUX_symcom': -1.0, 'ADJ_symcom': -1.0, 'ADV_symcom': -1.0}\n",
      "{'NOUN_symcom': 0.7142857143, 'ADJ_symcom': 1.0, 'VERB_symcom': -1.0, 'CCONJ_symcom': -1.0, 'ADV_symcom': 1.0, 'ADP_symcom': -1.0, 'AUX_symcom': -1.0}\n",
      "{'PRON_symcom': -1.0, 'NOUN_symcom': 0.0, 'VERB_symcom': -1.0, 'AUX_symcom': -1.0, 'SCONJ_symcom': -1.0}\n",
      "{'NOUN_symcom': -0.1428571429, 'ADP_symcom': -1.0, 'NUM_symcom': -1.0, 'AUX_symcom': -1.0, 'CCONJ_symcom': -1.0, 'DET_symcom': -1.0, 'VERB_symcom': -1.0}\n",
      "{'NOUN_symcom': -0.6363636364, 'ADP_symcom': -1.0, 'VERB_symcom': -1.0, 'AUX_symcom': -1.0, 'PRON_symcom': -1.0, 'DET_symcom': -1.0, 'CCONJ_symcom': -1.0, 'ADJ_symcom': -1.0}\n",
      "{'PRON_symcom': -1.0, 'AUX_symcom': -1.0, 'PART_symcom': -1.0, 'DET_symcom': -1.0, 'NOUN_symcom': -1.0, 'VERB_symcom': -1.0}\n",
      "{'NOUN_symcom': -0.6000000000000001, 'ADP_symcom': 0.0, 'DET_symcom': -1.0, 'AUX_symcom': -1.0, 'CCONJ_symcom': -1.0, 'PART_symcom': -1.0, 'ADV_symcom': -1.0, 'ADJ_symcom': -1.0, 'VERB_symcom': -1.0}\n",
      "{'NOUN_symcom': -0.6923076923, 'ADP_symcom': -1.0, 'NUM_symcom': -1.0, 'PROPN_symcom': 0.33333333330000003, 'AUX_symcom': -1.0, 'CCONJ_symcom': -1.0, 'VERB_symcom': -1.0, 'PRON_symcom': -1.0, 'ADJ_symcom': -1.0}\n",
      "{'NOUN_symcom': 1.0, 'PROPN_symcom': 1.0, 'VERB_symcom': -1.0, 'AUX_symcom': -1.0}\n",
      "{'NOUN_symcom': -0.6666666667000001, 'ADP_symcom': -0.7142857143, 'ADJ_symcom': -0.33333333330000003, 'PROPN_symcom': -1.0, 'PRON_symcom': -1.0, 'AUX_symcom': -1.0}\n",
      "{'NOUN_symcom': -1.0, 'ADP_symcom': -1.0, 'VERB_symcom': -1.0, 'AUX_symcom': -1.0, 'CCONJ_symcom': -1.0, 'PRON_symcom': -1.0, 'ADJ_symcom': -1.0}\n",
      "{'PRON_symcom': -1.0, 'NOUN_symcom': -0.6000000000000001, 'VERB_symcom': -1.0, 'AUX_symcom': -1.0, 'CCONJ_symcom': -1.0, 'ADJ_symcom': -1.0, 'ADP_symcom': -1.0, 'PART_symcom': -1.0}\n",
      "{'NOUN_symcom': -0.4285714286, 'ADP_symcom': -1.0, 'ADJ_symcom': -1.0}\n",
      "{'NOUN_symcom': 0.0, 'ADP_symcom': -0.6000000000000001, 'AUX_symcom': -1.0, 'ADJ_symcom': 0.33333333330000003, 'PRON_symcom': -1.0, 'PART_symcom': -1.0, 'DET_symcom': -1.0, 'NUM_symcom': -1.0}\n",
      "{'ADP_symcom': -1.0, 'ADJ_symcom': 1.0, 'NOUN_symcom': 1.0, 'VERB_symcom': -1.0, 'DET_symcom': -1.0, 'PRON_symcom': -1.0, 'CCONJ_symcom': -1.0, 'NUM_symcom': 1.0}\n",
      "{'NOUN_symcom': -0.33333333330000003, 'ADP_symcom': -1.0, 'VERB_symcom': -1.0, 'PRON_symcom': -1.0, 'NUM_symcom': -1.0, 'AUX_symcom': -1.0}\n",
      "{'NOUN_symcom': -0.1428571429, 'ADP_symcom': -1.0, 'VERB_symcom': -1.0, 'PRON_symcom': -1.0, 'ADV_symcom': -1.0, 'ADJ_symcom': 0.0, 'PROPN_symcom': -1.0, 'SCONJ_symcom': -1.0}\n",
      "{'NOUN_symcom': 0.6000000000000001, 'ADP_symcom': -1.0, 'AUX_symcom': -0.7142857143, 'VERB_symcom': -1.0, 'CCONJ_symcom': -1.0, 'SCONJ_symcom': -1.0, 'PRON_symcom': -1.0}\n",
      "{'PROPN_symcom': 1.0, 'NOUN_symcom': 1.0, 'ADP_symcom': 1.0, 'CCONJ_symcom': 1.0}\n",
      "{'NOUN_symcom': 0.33333333330000003, 'VERB_symcom': 0.0, 'AUX_symcom': -1.0, 'CCONJ_symcom': -1.0, 'SCONJ_symcom': -1.0, 'PRON_symcom': -1.0}\n",
      "{'NOUN_symcom': 0.1428571429, 'ADP_symcom': -1.0, 'ADJ_symcom': 1.0, 'PROPN_symcom': -1.0, 'CCONJ_symcom': 1.0}\n",
      "{'PRON_symcom': -1.0, 'VERB_symcom': -1.0, 'AUX_symcom': -1.0, 'CCONJ_symcom': -1.0, 'ADV_symcom': -1.0, 'PART_symcom': -1.0}\n",
      "{'NOUN_symcom': -0.6000000000000001, 'PRON_symcom': -1.0, 'PART_symcom': -1.0, 'AUX_symcom': -1.0, 'SCONJ_symcom': -1.0, 'ADP_symcom': -1.0, 'DET_symcom': -1.0, 'CCONJ_symcom': -1.0, 'VERB_symcom': -1.0, 'ADJ_symcom': -1.0}\n",
      "{'NOUN_symcom': -0.6000000000000001, 'VERB_symcom': -1.0, 'PRON_symcom': 0.0, 'SCONJ_symcom': -1.0, 'PART_symcom': -1.0, 'CCONJ_symcom': -1.0, 'ADJ_symcom': 1.0, 'AUX_symcom': -1.0}\n",
      "{'NOUN_symcom': -1.0, 'PRON_symcom': -1.0, 'VERB_symcom': -1.0, 'PART_symcom': -1.0, 'AUX_symcom': -1.0, 'SCONJ_symcom': -1.0, 'ADJ_symcom': -1.0, 'PROPN_symcom': -1.0, 'ADP_symcom': -1.0, 'DET_symcom': -1.0}\n",
      "{'NOUN_symcom': 0.5, 'ADJ_symcom': 1.0, 'ADP_symcom': -1.0, 'AUX_symcom': -1.0, 'PRON_symcom': -1.0, 'VERB_symcom': -1.0}\n",
      "{'NOUN_symcom': 0.33333333330000003, 'VERB_symcom': -1.0, 'ADJ_symcom': -1.0, 'ADP_symcom': -1.0, 'AUX_symcom': -1.0}\n",
      "{'NOUN_symcom': -0.2, 'ADP_symcom': -1.0, 'AUX_symcom': -1.0, 'ADJ_symcom': -1.0, 'ADV_symcom': -1.0, 'CCONJ_symcom': -1.0, 'VERB_symcom': -1.0}\n",
      "{'NOUN_symcom': -0.6000000000000001, 'PRON_symcom': -1.0, 'ADJ_symcom': 0.33333333330000003, 'AUX_symcom': -1.0, 'SCONJ_symcom': -1.0, 'CCONJ_symcom': -1.0, 'VERB_symcom': -1.0, 'ADP_symcom': -1.0, 'PART_symcom': -1.0}\n",
      "{'NOUN_symcom': 0.2727272727, 'ADP_symcom': -0.5, 'VERB_symcom': -1.0, 'DET_symcom': -1.0, 'ADV_symcom': -1.0, 'CCONJ_symcom': 1.0, 'SCONJ_symcom': -1.0, 'ADJ_symcom': -1.0, 'AUX_symcom': -1.0}\n",
      "{'ADP_symcom': -1.0, 'NOUN_symcom': 1.0, 'AUX_symcom': -1.0, 'ADJ_symcom': 1.0}\n",
      "{'NOUN_symcom': 0.0, 'ADP_symcom': -1.0, 'AUX_symcom': -1.0, 'VERB_symcom': -1.0, 'PRON_symcom': -1.0}\n",
      "{'NOUN_symcom': 0.2, 'ADP_symcom': -1.0, 'PRON_symcom': -1.0, 'AUX_symcom': -1.0, 'VERB_symcom': -1.0, 'CCONJ_symcom': -1.0, 'DET_symcom': -1.0, 'PART_symcom': -1.0, 'SCONJ_symcom': -1.0, 'ADV_symcom': -1.0, 'ADJ_symcom': -1.0}\n",
      "{'NOUN_symcom': 0.33333333330000003, 'AUX_symcom': -1.0, 'CCONJ_symcom': -0.1111111111, 'PRON_symcom': -0.7777777778, 'PART_symcom': -1.0, 'VERB_symcom': -1.0, 'ADP_symcom': -1.0, 'ADJ_symcom': -0.6000000000000001, 'DET_symcom': -1.0, 'SCONJ_symcom': -1.0, 'ADV_symcom': -1.0, 'NUM_symcom': -1.0}\n",
      "{'PRON_symcom': -0.8571428571, 'NOUN_symcom': -0.8461538462, 'AUX_symcom': -1.0, 'ADP_symcom': -1.0, 'VERB_symcom': -0.6000000000000001, 'PART_symcom': -1.0, 'DET_symcom': -1.0, 'CCONJ_symcom': -1.0, 'SCONJ_symcom': -1.0, 'ADV_symcom': -1.0}\n",
      "{'NOUN_symcom': -0.4285714286, 'PRON_symcom': -1.0, 'AUX_symcom': -1.0, 'ADJ_symcom': -1.0, 'ADP_symcom': -1.0, 'VERB_symcom': -1.0, 'CCONJ_symcom': -1.0, 'PART_symcom': -1.0}\n",
      "{'NOUN_symcom': 0.0, 'AUX_symcom': -1.0, 'ADP_symcom': -1.0, 'DET_symcom': -1.0, 'ADJ_symcom': 1.0, 'VERB_symcom': -1.0}\n",
      "{'NOUN_symcom': 0.0, 'PROPN_symcom': -1.0, 'VERB_symcom': 1.0, 'PRON_symcom': -1.0, 'ADP_symcom': -1.0}\n",
      "{'NOUN_symcom': -0.6000000000000001, 'PRON_symcom': -1.0, 'ADP_symcom': -1.0, 'VERB_symcom': -1.0, 'AUX_symcom': -1.0, 'NUM_symcom': -1.0, 'DET_symcom': -1.0}\n",
      "{'NOUN_symcom': 0.0, 'VERB_symcom': -1.0, 'ADP_symcom': -1.0, 'NUM_symcom': -1.0, 'SCONJ_symcom': -1.0, 'CCONJ_symcom': -1.0}\n",
      "{'NOUN_symcom': -0.5, 'ADP_symcom': -1.0, 'PROPN_symcom': 1.0, 'VERB_symcom': -1.0, 'SCONJ_symcom': -1.0, 'ADJ_symcom': -1.0, 'PRON_symcom': -1.0}\n",
      "{'NOUN_symcom': -0.4285714286, 'ADP_symcom': -1.0, 'PART_symcom': -1.0, 'AUX_symcom': -1.0, 'DET_symcom': -1.0, 'PROPN_symcom': 1.0, 'VERB_symcom': -1.0}\n",
      "{'NOUN_symcom': 0.2, 'ADP_symcom': -1.0, 'VERB_symcom': -1.0, 'ADV_symcom': -1.0, 'ADJ_symcom': 0.0, 'SCONJ_symcom': -1.0, 'PRON_symcom': -1.0, 'AUX_symcom': -1.0, 'DET_symcom': -1.0, 'CCONJ_symcom': -1.0}\n",
      "{'PROPN_symcom': 0.0, 'ADP_symcom': -1.0, 'ADJ_symcom': 1.0, 'NOUN_symcom': -1.0}\n",
      "{'NOUN_symcom': -0.6000000000000001, 'AUX_symcom': -1.0, 'VERB_symcom': -0.33333333330000003, 'DET_symcom': -1.0, 'ADP_symcom': 1.0, 'PRON_symcom': -1.0, 'CCONJ_symcom': -1.0, 'PART_symcom': -1.0}\n",
      "{'NOUN_symcom': 0.5, 'PART_symcom': -1.0, 'AUX_symcom': -1.0, 'PRON_symcom': -1.0, 'ADP_symcom': -1.0, 'ADV_symcom': -1.0, 'DET_symcom': -1.0, 'NUM_symcom': -1.0, 'VERB_symcom': -1.0}\n",
      "{'NOUN_symcom': 0.5, 'PART_symcom': -1.0, 'ADP_symcom': -1.0, 'VERB_symcom': -1.0, 'DET_symcom': -1.0, 'ADV_symcom': -1.0, 'AUX_symcom': -1.0, 'SCONJ_symcom': -1.0, 'PRON_symcom': -1.0, 'CCONJ_symcom': -1.0}\n",
      "{'NOUN_symcom': -1.0, 'ADP_symcom': -1.0, 'VERB_symcom': -1.0, 'PRON_symcom': -1.0, 'AUX_symcom': -1.0, 'SCONJ_symcom': -1.0, 'PROPN_symcom': -1.0, 'ADJ_symcom': -1.0, 'CCONJ_symcom': -1.0, 'ADV_symcom': -1.0, 'DET_symcom': -1.0}\n",
      "{'DET_symcom': -1.0, 'NOUN_symcom': 1.0, 'ADP_symcom': -1.0, 'PART_symcom': -1.0}\n",
      "{'ADP_symcom': -1.0, 'ADJ_symcom': 1.0, 'NOUN_symcom': -1.0, 'AUX_symcom': -1.0, 'ADV_symcom': -1.0, 'PART_symcom': -1.0, 'VERB_symcom': -1.0}\n",
      "{'ADP_symcom': -1.0, 'NOUN_symcom': 1.0, 'AUX_symcom': -1.0, 'DET_symcom': -1.0, 'VERB_symcom': -1.0}\n",
      "{'NOUN_symcom': 1.0, 'PRON_symcom': -1.0, 'ADP_symcom': -1.0, 'ADJ_symcom': 1.0}\n",
      "nan\n"
     ]
    },
    {
     "ename": "AttributeError",
     "evalue": "'float' object has no attribute 'items'",
     "output_type": "error",
     "traceback": [
      "\u001b[0;31m---------------------------------------------------------------------------\u001b[0m",
      "\u001b[0;31mAttributeError\u001b[0m                            Traceback (most recent call last)",
      "\u001b[0;32m/tmp/ipykernel_5844/2662502400.py\u001b[0m in \u001b[0;36m<module>\u001b[0;34m\u001b[0m\n\u001b[1;32m      1\u001b[0m \u001b[0mvaldf\u001b[0m\u001b[0;34m[\u001b[0m\u001b[0;34m\"symcom_+1_count\"\u001b[0m\u001b[0;34m]\u001b[0m \u001b[0;34m=\u001b[0m \u001b[0mvaldf\u001b[0m\u001b[0;34m[\u001b[0m\u001b[0;34m\"symcom_scores_pos\"\u001b[0m\u001b[0;34m]\u001b[0m\u001b[0;34m.\u001b[0m\u001b[0mapply\u001b[0m\u001b[0;34m(\u001b[0m\u001b[0mcount_plusone\u001b[0m\u001b[0;34m)\u001b[0m\u001b[0;34m\u001b[0m\u001b[0;34m\u001b[0m\u001b[0m\n\u001b[0;32m----> 2\u001b[0;31m \u001b[0mvaldf\u001b[0m\u001b[0;34m[\u001b[0m\u001b[0;34m\"symcom_-1_count\"\u001b[0m\u001b[0;34m]\u001b[0m \u001b[0;34m=\u001b[0m \u001b[0mvaldf\u001b[0m\u001b[0;34m[\u001b[0m\u001b[0;34m\"symcom_scores_pos\"\u001b[0m\u001b[0;34m]\u001b[0m\u001b[0;34m.\u001b[0m\u001b[0mapply\u001b[0m\u001b[0;34m(\u001b[0m\u001b[0mcount_minus1\u001b[0m\u001b[0;34m)\u001b[0m\u001b[0;34m\u001b[0m\u001b[0;34m\u001b[0m\u001b[0m\n\u001b[0m\u001b[1;32m      3\u001b[0m \u001b[0mvaldf\u001b[0m\u001b[0;34m[\u001b[0m\u001b[0;34m\"symcom_na_count\"\u001b[0m\u001b[0;34m]\u001b[0m \u001b[0;34m=\u001b[0m \u001b[0mvaldf\u001b[0m\u001b[0;34m[\u001b[0m\u001b[0;34m\"symcom_scores_pos\"\u001b[0m\u001b[0;34m]\u001b[0m\u001b[0;34m.\u001b[0m\u001b[0mapply\u001b[0m\u001b[0;34m(\u001b[0m\u001b[0mcountNaN\u001b[0m\u001b[0;34m)\u001b[0m\u001b[0;34m\u001b[0m\u001b[0;34m\u001b[0m\u001b[0m\n\u001b[1;32m      4\u001b[0m \u001b[0mvaldf\u001b[0m\u001b[0;34m[\u001b[0m\u001b[0;34m\"symcom_others\"\u001b[0m\u001b[0;34m]\u001b[0m \u001b[0;34m=\u001b[0m \u001b[0mvaldf\u001b[0m\u001b[0;34m.\u001b[0m\u001b[0mapply\u001b[0m\u001b[0;34m(\u001b[0m\u001b[0;32mlambda\u001b[0m \u001b[0mrow\u001b[0m \u001b[0;34m:\u001b[0m \u001b[0;36m14\u001b[0m \u001b[0;34m-\u001b[0m \u001b[0mrow\u001b[0m\u001b[0;34m[\u001b[0m\u001b[0;34m\"symcom_+1_count\"\u001b[0m\u001b[0;34m]\u001b[0m \u001b[0;34m-\u001b[0m \u001b[0mrow\u001b[0m\u001b[0;34m[\u001b[0m\u001b[0;34m\"symcom_-1_count\"\u001b[0m\u001b[0;34m]\u001b[0m\u001b[0;34m-\u001b[0m \u001b[0mrow\u001b[0m\u001b[0;34m[\u001b[0m\u001b[0;34m\"symcom_na_count\"\u001b[0m\u001b[0;34m]\u001b[0m \u001b[0;34m,\u001b[0m \u001b[0maxis\u001b[0m \u001b[0;34m=\u001b[0m \u001b[0;36m1\u001b[0m\u001b[0;34m)\u001b[0m\u001b[0;34m\u001b[0m\u001b[0;34m\u001b[0m\u001b[0m\n",
      "\u001b[0;32m~/miniconda3/envs/cm/lib/python3.7/site-packages/pandas/core/series.py\u001b[0m in \u001b[0;36mapply\u001b[0;34m(self, func, convert_dtype, args, **kwargs)\u001b[0m\n\u001b[1;32m   4355\u001b[0m         \u001b[0mdtype\u001b[0m\u001b[0;34m:\u001b[0m \u001b[0mfloat64\u001b[0m\u001b[0;34m\u001b[0m\u001b[0;34m\u001b[0m\u001b[0m\n\u001b[1;32m   4356\u001b[0m         \"\"\"\n\u001b[0;32m-> 4357\u001b[0;31m         \u001b[0;32mreturn\u001b[0m \u001b[0mSeriesApply\u001b[0m\u001b[0;34m(\u001b[0m\u001b[0mself\u001b[0m\u001b[0;34m,\u001b[0m \u001b[0mfunc\u001b[0m\u001b[0;34m,\u001b[0m \u001b[0mconvert_dtype\u001b[0m\u001b[0;34m,\u001b[0m \u001b[0margs\u001b[0m\u001b[0;34m,\u001b[0m \u001b[0mkwargs\u001b[0m\u001b[0;34m)\u001b[0m\u001b[0;34m.\u001b[0m\u001b[0mapply\u001b[0m\u001b[0;34m(\u001b[0m\u001b[0;34m)\u001b[0m\u001b[0;34m\u001b[0m\u001b[0;34m\u001b[0m\u001b[0m\n\u001b[0m\u001b[1;32m   4358\u001b[0m \u001b[0;34m\u001b[0m\u001b[0m\n\u001b[1;32m   4359\u001b[0m     def _reduce(\n",
      "\u001b[0;32m~/miniconda3/envs/cm/lib/python3.7/site-packages/pandas/core/apply.py\u001b[0m in \u001b[0;36mapply\u001b[0;34m(self)\u001b[0m\n\u001b[1;32m   1041\u001b[0m             \u001b[0;32mreturn\u001b[0m \u001b[0mself\u001b[0m\u001b[0;34m.\u001b[0m\u001b[0mapply_str\u001b[0m\u001b[0;34m(\u001b[0m\u001b[0;34m)\u001b[0m\u001b[0;34m\u001b[0m\u001b[0;34m\u001b[0m\u001b[0m\n\u001b[1;32m   1042\u001b[0m \u001b[0;34m\u001b[0m\u001b[0m\n\u001b[0;32m-> 1043\u001b[0;31m         \u001b[0;32mreturn\u001b[0m \u001b[0mself\u001b[0m\u001b[0;34m.\u001b[0m\u001b[0mapply_standard\u001b[0m\u001b[0;34m(\u001b[0m\u001b[0;34m)\u001b[0m\u001b[0;34m\u001b[0m\u001b[0;34m\u001b[0m\u001b[0m\n\u001b[0m\u001b[1;32m   1044\u001b[0m \u001b[0;34m\u001b[0m\u001b[0m\n\u001b[1;32m   1045\u001b[0m     \u001b[0;32mdef\u001b[0m \u001b[0magg\u001b[0m\u001b[0;34m(\u001b[0m\u001b[0mself\u001b[0m\u001b[0;34m)\u001b[0m\u001b[0;34m:\u001b[0m\u001b[0;34m\u001b[0m\u001b[0;34m\u001b[0m\u001b[0m\n",
      "\u001b[0;32m~/miniconda3/envs/cm/lib/python3.7/site-packages/pandas/core/apply.py\u001b[0m in \u001b[0;36mapply_standard\u001b[0;34m(self)\u001b[0m\n\u001b[1;32m   1099\u001b[0m                     \u001b[0mvalues\u001b[0m\u001b[0;34m,\u001b[0m\u001b[0;34m\u001b[0m\u001b[0;34m\u001b[0m\u001b[0m\n\u001b[1;32m   1100\u001b[0m                     \u001b[0mf\u001b[0m\u001b[0;34m,\u001b[0m  \u001b[0;31m# type: ignore[arg-type]\u001b[0m\u001b[0;34m\u001b[0m\u001b[0;34m\u001b[0m\u001b[0m\n\u001b[0;32m-> 1101\u001b[0;31m                     \u001b[0mconvert\u001b[0m\u001b[0;34m=\u001b[0m\u001b[0mself\u001b[0m\u001b[0;34m.\u001b[0m\u001b[0mconvert_dtype\u001b[0m\u001b[0;34m,\u001b[0m\u001b[0;34m\u001b[0m\u001b[0;34m\u001b[0m\u001b[0m\n\u001b[0m\u001b[1;32m   1102\u001b[0m                 )\n\u001b[1;32m   1103\u001b[0m \u001b[0;34m\u001b[0m\u001b[0m\n",
      "\u001b[0;32m~/miniconda3/envs/cm/lib/python3.7/site-packages/pandas/_libs/lib.pyx\u001b[0m in \u001b[0;36mpandas._libs.lib.map_infer\u001b[0;34m()\u001b[0m\n",
      "\u001b[0;32m/tmp/ipykernel_5844/3235684465.py\u001b[0m in \u001b[0;36mcount_minus1\u001b[0;34m(sample)\u001b[0m\n\u001b[1;32m     13\u001b[0m     \u001b[0mprint\u001b[0m\u001b[0;34m(\u001b[0m\u001b[0msample\u001b[0m\u001b[0;34m)\u001b[0m\u001b[0;34m\u001b[0m\u001b[0;34m\u001b[0m\u001b[0m\n\u001b[1;32m     14\u001b[0m     \u001b[0mcount\u001b[0m \u001b[0;34m=\u001b[0m \u001b[0;36m0\u001b[0m\u001b[0;34m\u001b[0m\u001b[0;34m\u001b[0m\u001b[0m\n\u001b[0;32m---> 15\u001b[0;31m     \u001b[0;32mfor\u001b[0m \u001b[0mk\u001b[0m\u001b[0;34m,\u001b[0m\u001b[0mv\u001b[0m \u001b[0;32min\u001b[0m \u001b[0msample\u001b[0m\u001b[0;34m.\u001b[0m\u001b[0mitems\u001b[0m\u001b[0;34m(\u001b[0m\u001b[0;34m)\u001b[0m\u001b[0;34m:\u001b[0m\u001b[0;34m\u001b[0m\u001b[0;34m\u001b[0m\u001b[0m\n\u001b[0m\u001b[1;32m     16\u001b[0m         \u001b[0;32mif\u001b[0m \u001b[0mv\u001b[0m \u001b[0;34m==\u001b[0m \u001b[0;34m-\u001b[0m\u001b[0;36m1\u001b[0m\u001b[0;34m:\u001b[0m\u001b[0;34m\u001b[0m\u001b[0;34m\u001b[0m\u001b[0m\n\u001b[1;32m     17\u001b[0m             \u001b[0mcount\u001b[0m\u001b[0;34m+=\u001b[0m\u001b[0;36m1\u001b[0m\u001b[0;34m\u001b[0m\u001b[0;34m\u001b[0m\u001b[0m\n",
      "\u001b[0;31mAttributeError\u001b[0m: 'float' object has no attribute 'items'"
     ]
    }
   ],
   "source": [
    "valdf[\"symcom_+1_count\"] = valdf[\"symcom_scores_pos\"].apply(count_plusone)\n",
    "valdf[\"symcom_-1_count\"] = valdf[\"symcom_scores_pos\"].apply(count_minus1)\n",
    "valdf[\"symcom_na_count\"] = valdf[\"symcom_scores_pos\"].apply(countNaN)\n",
    "valdf[\"symcom_others\"] = valdf.apply(lambda row : 14 - row[\"symcom_+1_count\"] - row[\"symcom_-1_count\"]- row[\"symcom_na_count\"] , axis = 1)    \n"
   ]
  },
  {
   "cell_type": "code",
   "execution_count": 18,
   "id": "328d83b6-7ba7-4e55-93f7-80e0e4283243",
   "metadata": {
    "execution": {
     "iopub.execute_input": "2022-05-02T16:33:40.959261Z",
     "iopub.status.busy": "2022-05-02T16:33:40.958976Z",
     "iopub.status.idle": "2022-05-02T16:33:41.006755Z",
     "shell.execute_reply": "2022-05-02T16:33:41.006203Z",
     "shell.execute_reply.started": "2022-05-02T16:33:40.959232Z"
    },
    "tags": []
   },
   "outputs": [],
   "source": [
    "valdf.to_json(\"~/INLG-shared-task/PreCogLTRC-HinglishEval-INLG-2022/dataset/valdf.json\")"
   ]
  },
  {
   "cell_type": "code",
   "execution_count": null,
   "id": "5ee7b684-f351-4d1f-ae99-21a99575e77e",
   "metadata": {},
   "outputs": [],
   "source": [
    "\n",
    "traindf[\"symcom_+1_count\"] = traindf[\"symcom_scores_pos\"].apply(count_plusone)\n",
    "traindf[\"symcom_-1_count\"] = traindf[\"symcom_scores_pos\"].apply(count_minus1)\n",
    "traindf[\"symcom_na_count\"] = traindf[\"symcom_scores_pos\"].apply(countNaN)\n",
    "traindf[\"symcom_others\"] = traindf.apply(lambda row : 14 - row[\"symcom_+1_count\"] - row[\"symcom_-1_count\"]- row[\"symcom_na_count\"] , axis = 1)\n",
    "\n",
    "\n"
   ]
  },
  {
   "cell_type": "code",
   "execution_count": null,
   "id": "62334593-4eae-4561-8518-73c7e5652431",
   "metadata": {},
   "outputs": [],
   "source": [
    "traindf.to_json(\"/home/prashantk/INLG-shared-task/PreCogLTRC-HinglishEval-INLG-2022/dataset/traindf.json\")\n",
    "valdf.to_json(\"/home/prashantk/INLG-shared-task/PreCogLTRC-HinglishEval-INLG-2022/dataset/valdf.json\")"
   ]
  }
 ],
 "metadata": {
  "kernelspec": {
   "display_name": "cm",
   "language": "python",
   "name": "cm"
  },
  "language_info": {
   "codemirror_mode": {
    "name": "ipython",
    "version": 3
   },
   "file_extension": ".py",
   "mimetype": "text/x-python",
   "name": "python",
   "nbconvert_exporter": "python",
   "pygments_lexer": "ipython3",
   "version": "3.7.10"
  },
  "toc-autonumbering": true
 },
 "nbformat": 4,
 "nbformat_minor": 5
}
